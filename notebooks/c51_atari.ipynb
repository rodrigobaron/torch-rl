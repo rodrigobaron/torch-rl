{
 "cells": [
  {
   "cell_type": "markdown",
   "id": "41aabc2e-d846-46b3-aebb-ffcf04ece369",
   "metadata": {},
   "source": [
    "# C51 - Categorical DQN\n",
    "\n",
    "This is the implementation of Categorical DQN for discrete action space using environment pixel inputs."
   ]
  },
  {
   "cell_type": "markdown",
   "id": "eb08f0a9-12b3-495a-b31c-3de241fa906e",
   "metadata": {
    "tags": []
   },
   "source": [
    "## Setup arguments"
   ]
  },
  {
   "cell_type": "code",
   "execution_count": 1,
   "id": "d55e070b-7ed3-463f-b04c-90b5cab363d1",
   "metadata": {
    "execution": {
     "iopub.execute_input": "2022-10-13T11:48:16.098475Z",
     "iopub.status.busy": "2022-10-13T11:48:16.097976Z",
     "iopub.status.idle": "2022-10-13T11:48:16.497085Z",
     "shell.execute_reply": "2022-10-13T11:48:16.496390Z",
     "shell.execute_reply.started": "2022-10-13T11:48:16.098367Z"
    },
    "tags": []
   },
   "outputs": [],
   "source": [
    "%load_ext autoreload\n",
    "%autoreload 2\n",
    "import matplotlib.pyplot as plt\n",
    "%matplotlib inline"
   ]
  },
  {
   "cell_type": "code",
   "execution_count": 2,
   "id": "04c139fc-ac39-4efa-92da-23e771cbed31",
   "metadata": {
    "execution": {
     "iopub.execute_input": "2022-10-13T11:48:16.499185Z",
     "iopub.status.busy": "2022-10-13T11:48:16.498862Z",
     "iopub.status.idle": "2022-10-13T11:48:17.333479Z",
     "shell.execute_reply": "2022-10-13T11:48:17.332816Z",
     "shell.execute_reply.started": "2022-10-13T11:48:16.499163Z"
    },
    "tags": []
   },
   "outputs": [
    {
     "data": {
      "application/vnd.jupyter.widget-view+json": {
       "model_id": "fea84981240f46468c65f94c69b6e622",
       "version_major": 2,
       "version_minor": 0
      },
      "text/plain": [
       "IntText(value=1, description='seed', tooltip='seed of the experiment')"
      ]
     },
     "metadata": {},
     "output_type": "display_data"
    },
    {
     "data": {
      "application/vnd.jupyter.widget-view+json": {
       "model_id": "a7a15eb7e90d4ac4931093f11be71f18",
       "version_major": 2,
       "version_minor": 0
      },
      "text/plain": [
       "Checkbox(value=True, description='torch-deterministic', indent=False, tooltip='if toggled, `torch.backends.cud…"
      ]
     },
     "metadata": {},
     "output_type": "display_data"
    },
    {
     "data": {
      "application/vnd.jupyter.widget-view+json": {
       "model_id": "6c10bdb0b2074f909b7f922e39946512",
       "version_major": 2,
       "version_minor": 0
      },
      "text/plain": [
       "Checkbox(value=True, description='cuda', indent=False, tooltip='if toggled, cuda will be enabled by default')"
      ]
     },
     "metadata": {},
     "output_type": "display_data"
    },
    {
     "data": {
      "application/vnd.jupyter.widget-view+json": {
       "model_id": "8ef5dab098474d53950c75c663cc4e0c",
       "version_major": 2,
       "version_minor": 0
      },
      "text/plain": [
       "Checkbox(value=False, description='capture-video', indent=False, tooltip='whether to capture videos of the age…"
      ]
     },
     "metadata": {},
     "output_type": "display_data"
    },
    {
     "data": {
      "application/vnd.jupyter.widget-view+json": {
       "model_id": "983c488dfb01483abcae1adc81afb35a",
       "version_major": 2,
       "version_minor": 0
      },
      "text/plain": [
       "Text(value='BreakoutNoFrameskip-v4', description='env-id', tooltip='the id of the environment')"
      ]
     },
     "metadata": {},
     "output_type": "display_data"
    },
    {
     "data": {
      "application/vnd.jupyter.widget-view+json": {
       "model_id": "66111f22676940a8913eeefef75b4932",
       "version_major": 2,
       "version_minor": 0
      },
      "text/plain": [
       "IntText(value=10000000, description='total-timesteps', tooltip='total timesteps of the experiments')"
      ]
     },
     "metadata": {},
     "output_type": "display_data"
    },
    {
     "data": {
      "application/vnd.jupyter.widget-view+json": {
       "model_id": "b246d7dcf0b44affb8b8e8d62e3cbf03",
       "version_major": 2,
       "version_minor": 0
      },
      "text/plain": [
       "FloatText(value=0.00025, description='learning-rate', tooltip='the learning rate of the optimizer')"
      ]
     },
     "metadata": {},
     "output_type": "display_data"
    },
    {
     "data": {
      "application/vnd.jupyter.widget-view+json": {
       "model_id": "a9ee4772bd994620bcd2dc3292b89c18",
       "version_major": 2,
       "version_minor": 0
      },
      "text/plain": [
       "IntText(value=51, description='n-atoms', tooltip='the number of atoms')"
      ]
     },
     "metadata": {},
     "output_type": "display_data"
    },
    {
     "data": {
      "application/vnd.jupyter.widget-view+json": {
       "model_id": "466ca58608e04602a69aa3ec5ee1de04",
       "version_major": 2,
       "version_minor": 0
      },
      "text/plain": [
       "IntText(value=-10, description='v-min', tooltip='minimum value')"
      ]
     },
     "metadata": {},
     "output_type": "display_data"
    },
    {
     "data": {
      "application/vnd.jupyter.widget-view+json": {
       "model_id": "935837e9bcaf460dbb5cae046f59a095",
       "version_major": 2,
       "version_minor": 0
      },
      "text/plain": [
       "IntText(value=10, description='v-max', tooltip='max value')"
      ]
     },
     "metadata": {},
     "output_type": "display_data"
    },
    {
     "data": {
      "application/vnd.jupyter.widget-view+json": {
       "model_id": "7eb774523c2844789f518c3410cd2c11",
       "version_major": 2,
       "version_minor": 0
      },
      "text/plain": [
       "IntText(value=1000000, description='buffer-size', tooltip='the replay memory buffer size')"
      ]
     },
     "metadata": {},
     "output_type": "display_data"
    },
    {
     "data": {
      "application/vnd.jupyter.widget-view+json": {
       "model_id": "b91b5e297e284fa98edb31af4c041a4d",
       "version_major": 2,
       "version_minor": 0
      },
      "text/plain": [
       "FloatText(value=0.99, description='gamma', tooltip='the discount factor gamma')"
      ]
     },
     "metadata": {},
     "output_type": "display_data"
    },
    {
     "data": {
      "application/vnd.jupyter.widget-view+json": {
       "model_id": "a176835398b640d0a69f2840cbbd0cd0",
       "version_major": 2,
       "version_minor": 0
      },
      "text/plain": [
       "IntText(value=10000, description='target-network-frequency', tooltip='the timesteps it takes to update the tar…"
      ]
     },
     "metadata": {},
     "output_type": "display_data"
    },
    {
     "data": {
      "application/vnd.jupyter.widget-view+json": {
       "model_id": "55101309a1a04eaca03989dab947b8fe",
       "version_major": 2,
       "version_minor": 0
      },
      "text/plain": [
       "IntText(value=32, description='batch-size', tooltip='the batch size of sample from the reply memory')"
      ]
     },
     "metadata": {},
     "output_type": "display_data"
    },
    {
     "data": {
      "application/vnd.jupyter.widget-view+json": {
       "model_id": "043cdea4d3eb4841a0e2edd802919611",
       "version_major": 2,
       "version_minor": 0
      },
      "text/plain": [
       "FloatText(value=1.0, description='start-e', tooltip='the starting epsilon for exploration')"
      ]
     },
     "metadata": {},
     "output_type": "display_data"
    },
    {
     "data": {
      "application/vnd.jupyter.widget-view+json": {
       "model_id": "c237f13af08a44a99585abb34d0cfc6b",
       "version_major": 2,
       "version_minor": 0
      },
      "text/plain": [
       "FloatText(value=0.01, description='end-e', tooltip='the ending epsilon for exploration')"
      ]
     },
     "metadata": {},
     "output_type": "display_data"
    },
    {
     "data": {
      "application/vnd.jupyter.widget-view+json": {
       "model_id": "37950411792645f8b29b4e23c00ca4bb",
       "version_major": 2,
       "version_minor": 0
      },
      "text/plain": [
       "FloatText(value=0.1, description='exploration-fraction', tooltip='the fraction of `total-timesteps` it takes f…"
      ]
     },
     "metadata": {},
     "output_type": "display_data"
    },
    {
     "data": {
      "application/vnd.jupyter.widget-view+json": {
       "model_id": "2f6e5c2278f94194aec70f25a8849c75",
       "version_major": 2,
       "version_minor": 0
      },
      "text/plain": [
       "IntText(value=8000, description='learning-starts', tooltip='timestep to start learning')"
      ]
     },
     "metadata": {},
     "output_type": "display_data"
    },
    {
     "data": {
      "application/vnd.jupyter.widget-view+json": {
       "model_id": "2096bc5d70fa47f7b135906f406e8901",
       "version_major": 2,
       "version_minor": 0
      },
      "text/plain": [
       "IntText(value=4, description='train-frequency', tooltip='the frequency of training')"
      ]
     },
     "metadata": {},
     "output_type": "display_data"
    }
   ],
   "source": [
    "import ipywidgets as widgets\n",
    "from IPython.display import display, clear_output, Image\n",
    "\n",
    "import time\n",
    "\n",
    "import torch\n",
    "import random\n",
    "\n",
    "from torch_rl.jupyter_utils import (\n",
    "    WidgetParser,\n",
    "    plot_metrics_notebook\n",
    ")\n",
    "\n",
    "from torch_rl.utils import (\n",
    "    seed_everything,\n",
    "    handle_terminal_ob,\n",
    "    mp4_to_gif,\n",
    "    MetricStore,\n",
    "    SPS\n",
    ")\n",
    "\n",
    "\n",
    "parser = WidgetParser()\n",
    "parser.add_widget(widgets.IntText(\n",
    "    description='seed',\n",
    "    value=1,\n",
    "    tooltip=\"seed of the experiment\"\n",
    "))\n",
    "\n",
    "parser.add_widget(widgets.Checkbox(\n",
    "    description=\"torch-deterministic\",\n",
    "    value=True,\n",
    "    disabled=False,\n",
    "    indent=False,\n",
    "    tooltip=\"if toggled, `torch.backends.cudnn.deterministic=False`\"\n",
    "))\n",
    "\n",
    "parser.add_widget(widgets.Checkbox(\n",
    "    description=\"cuda\",\n",
    "    value=True,\n",
    "    disabled=False,\n",
    "    indent=False,\n",
    "    tooltip=\"if toggled, cuda will be enabled by default\"\n",
    "))\n",
    "\n",
    "parser.add_widget(widgets.Checkbox(\n",
    "    description=\"capture-video\",\n",
    "    value=False,\n",
    "    disabled=False,\n",
    "    indent=False,\n",
    "    tooltip=\"whether to capture videos of the agent performances (check out `videos` folder)\"\n",
    "))\n",
    "\n",
    "parser.add_widget(widgets.Text(\n",
    "    description=\"env-id\",\n",
    "    value=\"BreakoutNoFrameskip-v4\",\n",
    "    tooltip=\"the id of the environment\"\n",
    "))\n",
    "\n",
    "parser.add_widget(widgets.IntText(\n",
    "    description='total-timesteps',\n",
    "    value=10000000,\n",
    "    tooltip=\"total timesteps of the experiments\"\n",
    "))\n",
    "\n",
    "parser.add_widget(widgets.FloatText(\n",
    "    description='learning-rate',\n",
    "    value=2.5e-4,\n",
    "    tooltip=\"the learning rate of the optimizer\"\n",
    "))\n",
    "\n",
    "parser.add_widget(widgets.IntText(\n",
    "    description='n-atoms',\n",
    "    value=51,\n",
    "    tooltip=\"the number of atoms\"\n",
    "))\n",
    "\n",
    "parser.add_widget(widgets.IntText(\n",
    "    description='v-min',\n",
    "    value=-10,\n",
    "    tooltip=\"minimum value\"\n",
    "))\n",
    "\n",
    "parser.add_widget(widgets.IntText(\n",
    "    description='v-max',\n",
    "    value=10,\n",
    "    tooltip=\"max value\"\n",
    "))\n",
    "\n",
    "parser.add_widget(widgets.IntText(\n",
    "    description='buffer-size',\n",
    "    value=1000000,\n",
    "    tooltip=\"the replay memory buffer size\"\n",
    "))\n",
    "\n",
    "parser.add_widget(widgets.FloatText(\n",
    "    description='gamma',\n",
    "    value=0.99,\n",
    "    tooltip=\"the discount factor gamma\"\n",
    "))\n",
    "\n",
    "parser.add_widget(widgets.IntText(\n",
    "    description='target-network-frequency',\n",
    "    value=10000,\n",
    "    tooltip=\"the timesteps it takes to update the target network\"\n",
    "))\n",
    "\n",
    "parser.add_widget(widgets.IntText(\n",
    "    description='batch-size',\n",
    "    value=32,\n",
    "    tooltip=\"the batch size of sample from the reply memory\"\n",
    "))\n",
    "\n",
    "parser.add_widget(widgets.FloatText(\n",
    "    description='start-e',\n",
    "    value=1.0,\n",
    "    tooltip=\"the starting epsilon for exploration\"\n",
    "))\n",
    "\n",
    "parser.add_widget(widgets.FloatText(\n",
    "    description='end-e',\n",
    "    value=0.01,\n",
    "    tooltip=\"the ending epsilon for exploration\"\n",
    "))\n",
    "\n",
    "parser.add_widget(widgets.FloatText(\n",
    "    description='exploration-fraction',\n",
    "    value=0.10,\n",
    "    tooltip=\"the fraction of `total-timesteps` it takes from start-e to go end-e\"\n",
    "))\n",
    "\n",
    "parser.add_widget(widgets.IntText(\n",
    "    description='learning-starts',\n",
    "    value=80000,\n",
    "    tooltip=\"timestep to start learning\"\n",
    "))\n",
    "\n",
    "parser.add_widget(widgets.IntText(\n",
    "    description='train-frequency',\n",
    "    value=4,\n",
    "    tooltip=\"the frequency of training\"\n",
    "))\n"
   ]
  },
  {
   "cell_type": "markdown",
   "id": "f93fd2dc-1acd-4a98-85ab-40141ecff47b",
   "metadata": {},
   "source": [
    "### Parse inputs"
   ]
  },
  {
   "cell_type": "code",
   "execution_count": 3,
   "id": "1b417f3a-206d-4624-85fb-62789374bb76",
   "metadata": {
    "execution": {
     "iopub.execute_input": "2022-10-13T11:48:17.334717Z",
     "iopub.status.busy": "2022-10-13T11:48:17.334378Z",
     "iopub.status.idle": "2022-10-13T11:48:17.353072Z",
     "shell.execute_reply": "2022-10-13T11:48:17.352318Z",
     "shell.execute_reply.started": "2022-10-13T11:48:17.334696Z"
    },
    "tags": []
   },
   "outputs": [
    {
     "data": {
      "text/plain": [
       "'using device cuda'"
      ]
     },
     "metadata": {},
     "output_type": "display_data"
    }
   ],
   "source": [
    "args = parser.parse()\n",
    "\n",
    "run_name = f\"{args.env_id}__c51__{args.seed}__{int(time.time())}\"\n",
    "device = torch.device(\"cuda\" if torch.cuda.is_available() and args.cuda else \"cpu\")\n",
    "seed_everything(args.seed, args.torch_deterministic)\n",
    "display(f\"using device {device}\")"
   ]
  },
  {
   "cell_type": "markdown",
   "id": "49de7812-47cd-4b73-a015-fa3bc6decb72",
   "metadata": {},
   "source": [
    "## Setup environment"
   ]
  },
  {
   "cell_type": "code",
   "execution_count": 4,
   "id": "eebc8f65-d3ba-40f5-8c0e-a6486e3e5074",
   "metadata": {
    "execution": {
     "iopub.execute_input": "2022-10-13T11:48:17.354149Z",
     "iopub.status.busy": "2022-10-13T11:48:17.353906Z",
     "iopub.status.idle": "2022-10-13T11:48:17.569641Z",
     "shell.execute_reply": "2022-10-13T11:48:17.568874Z",
     "shell.execute_reply.started": "2022-10-13T11:48:17.354127Z"
    },
    "tags": []
   },
   "outputs": [],
   "source": [
    "import gym\n",
    "\n",
    "import numpy as np\n",
    "import torch\n",
    "import torch.nn as nn\n",
    "import torch.nn.functional as F\n",
    "\n",
    "from torch_rl.atari import (\n",
    "    NoopResetEnv,\n",
    "    MaxAndSkipEnv,\n",
    "    EpisodicLifeEnv,\n",
    "    ClipRewardEnv,\n",
    "    FireResetEnv\n",
    ")\n",
    "\n",
    "\n",
    "def make_env(env_id, seed, idx, capture_video, run_name):\n",
    "    def thunk():\n",
    "        env = gym.make(env_id)\n",
    "        env = gym.wrappers.RecordEpisodeStatistics(env)\n",
    "        if capture_video:\n",
    "            if idx == 0:\n",
    "                env = gym.wrappers.RecordVideo(env, f\"videos/{run_name}\")\n",
    "        env = NoopResetEnv(env, noop_max=30)\n",
    "        env = MaxAndSkipEnv(env, skip=4)\n",
    "        env = EpisodicLifeEnv(env)\n",
    "        if \"FIRE\" in env.unwrapped.get_action_meanings():\n",
    "            env = FireResetEnv(env)\n",
    "        env = ClipRewardEnv(env)\n",
    "        env = gym.wrappers.ResizeObservation(env, (84, 84))\n",
    "        env = gym.wrappers.GrayScaleObservation(env)\n",
    "        env = gym.wrappers.FrameStack(env, 4)\n",
    "        env.seed(seed)\n",
    "        env.action_space.seed(seed)\n",
    "        env.observation_space.seed(seed)\n",
    "        return env\n",
    "\n",
    "    return thunk"
   ]
  },
  {
   "cell_type": "markdown",
   "id": "72fffc90-d838-4b3d-96f0-683ea7ddd01d",
   "metadata": {},
   "source": [
    "### Ensure environment compatibility"
   ]
  },
  {
   "cell_type": "code",
   "execution_count": 5,
   "id": "cb7cba57-366e-412e-8eb6-42b9c7fec5ad",
   "metadata": {
    "execution": {
     "iopub.execute_input": "2022-10-13T11:48:17.570827Z",
     "iopub.status.busy": "2022-10-13T11:48:17.570496Z",
     "iopub.status.idle": "2022-10-13T11:48:17.866991Z",
     "shell.execute_reply": "2022-10-13T11:48:17.866205Z",
     "shell.execute_reply.started": "2022-10-13T11:48:17.570806Z"
    },
    "tags": []
   },
   "outputs": [
    {
     "name": "stderr",
     "output_type": "stream",
     "text": [
      "A.L.E: Arcade Learning Environment (version 0.7.5+db37282)\n",
      "[Powered by Stella]\n"
     ]
    }
   ],
   "source": [
    "envs = gym.vector.SyncVectorEnv([make_env(args.env_id, args.seed, 0, args.capture_video, run_name)])\n",
    "assert isinstance(envs.single_action_space, gym.spaces.Discrete), \"only discrete action space is supported\""
   ]
  },
  {
   "cell_type": "markdown",
   "id": "6d229b6b-efac-43bd-818f-74c15f118f9b",
   "metadata": {
    "execution": {
     "iopub.execute_input": "2022-10-03T03:17:34.254488Z",
     "iopub.status.busy": "2022-10-03T03:17:34.254047Z",
     "iopub.status.idle": "2022-10-03T03:17:34.270359Z",
     "shell.execute_reply": "2022-10-03T03:17:34.269512Z",
     "shell.execute_reply.started": "2022-10-03T03:17:34.254464Z"
    }
   },
   "source": [
    "### Environment examples"
   ]
  },
  {
   "cell_type": "code",
   "execution_count": 6,
   "id": "f888da2e-94d1-4af7-992d-4e45face59bb",
   "metadata": {
    "execution": {
     "iopub.execute_input": "2022-10-13T11:48:17.868041Z",
     "iopub.status.busy": "2022-10-13T11:48:17.867825Z",
     "iopub.status.idle": "2022-10-13T11:48:18.259844Z",
     "shell.execute_reply": "2022-10-13T11:48:18.259135Z",
     "shell.execute_reply.started": "2022-10-13T11:48:17.868009Z"
    },
    "tags": []
   },
   "outputs": [
    {
     "data": {
      "image/png": "[encoded data removed]",
      "text/plain": [
       "<Figure size 640x480 with 1 Axes>"
      ]
     },
     "metadata": {},
     "output_type": "display_data"
    }
   ],
   "source": [
    "tmp_env = make_env(args.env_id, args.seed, 0, False, None)()\n",
    "ob = tmp_env.reset()\n",
    "\n",
    "plt.title(args.env_id)\n",
    "plt.imshow(tmp_env.render(\"rgb_array\"))\n",
    "plt.axis('off')\n",
    "plt.show()"
   ]
  },
  {
   "cell_type": "code",
   "execution_count": 7,
   "id": "1546dbcd-5820-40df-9b7d-528b791659ed",
   "metadata": {
    "execution": {
     "iopub.execute_input": "2022-10-13T11:48:18.262382Z",
     "iopub.status.busy": "2022-10-13T11:48:18.261633Z",
     "iopub.status.idle": "2022-10-13T11:48:18.396587Z",
     "shell.execute_reply": "2022-10-13T11:48:18.395854Z",
     "shell.execute_reply.started": "2022-10-13T11:48:18.262360Z"
    },
    "tags": []
   },
   "outputs": [
    {
     "data": {
      "image/png": "[encoded data removed]",
      "text/plain": [
       "<Figure size 640x480 with 1 Axes>"
      ]
     },
     "metadata": {},
     "output_type": "display_data"
    }
   ],
   "source": [
    "action = tmp_env.action_space.sample()\n",
    "ob, reward, done, info = tmp_env.step(action)\n",
    "plt.title(\"Agent observation (4 frames left to right)\")\n",
    "state_dim = tmp_env.observation_space.shape\n",
    "plt.imshow(np.array(tmp_env.frames).transpose([0,2,1]).reshape([-1,state_dim[1]]).transpose([1,0]))\n",
    "plt.show()"
   ]
  },
  {
   "cell_type": "markdown",
   "id": "dbff4d3f-31f5-4dd6-91fe-088bc6252fd0",
   "metadata": {},
   "source": [
    "## Modeling"
   ]
  },
  {
   "cell_type": "markdown",
   "id": "441336c2-97c3-49c9-b12a-21cfd4a06df3",
   "metadata": {},
   "source": [
    "### Define Neural Network"
   ]
  },
  {
   "cell_type": "code",
   "execution_count": 8,
   "id": "ba819a6e-0552-4d22-bcca-768c22651999",
   "metadata": {
    "execution": {
     "iopub.execute_input": "2022-10-13T11:48:18.397679Z",
     "iopub.status.busy": "2022-10-13T11:48:18.397456Z",
     "iopub.status.idle": "2022-10-13T11:48:18.419283Z",
     "shell.execute_reply": "2022-10-13T11:48:18.418543Z",
     "shell.execute_reply.started": "2022-10-13T11:48:18.397658Z"
    }
   },
   "outputs": [],
   "source": [
    "class QNetwork(nn.Module):\n",
    "    def __init__(self, env, n_atoms=101, v_min=-100, v_max=100):\n",
    "        super().__init__()\n",
    "        self.env = env\n",
    "        self.n_atoms = n_atoms\n",
    "        self.register_buffer(\"atoms\", torch.linspace(v_min, v_max, steps=n_atoms))\n",
    "        self.n = env.single_action_space.n\n",
    "        self.network = nn.Sequential(\n",
    "            nn.Conv2d(4, 32, 8, stride=4),\n",
    "            nn.ReLU(),\n",
    "            nn.Conv2d(32, 64, 4, stride=2),\n",
    "            nn.ReLU(),\n",
    "            nn.Conv2d(64, 64, 3, stride=1),\n",
    "            nn.ReLU(),\n",
    "            nn.Flatten(),\n",
    "            nn.Linear(3136, 512),\n",
    "            nn.ReLU(),\n",
    "            nn.Linear(512, self.n * n_atoms),\n",
    "        )\n",
    "\n",
    "    def get_action(self, x, action=None):\n",
    "        logits = self.network(x / 255.0)\n",
    "        # probability mass function for each action\n",
    "        pmfs = torch.softmax(logits.view(len(x), self.n, self.n_atoms), dim=2)\n",
    "        q_values = (pmfs * self.atoms).sum(2)\n",
    "        if action is None:\n",
    "            action = torch.argmax(q_values, 1)\n",
    "        return action, pmfs[torch.arange(len(x)), action]\n"
   ]
  },
  {
   "cell_type": "markdown",
   "id": "398bf469-74ef-4f94-9218-8a94369e5f70",
   "metadata": {},
   "source": [
    "### C51 training Wrapper"
   ]
  },
  {
   "cell_type": "code",
   "execution_count": 9,
   "id": "b44085d8-b1d6-47a6-9c8a-11af1566a1e0",
   "metadata": {
    "execution": {
     "iopub.execute_input": "2022-10-13T11:48:18.420434Z",
     "iopub.status.busy": "2022-10-13T11:48:18.420142Z",
     "iopub.status.idle": "2022-10-13T11:48:19.920493Z",
     "shell.execute_reply": "2022-10-13T11:48:19.919730Z",
     "shell.execute_reply.started": "2022-10-13T11:48:18.420400Z"
    },
    "tags": []
   },
   "outputs": [
    {
     "name": "stderr",
     "output_type": "stream",
     "text": [
      "/app/torch_rl/buffers.py:374: UserWarning: This system does not have apparently enough memory to store the complete replay buffer 28.24GB > 3.34GB\n",
      "  warnings.warn(\n"
     ]
    }
   ],
   "source": [
    "from torch_rl.c51 import (\n",
    "    C51,\n",
    "    C51TrainingWrapper\n",
    ")\n",
    "\n",
    "\n",
    "dqn = C51(\n",
    "    model_func=lambda: QNetwork(envs),\n",
    "    device=device\n",
    ").to(device)\n",
    "\n",
    "wrapper = C51TrainingWrapper(\n",
    "    model = dqn,\n",
    "    env=envs,\n",
    "    device=device\n",
    ")\n",
    "\n",
    "optimizer = wrapper.get_optimizer(lr=args.learning_rate, eps=0.01 / args.batch_size)\n",
    "\n",
    "rb = wrapper.get_replay_buffer(\n",
    "    buffer_size=args.buffer_size,\n",
    "    optimize_memory_usage=True\n",
    ")"
   ]
  },
  {
   "cell_type": "markdown",
   "id": "ce5fbef7-e6ed-4a75-8874-2c22e784abbe",
   "metadata": {},
   "source": [
    "### Setup plots"
   ]
  },
  {
   "cell_type": "code",
   "execution_count": 10,
   "id": "89f00ff7-9e01-4fe9-90e0-4222d4e2a59e",
   "metadata": {
    "execution": {
     "iopub.execute_input": "2022-10-13T11:48:19.921523Z",
     "iopub.status.busy": "2022-10-13T11:48:19.921309Z",
     "iopub.status.idle": "2022-10-13T11:48:19.942346Z",
     "shell.execute_reply": "2022-10-13T11:48:19.941591Z",
     "shell.execute_reply.started": "2022-10-13T11:48:19.921503Z"
    },
    "tags": []
   },
   "outputs": [],
   "source": [
    "from torch_rl.utils import SPS\n",
    "def log_env_metrics(ms, step, infos):\n",
    "    for info in infos:\n",
    "        if \"episode\" in info.keys():\n",
    "            ms.log_metric(\"episodic_return\", info[\"episode\"][\"r\"], step=step)\n",
    "            ms.log_metric(\"episodic_length\", info[\"episode\"][\"l\"], step=step)\n",
    "\n",
    "\n",
    "def plot_metric(global_step, ms, sps, show_model_metrics=True):\n",
    "    env_metric_list = [\"episodic_return\", \"episodic_length\"]\n",
    "    model_metric_list = [\"q_values\", \"loss\"]\n",
    "    env_color_list = [\"blue\", \"black\"]\n",
    "    model_color_list = [\"green\", \"red\"]\n",
    "    if show_model_metrics:\n",
    "        metric_list = env_metric_list + model_metric_list\n",
    "        color_list = env_color_list + model_color_list\n",
    "    else:\n",
    "        metric_list = env_metric_list\n",
    "        color_list = env_color_list\n",
    "\n",
    "    sps.step(global_step)\n",
    "    plot_metrics_notebook(ms, metric_list, color_list, sps=sps)"
   ]
  },
  {
   "cell_type": "markdown",
   "id": "6525ae9e-6d5b-49d0-896e-3379315f2477",
   "metadata": {
    "execution": {
     "iopub.execute_input": "2022-10-06T13:56:17.044309Z",
     "iopub.status.busy": "2022-10-06T13:56:17.043895Z",
     "iopub.status.idle": "2022-10-06T13:56:17.065030Z",
     "shell.execute_reply": "2022-10-06T13:56:17.064326Z",
     "shell.execute_reply.started": "2022-10-06T13:56:17.044259Z"
    },
    "tags": []
   },
   "source": [
    "### C51 training loop"
   ]
  },
  {
   "cell_type": "code",
   "execution_count": 11,
   "id": "684d7d00-db34-41d0-851a-e1f0ff1705e0",
   "metadata": {
    "execution": {
     "iopub.execute_input": "2022-10-13T11:48:19.943598Z",
     "iopub.status.busy": "2022-10-13T11:48:19.943331Z",
     "iopub.status.idle": "2022-10-13T11:54:03.494944Z",
     "shell.execute_reply": "2022-10-13T11:54:03.491387Z",
     "shell.execute_reply.started": "2022-10-13T11:48:19.943575Z"
    },
    "tags": []
   },
   "outputs": [
    {
     "name": "stdout",
     "output_type": "stream",
     "text": [
      "01% processed at 315 SPS. Remaining: 8 hour(s), 43 minute(s), 48 second(s) \n",
      "\n"
     ]
    },
    {
     "data": {
      "image/png": "[encoded data removed]",
      "text/plain": [
       "<Figure size 640x480 with 4 Axes>"
      ]
     },
     "metadata": {},
     "output_type": "display_data"
    },
    {
     "ename": "KeyboardInterrupt",
     "evalue": "",
     "output_type": "error",
     "traceback": [
      "\u001b[0;31m---------------------------------------------------------------------------\u001b[0m",
      "\u001b[0;31mKeyboardInterrupt\u001b[0m                         Traceback (most recent call last)",
      "Cell \u001b[0;32mIn [11], line 19\u001b[0m\n\u001b[1;32m     16\u001b[0m     actions, pmf \u001b[38;5;241m=\u001b[39m dqn\u001b[38;5;241m.\u001b[39mget_q_action(torch\u001b[38;5;241m.\u001b[39mTensor(obs)\u001b[38;5;241m.\u001b[39mto(device))\n\u001b[1;32m     17\u001b[0m     actions \u001b[38;5;241m=\u001b[39m actions\u001b[38;5;241m.\u001b[39mcpu()\u001b[38;5;241m.\u001b[39mnumpy()\n\u001b[0;32m---> 19\u001b[0m next_obs, rewards, dones, infos \u001b[38;5;241m=\u001b[39m \u001b[43menvs\u001b[49m\u001b[38;5;241;43m.\u001b[39;49m\u001b[43mstep\u001b[49m\u001b[43m(\u001b[49m\u001b[43mactions\u001b[49m\u001b[43m)\u001b[49m\n\u001b[1;32m     21\u001b[0m next_real_obs \u001b[38;5;241m=\u001b[39m handle_terminal_ob(next_obs, dones, infos)\n\u001b[1;32m     22\u001b[0m rb\u001b[38;5;241m.\u001b[39madd(obs, next_real_obs, actions, rewards, dones)\n",
      "File \u001b[0;32m/usr/local/lib/python3.8/dist-packages/gym/vector/vector_env.py:94\u001b[0m, in \u001b[0;36mVectorEnv.step\u001b[0;34m(self, actions)\u001b[0m\n\u001b[1;32m     71\u001b[0m \u001b[38;5;124mr\u001b[39m\u001b[38;5;124;03m\"\"\"Take an action for each sub-environments.\u001b[39;00m\n\u001b[1;32m     72\u001b[0m \n\u001b[1;32m     73\u001b[0m \u001b[38;5;124;03mParameters\u001b[39;00m\n\u001b[0;32m   (...)\u001b[0m\n\u001b[1;32m     90\u001b[0m \u001b[38;5;124;03m    A list of auxiliary diagnostic information dicts from sub-environments.\u001b[39;00m\n\u001b[1;32m     91\u001b[0m \u001b[38;5;124;03m\"\"\"\u001b[39;00m\n\u001b[1;32m     93\u001b[0m \u001b[38;5;28mself\u001b[39m\u001b[38;5;241m.\u001b[39mstep_async(actions)\n\u001b[0;32m---> 94\u001b[0m \u001b[38;5;28;01mreturn\u001b[39;00m \u001b[38;5;28;43mself\u001b[39;49m\u001b[38;5;241;43m.\u001b[39;49m\u001b[43mstep_wait\u001b[49m\u001b[43m(\u001b[49m\u001b[43m)\u001b[49m\n",
      "File \u001b[0;32m/usr/local/lib/python3.8/dist-packages/gym/vector/sync_vector_env.py:85\u001b[0m, in \u001b[0;36mSyncVectorEnv.step_wait\u001b[0;34m(self)\u001b[0m\n\u001b[1;32m     83\u001b[0m observation, \u001b[38;5;28mself\u001b[39m\u001b[38;5;241m.\u001b[39m_rewards[i], \u001b[38;5;28mself\u001b[39m\u001b[38;5;241m.\u001b[39m_dones[i], info \u001b[38;5;241m=\u001b[39m env\u001b[38;5;241m.\u001b[39mstep(action)\n\u001b[1;32m     84\u001b[0m \u001b[38;5;28;01mif\u001b[39;00m \u001b[38;5;28mself\u001b[39m\u001b[38;5;241m.\u001b[39m_dones[i]:\n\u001b[0;32m---> 85\u001b[0m     observation \u001b[38;5;241m=\u001b[39m \u001b[43menv\u001b[49m\u001b[38;5;241;43m.\u001b[39;49m\u001b[43mreset\u001b[49m\u001b[43m(\u001b[49m\u001b[43m)\u001b[49m\n\u001b[1;32m     86\u001b[0m observations\u001b[38;5;241m.\u001b[39mappend(observation)\n\u001b[1;32m     87\u001b[0m infos\u001b[38;5;241m.\u001b[39mappend(info)\n",
      "File \u001b[0;32m/usr/local/lib/python3.8/dist-packages/gym/wrappers/frame_stack.py:120\u001b[0m, in \u001b[0;36mFrameStack.reset\u001b[0;34m(self, **kwargs)\u001b[0m\n\u001b[1;32m    119\u001b[0m \u001b[38;5;28;01mdef\u001b[39;00m \u001b[38;5;21mreset\u001b[39m(\u001b[38;5;28mself\u001b[39m, \u001b[38;5;241m*\u001b[39m\u001b[38;5;241m*\u001b[39mkwargs):\n\u001b[0;32m--> 120\u001b[0m     observation \u001b[38;5;241m=\u001b[39m \u001b[38;5;28;43mself\u001b[39;49m\u001b[38;5;241;43m.\u001b[39;49m\u001b[43menv\u001b[49m\u001b[38;5;241;43m.\u001b[39;49m\u001b[43mreset\u001b[49m\u001b[43m(\u001b[49m\u001b[38;5;241;43m*\u001b[39;49m\u001b[38;5;241;43m*\u001b[39;49m\u001b[43mkwargs\u001b[49m\u001b[43m)\u001b[49m\n\u001b[1;32m    121\u001b[0m     [\u001b[38;5;28mself\u001b[39m\u001b[38;5;241m.\u001b[39mframes\u001b[38;5;241m.\u001b[39mappend(observation) \u001b[38;5;28;01mfor\u001b[39;00m _ \u001b[38;5;129;01min\u001b[39;00m \u001b[38;5;28mrange\u001b[39m(\u001b[38;5;28mself\u001b[39m\u001b[38;5;241m.\u001b[39mnum_stack)]\n\u001b[1;32m    122\u001b[0m     \u001b[38;5;28;01mreturn\u001b[39;00m \u001b[38;5;28mself\u001b[39m\u001b[38;5;241m.\u001b[39mobservation()\n",
      "File \u001b[0;32m/usr/local/lib/python3.8/dist-packages/gym/core.py:319\u001b[0m, in \u001b[0;36mObservationWrapper.reset\u001b[0;34m(self, **kwargs)\u001b[0m\n\u001b[1;32m    318\u001b[0m \u001b[38;5;28;01mdef\u001b[39;00m \u001b[38;5;21mreset\u001b[39m(\u001b[38;5;28mself\u001b[39m, \u001b[38;5;241m*\u001b[39m\u001b[38;5;241m*\u001b[39mkwargs):\n\u001b[0;32m--> 319\u001b[0m     observation \u001b[38;5;241m=\u001b[39m \u001b[38;5;28;43mself\u001b[39;49m\u001b[38;5;241;43m.\u001b[39;49m\u001b[43menv\u001b[49m\u001b[38;5;241;43m.\u001b[39;49m\u001b[43mreset\u001b[49m\u001b[43m(\u001b[49m\u001b[38;5;241;43m*\u001b[39;49m\u001b[38;5;241;43m*\u001b[39;49m\u001b[43mkwargs\u001b[49m\u001b[43m)\u001b[49m\n\u001b[1;32m    320\u001b[0m     \u001b[38;5;28;01mreturn\u001b[39;00m \u001b[38;5;28mself\u001b[39m\u001b[38;5;241m.\u001b[39mobservation(observation)\n",
      "File \u001b[0;32m/usr/local/lib/python3.8/dist-packages/gym/core.py:319\u001b[0m, in \u001b[0;36mObservationWrapper.reset\u001b[0;34m(self, **kwargs)\u001b[0m\n\u001b[1;32m    318\u001b[0m \u001b[38;5;28;01mdef\u001b[39;00m \u001b[38;5;21mreset\u001b[39m(\u001b[38;5;28mself\u001b[39m, \u001b[38;5;241m*\u001b[39m\u001b[38;5;241m*\u001b[39mkwargs):\n\u001b[0;32m--> 319\u001b[0m     observation \u001b[38;5;241m=\u001b[39m \u001b[38;5;28;43mself\u001b[39;49m\u001b[38;5;241;43m.\u001b[39;49m\u001b[43menv\u001b[49m\u001b[38;5;241;43m.\u001b[39;49m\u001b[43mreset\u001b[49m\u001b[43m(\u001b[49m\u001b[38;5;241;43m*\u001b[39;49m\u001b[38;5;241;43m*\u001b[39;49m\u001b[43mkwargs\u001b[49m\u001b[43m)\u001b[49m\n\u001b[1;32m    320\u001b[0m     \u001b[38;5;28;01mreturn\u001b[39;00m \u001b[38;5;28mself\u001b[39m\u001b[38;5;241m.\u001b[39mobservation(observation)\n",
      "File \u001b[0;32m/usr/local/lib/python3.8/dist-packages/gym/core.py:333\u001b[0m, in \u001b[0;36mRewardWrapper.reset\u001b[0;34m(self, **kwargs)\u001b[0m\n\u001b[1;32m    332\u001b[0m \u001b[38;5;28;01mdef\u001b[39;00m \u001b[38;5;21mreset\u001b[39m(\u001b[38;5;28mself\u001b[39m, \u001b[38;5;241m*\u001b[39m\u001b[38;5;241m*\u001b[39mkwargs):\n\u001b[0;32m--> 333\u001b[0m     \u001b[38;5;28;01mreturn\u001b[39;00m \u001b[38;5;28;43mself\u001b[39;49m\u001b[38;5;241;43m.\u001b[39;49m\u001b[43menv\u001b[49m\u001b[38;5;241;43m.\u001b[39;49m\u001b[43mreset\u001b[49m\u001b[43m(\u001b[49m\u001b[38;5;241;43m*\u001b[39;49m\u001b[38;5;241;43m*\u001b[39;49m\u001b[43mkwargs\u001b[49m\u001b[43m)\u001b[49m\n",
      "File \u001b[0;32m/app/torch_rl/atari.py:110\u001b[0m, in \u001b[0;36mFireResetEnv.reset\u001b[0;34m(self, **kwargs)\u001b[0m\n\u001b[1;32m    109\u001b[0m \u001b[38;5;28;01mdef\u001b[39;00m \u001b[38;5;21mreset\u001b[39m(\u001b[38;5;28mself\u001b[39m, \u001b[38;5;241m*\u001b[39m\u001b[38;5;241m*\u001b[39mkwargs):\n\u001b[0;32m--> 110\u001b[0m     \u001b[38;5;28;43mself\u001b[39;49m\u001b[38;5;241;43m.\u001b[39;49m\u001b[43menv\u001b[49m\u001b[38;5;241;43m.\u001b[39;49m\u001b[43mreset\u001b[49m\u001b[43m(\u001b[49m\u001b[38;5;241;43m*\u001b[39;49m\u001b[38;5;241;43m*\u001b[39;49m\u001b[43mkwargs\u001b[49m\u001b[43m)\u001b[49m\n\u001b[1;32m    111\u001b[0m     obs, _, done, _ \u001b[38;5;241m=\u001b[39m \u001b[38;5;28mself\u001b[39m\u001b[38;5;241m.\u001b[39menv\u001b[38;5;241m.\u001b[39mstep(\u001b[38;5;241m1\u001b[39m)\n\u001b[1;32m    112\u001b[0m     \u001b[38;5;28;01mif\u001b[39;00m done:\n",
      "File \u001b[0;32m/app/torch_rl/atari.py:97\u001b[0m, in \u001b[0;36mEpisodicLifeEnv.reset\u001b[0;34m(self, **kwargs)\u001b[0m\n\u001b[1;32m     94\u001b[0m     obs \u001b[38;5;241m=\u001b[39m \u001b[38;5;28mself\u001b[39m\u001b[38;5;241m.\u001b[39menv\u001b[38;5;241m.\u001b[39mreset(\u001b[38;5;241m*\u001b[39m\u001b[38;5;241m*\u001b[39mkwargs)\n\u001b[1;32m     95\u001b[0m \u001b[38;5;28;01melse\u001b[39;00m:\n\u001b[1;32m     96\u001b[0m     \u001b[38;5;66;03m# no-op step to advance from terminal/lost life state\u001b[39;00m\n\u001b[0;32m---> 97\u001b[0m     obs, _, _, _ \u001b[38;5;241m=\u001b[39m \u001b[38;5;28;43mself\u001b[39;49m\u001b[38;5;241;43m.\u001b[39;49m\u001b[43menv\u001b[49m\u001b[38;5;241;43m.\u001b[39;49m\u001b[43mstep\u001b[49m\u001b[43m(\u001b[49m\u001b[38;5;241;43m0\u001b[39;49m\u001b[43m)\u001b[49m\n\u001b[1;32m     98\u001b[0m \u001b[38;5;28mself\u001b[39m\u001b[38;5;241m.\u001b[39mlives \u001b[38;5;241m=\u001b[39m \u001b[38;5;28mself\u001b[39m\u001b[38;5;241m.\u001b[39menv\u001b[38;5;241m.\u001b[39munwrapped\u001b[38;5;241m.\u001b[39male\u001b[38;5;241m.\u001b[39mlives()\n\u001b[1;32m     99\u001b[0m \u001b[38;5;28;01mreturn\u001b[39;00m obs\n",
      "File \u001b[0;32m/app/torch_rl/atari.py:49\u001b[0m, in \u001b[0;36mMaxAndSkipEnv.step\u001b[0;34m(self, action)\u001b[0m\n\u001b[1;32m     47\u001b[0m done \u001b[38;5;241m=\u001b[39m \u001b[38;5;28;01mNone\u001b[39;00m\n\u001b[1;32m     48\u001b[0m \u001b[38;5;28;01mfor\u001b[39;00m i \u001b[38;5;129;01min\u001b[39;00m \u001b[38;5;28mrange\u001b[39m(\u001b[38;5;28mself\u001b[39m\u001b[38;5;241m.\u001b[39m_skip):\n\u001b[0;32m---> 49\u001b[0m     obs, reward, done, info \u001b[38;5;241m=\u001b[39m \u001b[38;5;28;43mself\u001b[39;49m\u001b[38;5;241;43m.\u001b[39;49m\u001b[43menv\u001b[49m\u001b[38;5;241;43m.\u001b[39;49m\u001b[43mstep\u001b[49m\u001b[43m(\u001b[49m\u001b[43maction\u001b[49m\u001b[43m)\u001b[49m\n\u001b[1;32m     50\u001b[0m     \u001b[38;5;28;01mif\u001b[39;00m i \u001b[38;5;241m==\u001b[39m \u001b[38;5;28mself\u001b[39m\u001b[38;5;241m.\u001b[39m_skip \u001b[38;5;241m-\u001b[39m \u001b[38;5;241m2\u001b[39m: \u001b[38;5;28mself\u001b[39m\u001b[38;5;241m.\u001b[39m_obs_buffer[\u001b[38;5;241m0\u001b[39m] \u001b[38;5;241m=\u001b[39m obs\n\u001b[1;32m     51\u001b[0m     \u001b[38;5;28;01mif\u001b[39;00m i \u001b[38;5;241m==\u001b[39m \u001b[38;5;28mself\u001b[39m\u001b[38;5;241m.\u001b[39m_skip \u001b[38;5;241m-\u001b[39m \u001b[38;5;241m1\u001b[39m: \u001b[38;5;28mself\u001b[39m\u001b[38;5;241m.\u001b[39m_obs_buffer[\u001b[38;5;241m1\u001b[39m] \u001b[38;5;241m=\u001b[39m obs\n",
      "File \u001b[0;32m/app/torch_rl/atari.py:33\u001b[0m, in \u001b[0;36mNoopResetEnv.step\u001b[0;34m(self, ac)\u001b[0m\n\u001b[1;32m     32\u001b[0m \u001b[38;5;28;01mdef\u001b[39;00m \u001b[38;5;21mstep\u001b[39m(\u001b[38;5;28mself\u001b[39m, ac):\n\u001b[0;32m---> 33\u001b[0m     \u001b[38;5;28;01mreturn\u001b[39;00m \u001b[38;5;28;43mself\u001b[39;49m\u001b[38;5;241;43m.\u001b[39;49m\u001b[43menv\u001b[49m\u001b[38;5;241;43m.\u001b[39;49m\u001b[43mstep\u001b[49m\u001b[43m(\u001b[49m\u001b[43mac\u001b[49m\u001b[43m)\u001b[49m\n",
      "File \u001b[0;32m/usr/local/lib/python3.8/dist-packages/gym/wrappers/record_episode_statistics.py:26\u001b[0m, in \u001b[0;36mRecordEpisodeStatistics.step\u001b[0;34m(self, action)\u001b[0m\n\u001b[1;32m     25\u001b[0m \u001b[38;5;28;01mdef\u001b[39;00m \u001b[38;5;21mstep\u001b[39m(\u001b[38;5;28mself\u001b[39m, action):\n\u001b[0;32m---> 26\u001b[0m     observations, rewards, dones, infos \u001b[38;5;241m=\u001b[39m \u001b[38;5;28;43msuper\u001b[39;49m\u001b[43m(\u001b[49m\u001b[43mRecordEpisodeStatistics\u001b[49m\u001b[43m,\u001b[49m\u001b[43m \u001b[49m\u001b[38;5;28;43mself\u001b[39;49m\u001b[43m)\u001b[49m\u001b[38;5;241;43m.\u001b[39;49m\u001b[43mstep\u001b[49m\u001b[43m(\u001b[49m\n\u001b[1;32m     27\u001b[0m \u001b[43m        \u001b[49m\u001b[43maction\u001b[49m\n\u001b[1;32m     28\u001b[0m \u001b[43m    \u001b[49m\u001b[43m)\u001b[49m\n\u001b[1;32m     29\u001b[0m     \u001b[38;5;28mself\u001b[39m\u001b[38;5;241m.\u001b[39mepisode_returns \u001b[38;5;241m+\u001b[39m\u001b[38;5;241m=\u001b[39m rewards\n\u001b[1;32m     30\u001b[0m     \u001b[38;5;28mself\u001b[39m\u001b[38;5;241m.\u001b[39mepisode_lengths \u001b[38;5;241m+\u001b[39m\u001b[38;5;241m=\u001b[39m \u001b[38;5;241m1\u001b[39m\n",
      "File \u001b[0;32m/usr/local/lib/python3.8/dist-packages/gym/core.py:289\u001b[0m, in \u001b[0;36mWrapper.step\u001b[0;34m(self, action)\u001b[0m\n\u001b[1;32m    288\u001b[0m \u001b[38;5;28;01mdef\u001b[39;00m \u001b[38;5;21mstep\u001b[39m(\u001b[38;5;28mself\u001b[39m, action):\n\u001b[0;32m--> 289\u001b[0m     \u001b[38;5;28;01mreturn\u001b[39;00m \u001b[38;5;28;43mself\u001b[39;49m\u001b[38;5;241;43m.\u001b[39;49m\u001b[43menv\u001b[49m\u001b[38;5;241;43m.\u001b[39;49m\u001b[43mstep\u001b[49m\u001b[43m(\u001b[49m\u001b[43maction\u001b[49m\u001b[43m)\u001b[49m\n",
      "File \u001b[0;32m/usr/local/lib/python3.8/dist-packages/gym/wrappers/time_limit.py:18\u001b[0m, in \u001b[0;36mTimeLimit.step\u001b[0;34m(self, action)\u001b[0m\n\u001b[1;32m     14\u001b[0m \u001b[38;5;28;01mdef\u001b[39;00m \u001b[38;5;21mstep\u001b[39m(\u001b[38;5;28mself\u001b[39m, action):\n\u001b[1;32m     15\u001b[0m     \u001b[38;5;28;01massert\u001b[39;00m (\n\u001b[1;32m     16\u001b[0m         \u001b[38;5;28mself\u001b[39m\u001b[38;5;241m.\u001b[39m_elapsed_steps \u001b[38;5;129;01mis\u001b[39;00m \u001b[38;5;129;01mnot\u001b[39;00m \u001b[38;5;28;01mNone\u001b[39;00m\n\u001b[1;32m     17\u001b[0m     ), \u001b[38;5;124m\"\u001b[39m\u001b[38;5;124mCannot call env.step() before calling reset()\u001b[39m\u001b[38;5;124m\"\u001b[39m\n\u001b[0;32m---> 18\u001b[0m     observation, reward, done, info \u001b[38;5;241m=\u001b[39m \u001b[38;5;28;43mself\u001b[39;49m\u001b[38;5;241;43m.\u001b[39;49m\u001b[43menv\u001b[49m\u001b[38;5;241;43m.\u001b[39;49m\u001b[43mstep\u001b[49m\u001b[43m(\u001b[49m\u001b[43maction\u001b[49m\u001b[43m)\u001b[49m\n\u001b[1;32m     19\u001b[0m     \u001b[38;5;28mself\u001b[39m\u001b[38;5;241m.\u001b[39m_elapsed_steps \u001b[38;5;241m+\u001b[39m\u001b[38;5;241m=\u001b[39m \u001b[38;5;241m1\u001b[39m\n\u001b[1;32m     20\u001b[0m     \u001b[38;5;28;01mif\u001b[39;00m \u001b[38;5;28mself\u001b[39m\u001b[38;5;241m.\u001b[39m_elapsed_steps \u001b[38;5;241m>\u001b[39m\u001b[38;5;241m=\u001b[39m \u001b[38;5;28mself\u001b[39m\u001b[38;5;241m.\u001b[39m_max_episode_steps:\n",
      "File \u001b[0;32m/usr/local/lib/python3.8/dist-packages/gym/envs/atari/environment.py:238\u001b[0m, in \u001b[0;36mAtariEnv.step\u001b[0;34m(self, action_ind)\u001b[0m\n\u001b[1;32m    236\u001b[0m reward \u001b[38;5;241m=\u001b[39m \u001b[38;5;241m0.0\u001b[39m\n\u001b[1;32m    237\u001b[0m \u001b[38;5;28;01mfor\u001b[39;00m _ \u001b[38;5;129;01min\u001b[39;00m \u001b[38;5;28mrange\u001b[39m(frameskip):\n\u001b[0;32m--> 238\u001b[0m     reward \u001b[38;5;241m+\u001b[39m\u001b[38;5;241m=\u001b[39m \u001b[38;5;28;43mself\u001b[39;49m\u001b[38;5;241;43m.\u001b[39;49m\u001b[43male\u001b[49m\u001b[38;5;241;43m.\u001b[39;49m\u001b[43mact\u001b[49m\u001b[43m(\u001b[49m\u001b[43maction\u001b[49m\u001b[43m)\u001b[49m\n\u001b[1;32m    240\u001b[0m \u001b[38;5;28;01mreturn\u001b[39;00m \u001b[38;5;28mself\u001b[39m\u001b[38;5;241m.\u001b[39m_get_obs(), reward, terminal, \u001b[38;5;28mself\u001b[39m\u001b[38;5;241m.\u001b[39m_get_info()\n",
      "\u001b[0;31mKeyboardInterrupt\u001b[0m: "
     ]
    }
   ],
   "source": [
    "ms = MetricStore()\n",
    "sps = SPS(args.total_timesteps)\n",
    "obs = envs.reset()\n",
    "for global_step in range(args.total_timesteps):\n",
    "    epsilon = wrapper.linear_schedule(\n",
    "        args.start_e,\n",
    "        args.end_e,\n",
    "        args.exploration_fraction * args.total_timesteps,\n",
    "        global_step\n",
    "    )\n",
    "\n",
    "    if random.random() < epsilon:\n",
    "        actions = np.array([envs.single_action_space.sample()\n",
    "                            for _ in range(envs.num_envs)])\n",
    "    else:\n",
    "        actions, pmf = dqn.get_q_action(torch.Tensor(obs).to(device))\n",
    "        actions = actions.cpu().numpy()\n",
    "\n",
    "    next_obs, rewards, dones, infos = envs.step(actions)\n",
    "\n",
    "    next_real_obs = handle_terminal_ob(next_obs, dones, infos)\n",
    "    rb.add(obs, next_real_obs, actions, rewards, dones)\n",
    "    obs = next_obs\n",
    "\n",
    "    log_env_metrics(ms, global_step, infos)\n",
    "\n",
    "    if global_step > args.learning_starts and global_step % args.train_frequency == 0:\n",
    "        data = rb.sample(args.batch_size)\n",
    "        q_values, loss = wrapper.train_step(data, gamma=args.gamma, n_atoms=args.n_atoms, v_min=args.v_min, v_max=args.v_max)\n",
    "\n",
    "        if global_step % 100 == 0:\n",
    "            ms.log_metric(\"q_values\", q_values.mean().item(), step=global_step)\n",
    "            ms.log_metric(\"loss\", loss, step=global_step)\n",
    "\n",
    "        optimizer.zero_grad()\n",
    "        loss.backward()\n",
    "        optimizer.step()\n",
    "\n",
    "        if global_step % args.target_network_frequency == 0:\n",
    "            dqn.update_target_network()\n",
    "\n",
    "    if global_step > 0 and global_step % 10000 == 0:\n",
    "        plot_metric(global_step, ms, sps, global_step > args.learning_starts)\n",
    "\n",
    "envs.close()"
   ]
  },
  {
   "cell_type": "markdown",
   "id": "bd5908d7-ddb1-4f54-bebc-280b7e438fbf",
   "metadata": {},
   "source": [
    "## Evaluation"
   ]
  },
  {
   "cell_type": "code",
   "execution_count": null,
   "id": "becc5b71-4e81-448b-bc84-6e6c823a2bf5",
   "metadata": {
    "execution": {
     "iopub.status.busy": "2022-10-13T11:54:03.495774Z",
     "iopub.status.idle": "2022-10-13T11:54:03.496166Z",
     "shell.execute_reply": "2022-10-13T11:54:03.496035Z",
     "shell.execute_reply.started": "2022-10-13T11:54:03.496021Z"
    },
    "tags": []
   },
   "outputs": [],
   "source": [
    "run_test_name = f\"test-{run_name}\"\n",
    "test_env = make_env(args.env_id, args.seed, 0, True, run_test_name)()\n",
    "\n",
    "ob = test_env.reset()\n",
    "while True:\n",
    "    action = dqn(torch.Tensor(np.array([ob])).to(device)).cpu().numpy()[0]\n",
    "    ob, reward, done, info = test_env.step(action)\n",
    "    if done:\n",
    "        print(f'episodic_return={info[\"episode\"][\"r\"]}, episodic_length={info[\"episode\"][\"l\"]}')\n",
    "        break\n"
   ]
  },
  {
   "cell_type": "markdown",
   "id": "075734a3-6145-43dc-90a9-7fe28d62eb43",
   "metadata": {
    "execution": {
     "iopub.execute_input": "2022-10-04T22:06:05.802908Z",
     "iopub.status.busy": "2022-10-04T22:06:05.802340Z",
     "iopub.status.idle": "2022-10-04T22:06:05.827471Z",
     "shell.execute_reply": "2022-10-04T22:06:05.826771Z",
     "shell.execute_reply.started": "2022-10-04T22:06:05.802857Z"
    }
   },
   "source": [
    "### Display full evaluation"
   ]
  },
  {
   "cell_type": "code",
   "execution_count": null,
   "id": "d74d7689-6cbd-400e-bb7f-547e9c2d73fa",
   "metadata": {
    "execution": {
     "iopub.status.busy": "2022-10-13T11:54:03.497342Z",
     "iopub.status.idle": "2022-10-13T11:54:03.497723Z",
     "shell.execute_reply": "2022-10-13T11:54:03.497598Z",
     "shell.execute_reply.started": "2022-10-13T11:54:03.497584Z"
    },
    "tags": []
   },
   "outputs": [],
   "source": [
    "mp4_path = f\"videos/{run_test_name}/rl-video-episode-0.mp4\"\n",
    "gif_path = f\"images/c51_atari_test.gif\"\n",
    "\n",
    "mp4_to_gif(mp4_path, gif_path)\n",
    "Image(url=gif_path, width=500, height=500)"
   ]
  },
  {
   "cell_type": "code",
   "execution_count": null,
   "id": "145ce381-a373-48bf-b9a6-c17bfe021dfb",
   "metadata": {},
   "outputs": [],
   "source": []
  }
 ],
 "metadata": {
  "kernelspec": {
   "display_name": "Python 3 (ipykernel)",
   "language": "python",
   "name": "python3"
  },
  "language_info": {
   "codemirror_mode": {
    "name": "ipython",
    "version": 3
   },
   "file_extension": ".py",
   "mimetype": "text/x-python",
   "name": "python",
   "nbconvert_exporter": "python",
   "pygments_lexer": "ipython3",
   "version": "3.8.10"
  }
 },
 "nbformat": 4,
 "nbformat_minor": 5
}
