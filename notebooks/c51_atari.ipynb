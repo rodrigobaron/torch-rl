{
 "cells": [
  {
   "cell_type": "markdown",
   "id": "41aabc2e-d846-46b3-aebb-ffcf04ece369",
   "metadata": {},
   "source": [
    "# C51 - Categorical DQN\n",
    "\n",
    "This is the implementation of Categorical DQN for discrete action space using environment pixel inputs."
   ]
  },
  {
   "cell_type": "markdown",
   "id": "eb08f0a9-12b3-495a-b31c-3de241fa906e",
   "metadata": {
    "tags": []
   },
   "source": [
    "## Setup arguments"
   ]
  },
  {
   "cell_type": "code",
   "execution_count": 1,
   "id": "d55e070b-7ed3-463f-b04c-90b5cab363d1",
   "metadata": {
    "execution": {
     "iopub.execute_input": "2022-10-11T12:31:18.640686Z",
     "iopub.status.busy": "2022-10-11T12:31:18.640408Z",
     "iopub.status.idle": "2022-10-11T12:31:19.033971Z",
     "shell.execute_reply": "2022-10-11T12:31:19.033336Z",
     "shell.execute_reply.started": "2022-10-11T12:31:18.640632Z"
    },
    "tags": []
   },
   "outputs": [],
   "source": [
    "%load_ext autoreload\n",
    "%autoreload 2\n",
    "import matplotlib.pyplot as plt\n",
    "%matplotlib inline"
   ]
  },
  {
   "cell_type": "code",
   "execution_count": 2,
   "id": "04c139fc-ac39-4efa-92da-23e771cbed31",
   "metadata": {
    "execution": {
     "iopub.execute_input": "2022-10-11T12:31:19.035728Z",
     "iopub.status.busy": "2022-10-11T12:31:19.035458Z",
     "iopub.status.idle": "2022-10-11T12:31:19.851557Z",
     "shell.execute_reply": "2022-10-11T12:31:19.850852Z",
     "shell.execute_reply.started": "2022-10-11T12:31:19.035709Z"
    },
    "tags": []
   },
   "outputs": [
    {
     "data": {
      "application/vnd.jupyter.widget-view+json": {
       "model_id": "7a5c84a2f9b64a98b0f0fa7378e845b7",
       "version_major": 2,
       "version_minor": 0
      },
      "text/plain": [
       "IntText(value=1, description='seed', tooltip='seed of the experiment')"
      ]
     },
     "metadata": {},
     "output_type": "display_data"
    },
    {
     "data": {
      "application/vnd.jupyter.widget-view+json": {
       "model_id": "ec58013fd92840f6abeb6626a43e95a1",
       "version_major": 2,
       "version_minor": 0
      },
      "text/plain": [
       "Checkbox(value=True, description='torch-deterministic', indent=False, tooltip='if toggled, `torch.backends.cud…"
      ]
     },
     "metadata": {},
     "output_type": "display_data"
    },
    {
     "data": {
      "application/vnd.jupyter.widget-view+json": {
       "model_id": "77f67cb10be54e1088a8bee92990f80c",
       "version_major": 2,
       "version_minor": 0
      },
      "text/plain": [
       "Checkbox(value=True, description='cuda', indent=False, tooltip='if toggled, cuda will be enabled by default')"
      ]
     },
     "metadata": {},
     "output_type": "display_data"
    },
    {
     "data": {
      "application/vnd.jupyter.widget-view+json": {
       "model_id": "241a26317c104c1294de9141adcebd42",
       "version_major": 2,
       "version_minor": 0
      },
      "text/plain": [
       "Checkbox(value=False, description='capture-video', indent=False, tooltip='whether to capture videos of the age…"
      ]
     },
     "metadata": {},
     "output_type": "display_data"
    },
    {
     "data": {
      "application/vnd.jupyter.widget-view+json": {
       "model_id": "885e47a4bf7a49a99636775bccf1f7ee",
       "version_major": 2,
       "version_minor": 0
      },
      "text/plain": [
       "Text(value='BreakoutNoFrameskip-v4', description='env-id', tooltip='the id of the environment')"
      ]
     },
     "metadata": {},
     "output_type": "display_data"
    },
    {
     "data": {
      "application/vnd.jupyter.widget-view+json": {
       "model_id": "b3af7e45002f4c4ab2ff089a527f9b8c",
       "version_major": 2,
       "version_minor": 0
      },
      "text/plain": [
       "IntText(value=10000000, description='total-timesteps', tooltip='total timesteps of the experiments')"
      ]
     },
     "metadata": {},
     "output_type": "display_data"
    },
    {
     "data": {
      "application/vnd.jupyter.widget-view+json": {
       "model_id": "f63d9c0ea6dd4fb9bb839c59a9d24786",
       "version_major": 2,
       "version_minor": 0
      },
      "text/plain": [
       "FloatText(value=0.0001, description='learning-rate', tooltip='the learning rate of the optimizer')"
      ]
     },
     "metadata": {},
     "output_type": "display_data"
    },
    {
     "data": {
      "application/vnd.jupyter.widget-view+json": {
       "model_id": "f95c21dc9aae495a9525676a10464bef",
       "version_major": 2,
       "version_minor": 0
      },
      "text/plain": [
       "IntText(value=1000000, description='buffer-size', tooltip='the replay memory buffer size')"
      ]
     },
     "metadata": {},
     "output_type": "display_data"
    },
    {
     "data": {
      "application/vnd.jupyter.widget-view+json": {
       "model_id": "99193cd0d62e4a319f328228ed478a94",
       "version_major": 2,
       "version_minor": 0
      },
      "text/plain": [
       "FloatText(value=0.99, description='gamma', tooltip='the discount factor gamma')"
      ]
     },
     "metadata": {},
     "output_type": "display_data"
    },
    {
     "data": {
      "application/vnd.jupyter.widget-view+json": {
       "model_id": "2583db13058c4e22b8ad7c8039557a05",
       "version_major": 2,
       "version_minor": 0
      },
      "text/plain": [
       "IntText(value=1000, description='target-network-frequency', tooltip='the timesteps it takes to update the targ…"
      ]
     },
     "metadata": {},
     "output_type": "display_data"
    },
    {
     "data": {
      "application/vnd.jupyter.widget-view+json": {
       "model_id": "507ae8c35f324929ae3ff50e734ab20e",
       "version_major": 2,
       "version_minor": 0
      },
      "text/plain": [
       "IntText(value=32, description='batch-size', tooltip='the batch size of sample from the reply memory')"
      ]
     },
     "metadata": {},
     "output_type": "display_data"
    },
    {
     "data": {
      "application/vnd.jupyter.widget-view+json": {
       "model_id": "f3362d2da1324611815ee8fd7b9b6a8e",
       "version_major": 2,
       "version_minor": 0
      },
      "text/plain": [
       "FloatText(value=1.0, description='start-e', tooltip='the starting epsilon for exploration')"
      ]
     },
     "metadata": {},
     "output_type": "display_data"
    },
    {
     "data": {
      "application/vnd.jupyter.widget-view+json": {
       "model_id": "aab0711fc5ba47ef983f8bf056bc3e3c",
       "version_major": 2,
       "version_minor": 0
      },
      "text/plain": [
       "FloatText(value=0.01, description='end-e', tooltip='the ending epsilon for exploration')"
      ]
     },
     "metadata": {},
     "output_type": "display_data"
    },
    {
     "data": {
      "application/vnd.jupyter.widget-view+json": {
       "model_id": "3f65e7c362fe4d34b5d4d470af6fb2e3",
       "version_major": 2,
       "version_minor": 0
      },
      "text/plain": [
       "FloatText(value=0.1, description='exploration-fraction', tooltip='the fraction of `total-timesteps` it takes f…"
      ]
     },
     "metadata": {},
     "output_type": "display_data"
    },
    {
     "data": {
      "application/vnd.jupyter.widget-view+json": {
       "model_id": "0ece3cab5cdb4c00a7c23e05729aa8eb",
       "version_major": 2,
       "version_minor": 0
      },
      "text/plain": [
       "IntText(value=80000, description='learning-starts', tooltip='timestep to start learning')"
      ]
     },
     "metadata": {},
     "output_type": "display_data"
    },
    {
     "data": {
      "application/vnd.jupyter.widget-view+json": {
       "model_id": "8e2c19f1326f4516a0937db362f94235",
       "version_major": 2,
       "version_minor": 0
      },
      "text/plain": [
       "IntText(value=4, description='train-frequency', tooltip='the frequency of training')"
      ]
     },
     "metadata": {},
     "output_type": "display_data"
    }
   ],
   "source": [
    "import ipywidgets as widgets\n",
    "from IPython.display import display, clear_output, Image\n",
    "\n",
    "import time\n",
    "\n",
    "import torch\n",
    "import random\n",
    "\n",
    "from torch_rl.jupyter_utils import (\n",
    "    WidgetParser,\n",
    "    plot_metrics_notebook\n",
    ")\n",
    "\n",
    "from torch_rl.utils import (\n",
    "    seed_everything,\n",
    "    handle_terminal_ob,\n",
    "    mp4_to_gif,\n",
    "    MetricStore,\n",
    "    SPS\n",
    ")\n",
    "\n",
    "\n",
    "parser = WidgetParser()\n",
    "parser.add_widget(widgets.IntText(\n",
    "    description='seed',\n",
    "    value=1,\n",
    "    tooltip=\"seed of the experiment\"\n",
    "))\n",
    "\n",
    "parser.add_widget(widgets.Checkbox(\n",
    "    description=\"torch-deterministic\",\n",
    "    value=True,\n",
    "    disabled=False,\n",
    "    indent=False,\n",
    "    tooltip=\"if toggled, `torch.backends.cudnn.deterministic=False`\"\n",
    "))\n",
    "\n",
    "parser.add_widget(widgets.Checkbox(\n",
    "    description=\"cuda\",\n",
    "    value=True,\n",
    "    disabled=False,\n",
    "    indent=False,\n",
    "    tooltip=\"if toggled, cuda will be enabled by default\"\n",
    "))\n",
    "\n",
    "parser.add_widget(widgets.Checkbox(\n",
    "    description=\"capture-video\",\n",
    "    value=False,\n",
    "    disabled=False,\n",
    "    indent=False,\n",
    "    tooltip=\"whether to capture videos of the agent performances (check out `videos` folder)\"\n",
    "))\n",
    "\n",
    "parser.add_widget(widgets.Text(\n",
    "    description=\"env-id\",\n",
    "    value=\"BreakoutNoFrameskip-v4\",\n",
    "    tooltip=\"the id of the environment\"\n",
    "))\n",
    "\n",
    "parser.add_widget(widgets.IntText(\n",
    "    description='total-timesteps',\n",
    "    value=10000000,\n",
    "    tooltip=\"total timesteps of the experiments\"\n",
    "))\n",
    "\n",
    "parser.add_widget(widgets.FloatText(\n",
    "    description='learning-rate',\n",
    "    value=1e-4,\n",
    "    tooltip=\"the learning rate of the optimizer\"\n",
    "))\n",
    "\n",
    "parser.add_widget(widgets.IntText(\n",
    "    description='buffer-size',\n",
    "    value=1000000,\n",
    "    tooltip=\"the replay memory buffer size\"\n",
    "))\n",
    "\n",
    "parser.add_widget(widgets.FloatText(\n",
    "    description='gamma',\n",
    "    value=0.99,\n",
    "    tooltip=\"the discount factor gamma\"\n",
    "))\n",
    "\n",
    "parser.add_widget(widgets.IntText(\n",
    "    description='target-network-frequency',\n",
    "    value=1000,\n",
    "    tooltip=\"the timesteps it takes to update the target network\"\n",
    "))\n",
    "\n",
    "parser.add_widget(widgets.IntText(\n",
    "    description='batch-size',\n",
    "    value=32,\n",
    "    tooltip=\"the batch size of sample from the reply memory\"\n",
    "))\n",
    "\n",
    "parser.add_widget(widgets.FloatText(\n",
    "    description='start-e',\n",
    "    value=1.0,\n",
    "    tooltip=\"the starting epsilon for exploration\"\n",
    "))\n",
    "\n",
    "parser.add_widget(widgets.FloatText(\n",
    "    description='end-e',\n",
    "    value=0.01,\n",
    "    tooltip=\"the ending epsilon for exploration\"\n",
    "))\n",
    "\n",
    "parser.add_widget(widgets.FloatText(\n",
    "    description='exploration-fraction',\n",
    "    value=0.10,\n",
    "    tooltip=\"the fraction of `total-timesteps` it takes from start-e to go end-e\"\n",
    "))\n",
    "\n",
    "parser.add_widget(widgets.IntText(\n",
    "    description='learning-starts',\n",
    "    value=80000,\n",
    "    tooltip=\"timestep to start learning\"\n",
    "))\n",
    "\n",
    "parser.add_widget(widgets.IntText(\n",
    "    description='train-frequency',\n",
    "    value=4,\n",
    "    tooltip=\"the frequency of training\"\n",
    "))\n"
   ]
  },
  {
   "cell_type": "markdown",
   "id": "f93fd2dc-1acd-4a98-85ab-40141ecff47b",
   "metadata": {},
   "source": [
    "### Parse inputs"
   ]
  },
  {
   "cell_type": "code",
   "execution_count": 3,
   "id": "1b417f3a-206d-4624-85fb-62789374bb76",
   "metadata": {
    "execution": {
     "iopub.execute_input": "2022-10-11T12:31:19.852933Z",
     "iopub.status.busy": "2022-10-11T12:31:19.852514Z",
     "iopub.status.idle": "2022-10-11T12:31:19.874179Z",
     "shell.execute_reply": "2022-10-11T12:31:19.872544Z",
     "shell.execute_reply.started": "2022-10-11T12:31:19.852909Z"
    },
    "tags": []
   },
   "outputs": [
    {
     "data": {
      "text/plain": [
       "'using device cuda'"
      ]
     },
     "metadata": {},
     "output_type": "display_data"
    }
   ],
   "source": [
    "args = parser.parse()\n",
    "\n",
    "run_name = f\"{args.env_id}__dqn__{args.seed}__{int(time.time())}\"\n",
    "device = torch.device(\"cuda\" if torch.cuda.is_available() and args.cuda else \"cpu\")\n",
    "seed_everything(args.seed, args.torch_deterministic)\n",
    "display(f\"using device {device}\")"
   ]
  },
  {
   "cell_type": "markdown",
   "id": "49de7812-47cd-4b73-a015-fa3bc6decb72",
   "metadata": {},
   "source": [
    "## Setup environment"
   ]
  },
  {
   "cell_type": "code",
   "execution_count": 4,
   "id": "eebc8f65-d3ba-40f5-8c0e-a6486e3e5074",
   "metadata": {
    "execution": {
     "iopub.execute_input": "2022-10-11T12:31:19.877050Z",
     "iopub.status.busy": "2022-10-11T12:31:19.876777Z",
     "iopub.status.idle": "2022-10-11T12:31:20.093769Z",
     "shell.execute_reply": "2022-10-11T12:31:20.092078Z",
     "shell.execute_reply.started": "2022-10-11T12:31:19.877028Z"
    },
    "tags": []
   },
   "outputs": [],
   "source": [
    "import gym\n",
    "\n",
    "import numpy as np\n",
    "import torch\n",
    "import torch.nn as nn\n",
    "import torch.nn.functional as F\n",
    "\n",
    "from torch_rl.atari import (\n",
    "    NoopResetEnv,\n",
    "    MaxAndSkipEnv,\n",
    "    EpisodicLifeEnv,\n",
    "    ClipRewardEnv,\n",
    "    FireResetEnv\n",
    ")\n",
    "\n",
    "\n",
    "def make_env(env_id, seed, idx, capture_video, run_name):\n",
    "    def thunk():\n",
    "        env = gym.make(env_id)\n",
    "        env = gym.wrappers.RecordEpisodeStatistics(env)\n",
    "        if capture_video:\n",
    "            if idx == 0:\n",
    "                env = gym.wrappers.RecordVideo(env, f\"videos/{run_name}\")\n",
    "        env = NoopResetEnv(env, noop_max=30)\n",
    "        env = MaxAndSkipEnv(env, skip=4)\n",
    "        env = EpisodicLifeEnv(env)\n",
    "        if \"FIRE\" in env.unwrapped.get_action_meanings():\n",
    "            env = FireResetEnv(env)\n",
    "        env = ClipRewardEnv(env)\n",
    "        env = gym.wrappers.ResizeObservation(env, (84, 84))\n",
    "        env = gym.wrappers.GrayScaleObservation(env)\n",
    "        env = gym.wrappers.FrameStack(env, 4)\n",
    "        env.seed(seed)\n",
    "        env.action_space.seed(seed)\n",
    "        env.observation_space.seed(seed)\n",
    "        return env\n",
    "\n",
    "    return thunk"
   ]
  },
  {
   "cell_type": "markdown",
   "id": "72fffc90-d838-4b3d-96f0-683ea7ddd01d",
   "metadata": {},
   "source": [
    "### Ensure environment compatibility"
   ]
  },
  {
   "cell_type": "code",
   "execution_count": 5,
   "id": "cb7cba57-366e-412e-8eb6-42b9c7fec5ad",
   "metadata": {
    "execution": {
     "iopub.execute_input": "2022-10-11T12:31:20.096506Z",
     "iopub.status.busy": "2022-10-11T12:31:20.095688Z",
     "iopub.status.idle": "2022-10-11T12:31:20.399705Z",
     "shell.execute_reply": "2022-10-11T12:31:20.399020Z",
     "shell.execute_reply.started": "2022-10-11T12:31:20.096453Z"
    },
    "tags": []
   },
   "outputs": [
    {
     "name": "stderr",
     "output_type": "stream",
     "text": [
      "A.L.E: Arcade Learning Environment (version 0.7.5+db37282)\n",
      "[Powered by Stella]\n"
     ]
    }
   ],
   "source": [
    "envs = gym.vector.SyncVectorEnv([make_env(args.env_id, args.seed, 0, args.capture_video, run_name)])\n",
    "assert isinstance(envs.single_action_space, gym.spaces.Discrete), \"only discrete action space is supported\""
   ]
  },
  {
   "cell_type": "markdown",
   "id": "6d229b6b-efac-43bd-818f-74c15f118f9b",
   "metadata": {
    "execution": {
     "iopub.execute_input": "2022-10-03T03:17:34.254488Z",
     "iopub.status.busy": "2022-10-03T03:17:34.254047Z",
     "iopub.status.idle": "2022-10-03T03:17:34.270359Z",
     "shell.execute_reply": "2022-10-03T03:17:34.269512Z",
     "shell.execute_reply.started": "2022-10-03T03:17:34.254464Z"
    }
   },
   "source": [
    "### Environment examples"
   ]
  },
  {
   "cell_type": "code",
   "execution_count": 6,
   "id": "f888da2e-94d1-4af7-992d-4e45face59bb",
   "metadata": {
    "execution": {
     "iopub.execute_input": "2022-10-11T12:31:20.400969Z",
     "iopub.status.busy": "2022-10-11T12:31:20.400590Z",
     "iopub.status.idle": "2022-10-11T12:31:20.799200Z",
     "shell.execute_reply": "2022-10-11T12:31:20.798527Z",
     "shell.execute_reply.started": "2022-10-11T12:31:20.400935Z"
    },
    "tags": []
   },
   "outputs": [
    {
     "data": {
      "image/png": "[encoded data removed]",
      "text/plain": [
       "<Figure size 640x480 with 1 Axes>"
      ]
     },
     "metadata": {},
     "output_type": "display_data"
    }
   ],
   "source": [
    "tmp_env = make_env(args.env_id, args.seed, 0, False, None)()\n",
    "ob = tmp_env.reset()\n",
    "\n",
    "plt.title(args.env_id)\n",
    "plt.imshow(tmp_env.render(\"rgb_array\"))\n",
    "plt.axis('off')\n",
    "plt.show()"
   ]
  },
  {
   "cell_type": "code",
   "execution_count": 7,
   "id": "1546dbcd-5820-40df-9b7d-528b791659ed",
   "metadata": {
    "execution": {
     "iopub.execute_input": "2022-10-11T12:31:20.801410Z",
     "iopub.status.busy": "2022-10-11T12:31:20.801188Z",
     "iopub.status.idle": "2022-10-11T12:31:20.938518Z",
     "shell.execute_reply": "2022-10-11T12:31:20.937714Z",
     "shell.execute_reply.started": "2022-10-11T12:31:20.801390Z"
    },
    "tags": []
   },
   "outputs": [
    {
     "data": {
      "image/png": "[encoded data removed]",
      "text/plain": [
       "<Figure size 640x480 with 1 Axes>"
      ]
     },
     "metadata": {},
     "output_type": "display_data"
    }
   ],
   "source": [
    "action = tmp_env.action_space.sample()\n",
    "ob, reward, done, info = tmp_env.step(action)\n",
    "plt.title(\"Agent observation (4 frames left to right)\")\n",
    "state_dim = tmp_env.observation_space.shape\n",
    "plt.imshow(np.array(tmp_env.frames).transpose([0,2,1]).reshape([-1,state_dim[1]]).transpose([1,0]))\n",
    "plt.show()"
   ]
  },
  {
   "cell_type": "markdown",
   "id": "dbff4d3f-31f5-4dd6-91fe-088bc6252fd0",
   "metadata": {},
   "source": [
    "## Modeling"
   ]
  },
  {
   "cell_type": "markdown",
   "id": "441336c2-97c3-49c9-b12a-21cfd4a06df3",
   "metadata": {},
   "source": [
    "### Define Neural Network"
   ]
  },
  {
   "cell_type": "code",
   "execution_count": 8,
   "id": "ba819a6e-0552-4d22-bcca-768c22651999",
   "metadata": {
    "execution": {
     "iopub.execute_input": "2022-10-11T12:31:20.939613Z",
     "iopub.status.busy": "2022-10-11T12:31:20.939391Z",
     "iopub.status.idle": "2022-10-11T12:31:20.959874Z",
     "shell.execute_reply": "2022-10-11T12:31:20.958051Z",
     "shell.execute_reply.started": "2022-10-11T12:31:20.939594Z"
    }
   },
   "outputs": [],
   "source": [
    "class QNetwork(nn.Module):\n",
    "    def __init__(self, env):\n",
    "        super().__init__()\n",
    "        self.network = nn.Sequential(\n",
    "            nn.Conv2d(4, 32, 8, stride=4),\n",
    "            nn.ReLU(),\n",
    "            nn.Conv2d(32, 64, 4, stride=2),\n",
    "            nn.ReLU(),\n",
    "            nn.Conv2d(64, 64, 3, stride=1),\n",
    "            nn.ReLU(),\n",
    "            nn.Flatten(),\n",
    "            nn.Linear(3136, 512),\n",
    "            nn.ReLU(),\n",
    "            nn.Linear(512, env.single_action_space.n),\n",
    "        )\n",
    "\n",
    "    def forward(self, x):\n",
    "        return self.network(x / 255.0)"
   ]
  },
  {
   "cell_type": "markdown",
   "id": "398bf469-74ef-4f94-9218-8a94369e5f70",
   "metadata": {},
   "source": [
    "### DQN training Wrapper"
   ]
  },
  {
   "cell_type": "code",
   "execution_count": 9,
   "id": "b44085d8-b1d6-47a6-9c8a-11af1566a1e0",
   "metadata": {
    "execution": {
     "iopub.execute_input": "2022-10-11T12:31:20.962671Z",
     "iopub.status.busy": "2022-10-11T12:31:20.962103Z",
     "iopub.status.idle": "2022-10-11T12:31:22.479655Z",
     "shell.execute_reply": "2022-10-11T12:31:22.479088Z",
     "shell.execute_reply.started": "2022-10-11T12:31:20.962618Z"
    },
    "tags": []
   },
   "outputs": [
    {
     "name": "stderr",
     "output_type": "stream",
     "text": [
      "/app/torch_rl/buffers.py:374: UserWarning: This system does not have apparently enough memory to store the complete replay buffer 28.24GB > 3.95GB\n",
      "  warnings.warn(\n"
     ]
    }
   ],
   "source": [
    "from torch_rl.dqn import (\n",
    "    DQN,\n",
    "    DQNTrainingWrapper\n",
    ")\n",
    "\n",
    "\n",
    "dqn = DQN(\n",
    "    model_func=lambda: QNetwork(envs),\n",
    "    device=device\n",
    ").to(device)\n",
    "\n",
    "wrapper = DQNTrainingWrapper(\n",
    "    model = dqn,\n",
    "    env=envs,\n",
    "    device=device\n",
    ")\n",
    "\n",
    "optimizer = wrapper.get_optimizer(lr=args.learning_rate)\n",
    "\n",
    "rb = wrapper.get_replay_buffer(\n",
    "    buffer_size=args.buffer_size,\n",
    "    optimize_memory_usage=True\n",
    ")"
   ]
  },
  {
   "cell_type": "markdown",
   "id": "ce5fbef7-e6ed-4a75-8874-2c22e784abbe",
   "metadata": {},
   "source": [
    "### Setup plots"
   ]
  },
  {
   "cell_type": "code",
   "execution_count": 10,
   "id": "89f00ff7-9e01-4fe9-90e0-4222d4e2a59e",
   "metadata": {
    "execution": {
     "iopub.execute_input": "2022-10-11T12:31:22.480771Z",
     "iopub.status.busy": "2022-10-11T12:31:22.480499Z",
     "iopub.status.idle": "2022-10-11T12:31:22.506021Z",
     "shell.execute_reply": "2022-10-11T12:31:22.505268Z",
     "shell.execute_reply.started": "2022-10-11T12:31:22.480751Z"
    },
    "tags": []
   },
   "outputs": [],
   "source": [
    "from torch_rl.utils import SPS\n",
    "def log_env_metrics(ms, step, infos):\n",
    "    for info in infos:\n",
    "        if \"episode\" in info.keys():\n",
    "            ms.log_metric(\"episodic_return\", info[\"episode\"][\"r\"], step=step)\n",
    "            ms.log_metric(\"episodic_length\", info[\"episode\"][\"l\"], step=step)\n",
    "\n",
    "\n",
    "def plot_metric(global_step, ms, sps, show_model_metrics=True):\n",
    "    env_metric_list = [\"episodic_return\", \"episodic_length\"]\n",
    "    model_metric_list = [\"q_values\", \"loss\"]\n",
    "    env_color_list = [\"blue\", \"black\"]\n",
    "    model_color_list = [\"green\", \"red\"]\n",
    "    if show_model_metrics:\n",
    "        metric_list = env_metric_list + model_metric_list\n",
    "        color_list = env_color_list + model_color_list\n",
    "    else:\n",
    "        metric_list = env_metric_list\n",
    "        color_list = env_color_list\n",
    "\n",
    "    sps.step(global_step)\n",
    "    plot_metrics_notebook(ms, metric_list, color_list, sps=sps)"
   ]
  },
  {
   "cell_type": "markdown",
   "id": "6525ae9e-6d5b-49d0-896e-3379315f2477",
   "metadata": {
    "execution": {
     "iopub.execute_input": "2022-10-06T13:56:17.044309Z",
     "iopub.status.busy": "2022-10-06T13:56:17.043895Z",
     "iopub.status.idle": "2022-10-06T13:56:17.065030Z",
     "shell.execute_reply": "2022-10-06T13:56:17.064326Z",
     "shell.execute_reply.started": "2022-10-06T13:56:17.044259Z"
    },
    "tags": []
   },
   "source": [
    "### DQN training loop"
   ]
  },
  {
   "cell_type": "code",
   "execution_count": null,
   "id": "684d7d00-db34-41d0-851a-e1f0ff1705e0",
   "metadata": {
    "execution": {
     "iopub.execute_input": "2022-10-11T12:31:22.507314Z",
     "iopub.status.busy": "2022-10-11T12:31:22.507019Z"
    },
    "tags": []
   },
   "outputs": [
    {
     "name": "stdout",
     "output_type": "stream",
     "text": [
      "01% processed at 503 SPS. Remaining: 5 hour(s), 27 minute(s), 02 second(s) \n",
      "\n"
     ]
    },
    {
     "data": {
      "image/png": "[encoded data removed]",
      "text/plain": [
       "<Figure size 640x480 with 4 Axes>"
      ]
     },
     "metadata": {},
     "output_type": "display_data"
    }
   ],
   "source": [
    "ms = MetricStore()\n",
    "sps = SPS(args.total_timesteps)\n",
    "obs = envs.reset()\n",
    "for global_step in range(args.total_timesteps):\n",
    "    epsilon = wrapper.linear_schedule(\n",
    "        args.start_e,\n",
    "        args.end_e,\n",
    "        args.exploration_fraction * args.total_timesteps,\n",
    "        global_step\n",
    "    )\n",
    "\n",
    "    if random.random() < epsilon:\n",
    "        actions = np.array([envs.single_action_space.sample()\n",
    "                            for _ in range(envs.num_envs)])\n",
    "    else:\n",
    "        actions = dqn(torch.Tensor(obs).to(device)).cpu().numpy()\n",
    "\n",
    "    next_obs, rewards, dones, infos = envs.step(actions)\n",
    "\n",
    "    next_real_obs = handle_terminal_ob(next_obs, dones, infos)\n",
    "    rb.add(obs, next_real_obs, actions, rewards, dones)\n",
    "    obs = next_obs\n",
    "\n",
    "    log_env_metrics(ms, global_step, infos)\n",
    "\n",
    "    if global_step > args.learning_starts and global_step % args.train_frequency == 0:\n",
    "        data = rb.sample(args.batch_size)\n",
    "        q_values, loss = wrapper.train_step(data, gamma=args.gamma)\n",
    "\n",
    "        if global_step % 100 == 0:\n",
    "            ms.log_metric(\"q_values\", q_values.mean().item(), step=global_step)\n",
    "            ms.log_metric(\"loss\", loss, step=global_step)\n",
    "\n",
    "        optimizer.zero_grad()\n",
    "        loss.backward()\n",
    "        optimizer.step()\n",
    "\n",
    "        if global_step % args.target_network_frequency == 0:\n",
    "            dqn.update_target_network()\n",
    "\n",
    "    if global_step > 0 and global_step % 10000 == 0:\n",
    "        plot_metric(global_step, ms, sps, global_step > args.learning_starts)\n",
    "\n",
    "envs.close()"
   ]
  },
  {
   "cell_type": "markdown",
   "id": "bd5908d7-ddb1-4f54-bebc-280b7e438fbf",
   "metadata": {},
   "source": [
    "## Evaluation"
   ]
  },
  {
   "cell_type": "code",
   "execution_count": null,
   "id": "becc5b71-4e81-448b-bc84-6e6c823a2bf5",
   "metadata": {
    "tags": []
   },
   "outputs": [],
   "source": [
    "run_test_name = f\"test-{run_name}\"\n",
    "test_env = make_env(args.env_id, args.seed, 0, True, run_test_name)()\n",
    "\n",
    "ob = test_env.reset()\n",
    "while True:\n",
    "    action = dqn(torch.Tensor(np.array([ob])).to(device)).cpu().numpy()[0]\n",
    "    ob, reward, done, info = test_env.step(action)\n",
    "    if done:\n",
    "        print(f'episodic_return={info[\"episode\"][\"r\"]}, episodic_length={info[\"episode\"][\"l\"]}')\n",
    "        break\n"
   ]
  },
  {
   "cell_type": "markdown",
   "id": "075734a3-6145-43dc-90a9-7fe28d62eb43",
   "metadata": {
    "execution": {
     "iopub.execute_input": "2022-10-04T22:06:05.802908Z",
     "iopub.status.busy": "2022-10-04T22:06:05.802340Z",
     "iopub.status.idle": "2022-10-04T22:06:05.827471Z",
     "shell.execute_reply": "2022-10-04T22:06:05.826771Z",
     "shell.execute_reply.started": "2022-10-04T22:06:05.802857Z"
    }
   },
   "source": [
    "### Display full evaluation"
   ]
  },
  {
   "cell_type": "code",
   "execution_count": null,
   "id": "d74d7689-6cbd-400e-bb7f-547e9c2d73fa",
   "metadata": {
    "tags": []
   },
   "outputs": [],
   "source": [
    "mp4_path = f\"videos/{run_test_name}/rl-video-episode-0.mp4\"\n",
    "gif_path = f\"images/dqn_atari_test.gif\"\n",
    "\n",
    "mp4_to_gif(mp4_path, gif_path)\n",
    "Image(url=gif_path, width=500, height=500)"
   ]
  },
  {
   "cell_type": "code",
   "execution_count": null,
   "id": "145ce381-a373-48bf-b9a6-c17bfe021dfb",
   "metadata": {},
   "outputs": [],
   "source": []
  }
 ],
 "metadata": {
  "kernelspec": {
   "display_name": "Python 3 (ipykernel)",
   "language": "python",
   "name": "python3"
  },
  "language_info": {
   "codemirror_mode": {
    "name": "ipython",
    "version": 3
   },
   "file_extension": ".py",
   "mimetype": "text/x-python",
   "name": "python",
   "nbconvert_exporter": "python",
   "pygments_lexer": "ipython3",
   "version": "3.8.10"
  }
 },
 "nbformat": 4,
 "nbformat_minor": 5
}
