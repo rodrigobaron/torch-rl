{
 "cells": [
  {
   "cell_type": "markdown",
   "id": "54ab4e32-3ce5-4249-af8a-f14f93e88d2f",
   "metadata": {},
   "source": [
    "# Continuous PPO\n",
    "This is the implementation of PPO + envpool for continuous action space using image inputs."
   ]
  },
  {
   "cell_type": "markdown",
   "id": "72bf0cf6-6d79-4384-a20f-3d0d5d848291",
   "metadata": {},
   "source": [
    "## Setup arguments"
   ]
  },
  {
   "cell_type": "code",
   "execution_count": 1,
   "id": "949e1a15-c17b-498f-be92-cb52e4b750fe",
   "metadata": {
    "execution": {
     "iopub.execute_input": "2022-10-13T16:58:41.455398Z",
     "iopub.status.busy": "2022-10-13T16:58:41.454978Z",
     "iopub.status.idle": "2022-10-13T16:58:41.847013Z",
     "shell.execute_reply": "2022-10-13T16:58:41.846298Z",
     "shell.execute_reply.started": "2022-10-13T16:58:41.455324Z"
    },
    "tags": []
   },
   "outputs": [],
   "source": [
    "%load_ext autoreload\n",
    "%autoreload 2\n",
    "import matplotlib.pyplot as plt\n",
    "%matplotlib inline"
   ]
  },
  {
   "cell_type": "code",
   "execution_count": 2,
   "id": "9f0521e7-34fc-49e5-84d7-326be26185a6",
   "metadata": {
    "execution": {
     "iopub.execute_input": "2022-10-13T16:58:41.848820Z",
     "iopub.status.busy": "2022-10-13T16:58:41.848493Z",
     "iopub.status.idle": "2022-10-13T16:58:42.702733Z",
     "shell.execute_reply": "2022-10-13T16:58:42.702062Z",
     "shell.execute_reply.started": "2022-10-13T16:58:41.848800Z"
    },
    "tags": []
   },
   "outputs": [
    {
     "data": {
      "application/vnd.jupyter.widget-view+json": {
       "model_id": "bb7104d0db614594ae07f737daf519e3",
       "version_major": 2,
       "version_minor": 0
      },
      "text/plain": [
       "IntText(value=1, description='seed', tooltip='seed of the experiment')"
      ]
     },
     "metadata": {},
     "output_type": "display_data"
    },
    {
     "data": {
      "application/vnd.jupyter.widget-view+json": {
       "model_id": "5c89031ef8ae412aa934a55553ba07dc",
       "version_major": 2,
       "version_minor": 0
      },
      "text/plain": [
       "Checkbox(value=True, description='torch-deterministic', indent=False, tooltip='if toggled, `torch.backends.cud…"
      ]
     },
     "metadata": {},
     "output_type": "display_data"
    },
    {
     "data": {
      "application/vnd.jupyter.widget-view+json": {
       "model_id": "8162e766b6f044af9ade393eca50302c",
       "version_major": 2,
       "version_minor": 0
      },
      "text/plain": [
       "Checkbox(value=True, description='cuda', indent=False, tooltip='if toggled, cuda will be enabled by default')"
      ]
     },
     "metadata": {},
     "output_type": "display_data"
    },
    {
     "data": {
      "application/vnd.jupyter.widget-view+json": {
       "model_id": "38f2ac456cf34be188073d88c5ee4c8d",
       "version_major": 2,
       "version_minor": 0
      },
      "text/plain": [
       "Checkbox(value=False, description='capture-video', indent=False, tooltip='whether to capture videos of the age…"
      ]
     },
     "metadata": {},
     "output_type": "display_data"
    },
    {
     "data": {
      "application/vnd.jupyter.widget-view+json": {
       "model_id": "22233defa9684d9b9e214d1ebdc9f5c5",
       "version_major": 2,
       "version_minor": 0
      },
      "text/plain": [
       "Text(value='HalfCheetah-v2', description='env-id', tooltip='the id of the environment')"
      ]
     },
     "metadata": {},
     "output_type": "display_data"
    },
    {
     "data": {
      "application/vnd.jupyter.widget-view+json": {
       "model_id": "8c0f17186c0a4b71995e7a1ed826848c",
       "version_major": 2,
       "version_minor": 0
      },
      "text/plain": [
       "IntText(value=1000000, description='total-timesteps', tooltip='total timesteps of the experiments')"
      ]
     },
     "metadata": {},
     "output_type": "display_data"
    },
    {
     "data": {
      "application/vnd.jupyter.widget-view+json": {
       "model_id": "c28cd903ebfe40a385c6b7fd97efe28b",
       "version_major": 2,
       "version_minor": 0
      },
      "text/plain": [
       "FloatText(value=0.0003, description='learning-rate', tooltip='the learning rate of the optimizer')"
      ]
     },
     "metadata": {},
     "output_type": "display_data"
    },
    {
     "data": {
      "application/vnd.jupyter.widget-view+json": {
       "model_id": "fc4b156617b947a79f328e1dc8c303fe",
       "version_major": 2,
       "version_minor": 0
      },
      "text/plain": [
       "IntText(value=1, description='num-envs', tooltip='the number of parallel game environments')"
      ]
     },
     "metadata": {},
     "output_type": "display_data"
    },
    {
     "data": {
      "application/vnd.jupyter.widget-view+json": {
       "model_id": "5e1d95da1267413f95a92e5981b1d5df",
       "version_major": 2,
       "version_minor": 0
      },
      "text/plain": [
       "IntText(value=2048, description='num-steps', tooltip='the number of steps to run in each environment per polic…"
      ]
     },
     "metadata": {},
     "output_type": "display_data"
    },
    {
     "data": {
      "application/vnd.jupyter.widget-view+json": {
       "model_id": "53a9779401a949b8973d9f2de98e531e",
       "version_major": 2,
       "version_minor": 0
      },
      "text/plain": [
       "Checkbox(value=True, description='anneal-lr', indent=False, tooltip='Toggle learning rate annealing for policy…"
      ]
     },
     "metadata": {},
     "output_type": "display_data"
    },
    {
     "data": {
      "application/vnd.jupyter.widget-view+json": {
       "model_id": "0bbad005e8db446f9f98c317d960aa02",
       "version_major": 2,
       "version_minor": 0
      },
      "text/plain": [
       "FloatText(value=0.99, description='gamma', tooltip='the discount factor gamma')"
      ]
     },
     "metadata": {},
     "output_type": "display_data"
    },
    {
     "data": {
      "application/vnd.jupyter.widget-view+json": {
       "model_id": "3e03e5263f584c89a45a3da3c196991e",
       "version_major": 2,
       "version_minor": 0
      },
      "text/plain": [
       "FloatText(value=0.95, description='gae-lambda', tooltip='the lambda for the general advantage estimation')"
      ]
     },
     "metadata": {},
     "output_type": "display_data"
    },
    {
     "data": {
      "application/vnd.jupyter.widget-view+json": {
       "model_id": "80aa009d072e45aabfb0f864e4b2baaa",
       "version_major": 2,
       "version_minor": 0
      },
      "text/plain": [
       "IntText(value=32, description='num-minibatches', tooltip='The number of mini-batches')"
      ]
     },
     "metadata": {},
     "output_type": "display_data"
    },
    {
     "data": {
      "application/vnd.jupyter.widget-view+json": {
       "model_id": "70b98d7465dd4f0995c4e1e648fc77c1",
       "version_major": 2,
       "version_minor": 0
      },
      "text/plain": [
       "IntText(value=10, description='update-epochs', tooltip='The K epochs to update the policy')"
      ]
     },
     "metadata": {},
     "output_type": "display_data"
    },
    {
     "data": {
      "application/vnd.jupyter.widget-view+json": {
       "model_id": "9c8bdea2e479470585501ef02c0c4b85",
       "version_major": 2,
       "version_minor": 0
      },
      "text/plain": [
       "Checkbox(value=True, description='norm-adv', indent=False, tooltip='Toggles advantages normalization')"
      ]
     },
     "metadata": {},
     "output_type": "display_data"
    },
    {
     "data": {
      "application/vnd.jupyter.widget-view+json": {
       "model_id": "0c0dbb6b50c44655be5d0041fa71cf45",
       "version_major": 2,
       "version_minor": 0
      },
      "text/plain": [
       "FloatText(value=0.2, description='clip-coef', tooltip='the surrogate clipping coefficient')"
      ]
     },
     "metadata": {},
     "output_type": "display_data"
    },
    {
     "data": {
      "application/vnd.jupyter.widget-view+json": {
       "model_id": "e4d371d8d9004198b83571d6e1a2013e",
       "version_major": 2,
       "version_minor": 0
      },
      "text/plain": [
       "Checkbox(value=True, description='clip-vloss', indent=False, tooltip='Toggles whether or not to use a clipped …"
      ]
     },
     "metadata": {},
     "output_type": "display_data"
    },
    {
     "data": {
      "application/vnd.jupyter.widget-view+json": {
       "model_id": "d8c5dc2fb0a64da18853548c9792fefe",
       "version_major": 2,
       "version_minor": 0
      },
      "text/plain": [
       "FloatText(value=0.0, description='ent-coef', tooltip='coefficient of the entropy')"
      ]
     },
     "metadata": {},
     "output_type": "display_data"
    },
    {
     "data": {
      "application/vnd.jupyter.widget-view+json": {
       "model_id": "61373db6189d44afac935c4b018be8c4",
       "version_major": 2,
       "version_minor": 0
      },
      "text/plain": [
       "FloatText(value=0.5, description='vf-coef', tooltip='coefficient of the value function')"
      ]
     },
     "metadata": {},
     "output_type": "display_data"
    },
    {
     "data": {
      "application/vnd.jupyter.widget-view+json": {
       "model_id": "0ff5da0bbb1040bc80bf6e3a3787d8ea",
       "version_major": 2,
       "version_minor": 0
      },
      "text/plain": [
       "FloatText(value=0.5, description='max-grad-norm', tooltip='the maximum norm for the gradient clipping')"
      ]
     },
     "metadata": {},
     "output_type": "display_data"
    },
    {
     "data": {
      "application/vnd.jupyter.widget-view+json": {
       "model_id": "6a323a19ceb1404d959552a12dfda8ea",
       "version_major": 2,
       "version_minor": 0
      },
      "text/plain": [
       "FloatText(value=0.0, description='target-kl', tooltip='the target KL divergence threshold')"
      ]
     },
     "metadata": {},
     "output_type": "display_data"
    }
   ],
   "source": [
    "import ipywidgets as widgets\n",
    "from IPython.display import display, clear_output, Image\n",
    "\n",
    "import time\n",
    "\n",
    "import numpy as np\n",
    "import torch\n",
    "\n",
    "from torch_rl.jupyter_utils import (\n",
    "    WidgetParser,\n",
    "    plot_metrics_notebook\n",
    ")\n",
    "\n",
    "from torch_rl.utils import (\n",
    "    seed_everything,\n",
    "    mp4_to_gif,\n",
    "    MetricStore,\n",
    "    SPS\n",
    ")\n",
    "\n",
    "\n",
    "parser = WidgetParser()\n",
    "parser.add_widget(widgets.IntText(\n",
    "    description='seed',\n",
    "    value=1,\n",
    "    tooltip=\"seed of the experiment\"\n",
    "))\n",
    "\n",
    "parser.add_widget(widgets.Checkbox(\n",
    "    description=\"torch-deterministic\",\n",
    "    value=True,\n",
    "    disabled=False,\n",
    "    indent=False,\n",
    "    tooltip=\"if toggled, `torch.backends.cudnn.deterministic=False`\"\n",
    "))\n",
    "\n",
    "parser.add_widget(widgets.Checkbox(\n",
    "    description=\"cuda\",\n",
    "    value=True,\n",
    "    disabled=False,\n",
    "    indent=False,\n",
    "    tooltip=\"if toggled, cuda will be enabled by default\"\n",
    "))\n",
    "\n",
    "parser.add_widget(widgets.Checkbox(\n",
    "    description=\"capture-video\",\n",
    "    value=False,\n",
    "    disabled=False,\n",
    "    indent=False,\n",
    "    tooltip=\"whether to capture videos of the agent performances (check out `videos` folder)\"\n",
    "))\n",
    "\n",
    "parser.add_widget(widgets.Text(\n",
    "    description=\"env-id\",\n",
    "    value=\"HalfCheetah-v2\",\n",
    "    tooltip=\"the id of the environment\"\n",
    "))\n",
    "\n",
    "parser.add_widget(widgets.IntText(\n",
    "    description='total-timesteps',\n",
    "    value=1000000,\n",
    "    tooltip=\"total timesteps of the experiments\"\n",
    "))\n",
    "\n",
    "parser.add_widget(widgets.FloatText(\n",
    "    description='learning-rate',\n",
    "    value=3e-4,\n",
    "    tooltip=\"the learning rate of the optimizer\"\n",
    "))\n",
    "\n",
    "parser.add_widget(widgets.IntText(\n",
    "    description='num-envs',\n",
    "    value=1,\n",
    "    tooltip=\"the number of parallel game environments\"\n",
    "))\n",
    "\n",
    "parser.add_widget(widgets.IntText(\n",
    "    description='num-steps',\n",
    "    value=2048,\n",
    "    tooltip=\"the number of steps to run in each environment per policy rollout\"\n",
    "))\n",
    "\n",
    "parser.add_widget(widgets.Checkbox(\n",
    "    description=\"anneal-lr\",\n",
    "    value=True,\n",
    "    disabled=False,\n",
    "    indent=False,\n",
    "    tooltip=\"Toggle learning rate annealing for policy and value networks\"\n",
    "))\n",
    "\n",
    "parser.add_widget(widgets.FloatText(\n",
    "    description='gamma',\n",
    "    value=0.99,\n",
    "    tooltip=\"the discount factor gamma\"\n",
    "))\n",
    "\n",
    "parser.add_widget(widgets.FloatText(\n",
    "    description='gae-lambda',\n",
    "    value=0.95,\n",
    "    tooltip=\"the lambda for the general advantage estimation\"\n",
    "))\n",
    "\n",
    "parser.add_widget(widgets.IntText(\n",
    "    description='num-minibatches',\n",
    "    value=32,\n",
    "    tooltip=\"The number of mini-batches\"\n",
    "))\n",
    "\n",
    "parser.add_widget(widgets.IntText(\n",
    "    description='update-epochs',\n",
    "    value=10,\n",
    "    tooltip=\"The K epochs to update the policy\"\n",
    "))\n",
    "\n",
    "parser.add_widget(widgets.Checkbox(\n",
    "    description=\"norm-adv\",\n",
    "    value=True,\n",
    "    disabled=False,\n",
    "    indent=False,\n",
    "    tooltip=\"Toggles advantages normalization\"\n",
    "))\n",
    "\n",
    "parser.add_widget(widgets.FloatText(\n",
    "    description='clip-coef',\n",
    "    value=0.2,\n",
    "    tooltip=\"the surrogate clipping coefficient\"\n",
    "))\n",
    "\n",
    "parser.add_widget(widgets.Checkbox(\n",
    "    description=\"clip-vloss\",\n",
    "    value=True,\n",
    "    disabled=False,\n",
    "    indent=False,\n",
    "    tooltip=\"Toggles whether or not to use a clipped loss for the value function, as per the paper\"\n",
    "))\n",
    "\n",
    "parser.add_widget(widgets.FloatText(\n",
    "    description='ent-coef',\n",
    "    value=0.00,\n",
    "    tooltip=\"coefficient of the entropy\"\n",
    "))\n",
    "\n",
    "parser.add_widget(widgets.FloatText(\n",
    "    description='vf-coef',\n",
    "    value=0.5,\n",
    "    tooltip=\"coefficient of the value function\"\n",
    "))\n",
    "\n",
    "parser.add_widget(widgets.FloatText(\n",
    "    description='max-grad-norm',\n",
    "    value=0.5,\n",
    "    tooltip=\"the maximum norm for the gradient clipping\"\n",
    "))\n",
    "\n",
    "parser.add_widget(widgets.FloatText(\n",
    "    description='target-kl',\n",
    "    value=0,\n",
    "    tooltip=\"the target KL divergence threshold\"\n",
    "))"
   ]
  },
  {
   "cell_type": "markdown",
   "id": "b9c0283d-5bd9-431e-9a7e-a0a83f5dfc6d",
   "metadata": {},
   "source": [
    "### Parse inputs"
   ]
  },
  {
   "cell_type": "code",
   "execution_count": 3,
   "id": "e95c57e4-126e-4cac-9454-6af1863c29d0",
   "metadata": {
    "execution": {
     "iopub.execute_input": "2022-10-13T16:58:42.703904Z",
     "iopub.status.busy": "2022-10-13T16:58:42.703583Z",
     "iopub.status.idle": "2022-10-13T16:58:42.722464Z",
     "shell.execute_reply": "2022-10-13T16:58:42.721709Z",
     "shell.execute_reply.started": "2022-10-13T16:58:42.703884Z"
    },
    "tags": []
   },
   "outputs": [
    {
     "data": {
      "text/plain": [
       "'using device cuda'"
      ]
     },
     "metadata": {},
     "output_type": "display_data"
    }
   ],
   "source": [
    "args = parser.parse()\n",
    "args.batch_size = int(args.num_envs * args.num_steps)\n",
    "args.minibatch_size = int(args.batch_size // args.num_minibatches)\n",
    "\n",
    "run_name = f\"{args.env_id}__ppo_continuous__{args.seed}__{int(time.time())}\"\n",
    "device = torch.device(\"cuda\" if torch.cuda.is_available() and args.cuda else \"cpu\")\n",
    "seed_everything(args.seed, args.torch_deterministic)\n",
    "display(f\"using device {device}\")"
   ]
  },
  {
   "cell_type": "markdown",
   "id": "0b53fde3-b2aa-45b4-8ac1-f28e6b21b68e",
   "metadata": {},
   "source": [
    "## Setup environment"
   ]
  },
  {
   "cell_type": "code",
   "execution_count": 4,
   "id": "e30e563d-4eb3-4626-941a-f156979190ac",
   "metadata": {
    "execution": {
     "iopub.execute_input": "2022-10-13T16:58:42.723526Z",
     "iopub.status.busy": "2022-10-13T16:58:42.723160Z",
     "iopub.status.idle": "2022-10-13T16:58:42.937159Z",
     "shell.execute_reply": "2022-10-13T16:58:42.936465Z",
     "shell.execute_reply.started": "2022-10-13T16:58:42.723506Z"
    },
    "tags": []
   },
   "outputs": [],
   "source": [
    "import gym\n",
    "import pybullet_envs \n",
    "\n",
    "\n",
    "def make_env(env_id, seed, idx, capture_video, run_name, gamma):\n",
    "    def thunk():\n",
    "        env = gym.make(env_id)\n",
    "        env = gym.wrappers.RecordEpisodeStatistics(env)\n",
    "        if capture_video:\n",
    "            if idx == 0:\n",
    "                env = gym.wrappers.RecordVideo(env, f\"videos/{run_name}\")\n",
    "        env = gym.wrappers.ClipAction(env)\n",
    "        env = gym.wrappers.NormalizeObservation(env)\n",
    "        env = gym.wrappers.TransformObservation(env, lambda obs: np.clip(obs, -10, 10))\n",
    "        env = gym.wrappers.NormalizeReward(env, gamma=gamma)\n",
    "        env = gym.wrappers.TransformReward(env, lambda reward: np.clip(reward, -10, 10))\n",
    "        env.seed(seed)\n",
    "        env.action_space.seed(seed)\n",
    "        env.observation_space.seed(seed)\n",
    "        return env\n",
    "\n",
    "    return thunk"
   ]
  },
  {
   "cell_type": "markdown",
   "id": "7e6ef50e-adfe-47c7-9745-6105462dd25c",
   "metadata": {},
   "source": [
    "### Ensure environment compatibility"
   ]
  },
  {
   "cell_type": "code",
   "execution_count": 5,
   "id": "39eec428-f195-40b3-8766-780b1574dd2b",
   "metadata": {
    "execution": {
     "iopub.execute_input": "2022-10-13T16:58:42.938454Z",
     "iopub.status.busy": "2022-10-13T16:58:42.938201Z",
     "iopub.status.idle": "2022-10-13T16:58:43.391746Z",
     "shell.execute_reply": "2022-10-13T16:58:43.390794Z",
     "shell.execute_reply.started": "2022-10-13T16:58:42.938434Z"
    },
    "tags": []
   },
   "outputs": [],
   "source": [
    "envs = gym.vector.SyncVectorEnv(\n",
    "        [make_env(args.env_id, args.seed + i, i, args.capture_video, run_name, args.gamma) for i in range(args.num_envs)]\n",
    ")\n",
    "assert isinstance(envs.single_action_space, gym.spaces.Box), \"only continuous action space is supported\""
   ]
  },
  {
   "cell_type": "markdown",
   "id": "d564f66b-d7f8-4210-a875-6fe61ec1a11d",
   "metadata": {},
   "source": [
    "### Environment examples"
   ]
  },
  {
   "cell_type": "code",
   "execution_count": 6,
   "id": "a6f7cad5-0983-4d29-8cb8-ee5fb11b34f7",
   "metadata": {
    "execution": {
     "iopub.execute_input": "2022-10-13T16:58:43.393255Z",
     "iopub.status.busy": "2022-10-13T16:58:43.392910Z",
     "iopub.status.idle": "2022-10-13T16:58:43.787065Z",
     "shell.execute_reply": "2022-10-13T16:58:43.786508Z",
     "shell.execute_reply.started": "2022-10-13T16:58:43.393232Z"
    },
    "tags": []
   },
   "outputs": [
    {
     "data": {
      "image/png": "[encoded data removed]",
      "text/plain": [
       "<Figure size 640x480 with 1 Axes>"
      ]
     },
     "metadata": {},
     "output_type": "display_data"
    }
   ],
   "source": [
    "tmp_env = make_env(args.env_id, args.seed, 0, False, None, args.gamma)()\n",
    "ob = tmp_env.reset()\n",
    "\n",
    "plt.title(args.env_id)\n",
    "plt.imshow(tmp_env.render(\"rgb_array\"))\n",
    "plt.axis('off')\n",
    "plt.show()"
   ]
  },
  {
   "cell_type": "code",
   "execution_count": 7,
   "id": "b012f3ae-facb-4055-a780-48c887b8d17f",
   "metadata": {
    "execution": {
     "iopub.execute_input": "2022-10-13T16:58:43.789185Z",
     "iopub.status.busy": "2022-10-13T16:58:43.788962Z",
     "iopub.status.idle": "2022-10-13T16:58:43.809736Z",
     "shell.execute_reply": "2022-10-13T16:58:43.809098Z",
     "shell.execute_reply.started": "2022-10-13T16:58:43.789165Z"
    },
    "tags": []
   },
   "outputs": [
    {
     "data": {
      "text/plain": [
       "(array([ 0.61478084,  0.02900014, -0.6177637 , -0.62625045,  0.5450433 ,\n",
       "        -0.89634424], dtype=float32),\n",
       " (17,))"
      ]
     },
     "execution_count": 7,
     "metadata": {},
     "output_type": "execute_result"
    }
   ],
   "source": [
    "action = tmp_env.action_space.sample()\n",
    "ob, reward, done, info = tmp_env.step(action)\n",
    "action, ob.shape"
   ]
  },
  {
   "cell_type": "markdown",
   "id": "76ed0dd4-3fa0-4373-ba59-43973f0fd3cc",
   "metadata": {},
   "source": [
    "## Modeling"
   ]
  },
  {
   "cell_type": "markdown",
   "id": "ae74d95f-7c18-45ad-b11e-9b917cc1ab48",
   "metadata": {},
   "source": [
    "### PPO training Wrapper"
   ]
  },
  {
   "cell_type": "code",
   "execution_count": 8,
   "id": "0cfbf718-8113-42f3-a808-aea7e10dd036",
   "metadata": {
    "execution": {
     "iopub.execute_input": "2022-10-13T16:58:43.810867Z",
     "iopub.status.busy": "2022-10-13T16:58:43.810583Z",
     "iopub.status.idle": "2022-10-13T16:58:45.243884Z",
     "shell.execute_reply": "2022-10-13T16:58:45.243312Z",
     "shell.execute_reply.started": "2022-10-13T16:58:43.810846Z"
    },
    "tags": []
   },
   "outputs": [],
   "source": [
    "from torch_rl.ppo import PPOContinuous, PPOTrainingWrapper\n",
    "agent = PPOContinuous(\n",
    "    envs\n",
    ").to(device)\n",
    "\n",
    "wrapper = PPOTrainingWrapper(\n",
    "    model = agent,\n",
    "    env=envs,\n",
    "    device=device\n",
    ")"
   ]
  },
  {
   "cell_type": "markdown",
   "id": "45c1cf3c-7a48-4a80-8ebe-4454f0ee6725",
   "metadata": {},
   "source": [
    "### Setup plots"
   ]
  },
  {
   "cell_type": "code",
   "execution_count": 9,
   "id": "882b44b4-0bee-4a02-a743-d1e9e7c5d3d3",
   "metadata": {
    "execution": {
     "iopub.execute_input": "2022-10-13T16:58:45.245076Z",
     "iopub.status.busy": "2022-10-13T16:58:45.244792Z",
     "iopub.status.idle": "2022-10-13T16:58:45.266505Z",
     "shell.execute_reply": "2022-10-13T16:58:45.265925Z",
     "shell.execute_reply.started": "2022-10-13T16:58:45.245053Z"
    },
    "tags": []
   },
   "outputs": [],
   "source": [
    "from torch_rl.utils import SPS\n",
    "\n",
    "\n",
    "def plot_metric(global_step, ms, sps, show_model_metrics=True):\n",
    "    env_metric_list = [\"episodic_return\", \"episodic_length\"]\n",
    "    model_metric_list = [\"value_loss\", \"policy_loss\"]\n",
    "    env_color_list = [\"blue\", \"black\"]\n",
    "    model_color_list = [\"orange\", \"red\"]\n",
    "    if show_model_metrics:\n",
    "        metric_list = env_metric_list + model_metric_list\n",
    "        color_list = env_color_list + model_color_list\n",
    "    else:\n",
    "        metric_list = env_metric_list\n",
    "        color_list = env_color_list\n",
    "\n",
    "    sps.step(global_step)\n",
    "    plot_metrics_notebook(ms, metric_list, color_list, sps=sps)\n"
   ]
  },
  {
   "cell_type": "markdown",
   "id": "89b7d082-ee8c-4343-97c9-d8a4cb9e3029",
   "metadata": {},
   "source": [
    "### PPO training loop"
   ]
  },
  {
   "cell_type": "code",
   "execution_count": 10,
   "id": "21b30a56-e50d-4752-9339-87a1b64e450c",
   "metadata": {
    "execution": {
     "iopub.execute_input": "2022-10-13T16:58:45.267740Z",
     "iopub.status.busy": "2022-10-13T16:58:45.267431Z",
     "iopub.status.idle": "2022-10-13T17:32:41.381478Z",
     "shell.execute_reply": "2022-10-13T17:32:41.380794Z",
     "shell.execute_reply.started": "2022-10-13T16:58:45.267718Z"
    },
    "tags": []
   },
   "outputs": [
    {
     "name": "stdout",
     "output_type": "stream",
     "text": [
      "98% processed at 490 SPS. Remaining: 34 second(s) \n",
      "\n"
     ]
    },
    {
     "data": {
      "image/png": "[encoded data removed]",
      "text/plain": [
       "<Figure size 640x480 with 4 Axes>"
      ]
     },
     "metadata": {},
     "output_type": "display_data"
    }
   ],
   "source": [
    "import random\n",
    "import torch.optim as optim\n",
    "from collections import deque\n",
    "from IPython.display import display, clear_output\n",
    "\n",
    "\n",
    "optimizer = wrapper.get_optimizer(lr=args.learning_rate, eps=1e-5)\n",
    "ts = wrapper.get_storage(args.num_steps, args.num_envs)\n",
    "\n",
    "ms = MetricStore()\n",
    "sps = SPS(args.total_timesteps)\n",
    "\n",
    "global_step = 0\n",
    "start_time = time.time()\n",
    "next_obs = torch.Tensor(envs.reset()).to(device)\n",
    "next_done = torch.zeros(args.num_envs).to(device)\n",
    "num_updates = args.total_timesteps // args.batch_size\n",
    "\n",
    "for update in range(1, num_updates + 1):\n",
    "    if args.anneal_lr:\n",
    "        lrnow = wrapper.anneal_lr(args.learning_rate, update, num_updates)\n",
    "        optimizer.param_groups[0][\"lr\"] = lrnow\n",
    "\n",
    "    for step in range(0, args.num_steps):\n",
    "        global_step += 1 * args.num_envs\n",
    "        ts.obs[step] = next_obs\n",
    "        ts.dones[step] = next_done\n",
    "\n",
    "        with torch.no_grad():\n",
    "            action, logprob, _, value = agent.get_action_and_value(next_obs)\n",
    "            ts.values[step] = value.flatten()\n",
    "        ts.actions[step] = action\n",
    "        ts.logprobs[step] = logprob\n",
    "\n",
    "        next_obs, reward, done, info = envs.step(action.cpu().numpy())\n",
    "        ts.rewards[step] = torch.tensor(reward).to(device).view(-1)\n",
    "        next_obs, next_done = torch.Tensor(next_obs).to(device), torch.Tensor(done).to(device)\n",
    "\n",
    "        for item in info:\n",
    "            if \"episode\" in item.keys():\n",
    "                ms.log_metric(\"episodic_return\", item[\"episode\"][\"r\"], global_step)\n",
    "                ms.log_metric(\"episodic_length\", item[\"episode\"][\"l\"], global_step)\n",
    "\n",
    "    with torch.no_grad():\n",
    "        advantages = wrapper.get_advantages(args.num_steps, next_done, next_obs, args.gamma, args.gae_lambda, ts)\n",
    "        returns = advantages + ts.values\n",
    "\n",
    "    b_obs = ts.obs.reshape((-1,) + envs.single_observation_space.shape)\n",
    "    b_logprobs = ts.logprobs.reshape(-1)\n",
    "    b_actions = ts.actions.reshape((-1,) + envs.single_action_space.shape)\n",
    "    b_advantages = advantages.reshape(-1)\n",
    "    b_returns = returns.reshape(-1)\n",
    "    b_values = ts.values.reshape(-1)\n",
    "\n",
    "    # Optimizing the policy and value network\n",
    "    b_inds = np.arange(args.batch_size)\n",
    "    for epoch in range(args.update_epochs):\n",
    "        np.random.shuffle(b_inds)\n",
    "        for start in range(0, args.batch_size, args.minibatch_size):\n",
    "            end = start + args.minibatch_size\n",
    "            mb_inds = b_inds[start:end]\n",
    "\n",
    "            loss, approx_kl, losses = wrapper.train_step(\n",
    "                b_obs[mb_inds],\n",
    "                b_actions[mb_inds],\n",
    "                b_logprobs[mb_inds],\n",
    "                b_advantages[mb_inds],\n",
    "                b_returns[mb_inds],\n",
    "                b_values[mb_inds],\n",
    "                args.norm_adv,\n",
    "                args.clip_coef,\n",
    "                args.clip_vloss,\n",
    "                args.ent_coef,\n",
    "                args.vf_coef\n",
    "            )\n",
    "\n",
    "            optimizer.zero_grad()\n",
    "            loss.backward()\n",
    "            wrapper.clip_grad_norm(args.max_grad_norm)\n",
    "            optimizer.step()\n",
    "\n",
    "        if args.target_kl is not None and args.target_kl > 0:\n",
    "            if approx_kl > args.target_kl:\n",
    "                break\n",
    "\n",
    "    y_pred, y_true = b_values.cpu().numpy(), b_returns.cpu().numpy()\n",
    "    var_y = np.var(y_true)\n",
    "    explained_var = np.nan if var_y == 0 else 1 - np.var(y_true - y_pred) / var_y\n",
    "\n",
    "    (pg_loss, v_loss, entropy_loss) = losses\n",
    "\n",
    "    ms.log_metric(\"learning_rate\", optimizer.param_groups[0][\"lr\"], global_step)\n",
    "    ms.log_metric(\"value_loss\", v_loss.item(), global_step)\n",
    "    ms.log_metric(\"policy_loss\", pg_loss.item(), global_step)\n",
    "    ms.log_metric(\"entropy\", entropy_loss.item(), global_step)\n",
    "    ms.log_metric(\"approx_kl\", approx_kl.item(), global_step)\n",
    "    ms.log_metric(\"explained_variance\", explained_var, global_step)\n",
    "\n",
    "    if update > 0 and update % 10 == 0:\n",
    "        global_step = update * args.batch_size\n",
    "        plot_metric(global_step, ms, sps)\n",
    "\n",
    "\n",
    "envs.close()"
   ]
  },
  {
   "cell_type": "markdown",
   "id": "33f37e7f-dc03-4ba1-9717-67aeabda381f",
   "metadata": {},
   "source": [
    "## Evaluation"
   ]
  },
  {
   "cell_type": "code",
   "execution_count": 11,
   "id": "11189f2e-b627-4fd5-8669-f4a9f3b96cf8",
   "metadata": {
    "execution": {
     "iopub.execute_input": "2022-10-13T17:32:41.382659Z",
     "iopub.status.busy": "2022-10-13T17:32:41.382410Z",
     "iopub.status.idle": "2022-10-13T17:33:04.002892Z",
     "shell.execute_reply": "2022-10-13T17:33:04.002067Z",
     "shell.execute_reply.started": "2022-10-13T17:32:41.382627Z"
    },
    "tags": []
   },
   "outputs": [
    {
     "name": "stdout",
     "output_type": "stream",
     "text": [
      "episodic_return=1377.693359375, episodic_length=1000\n"
     ]
    }
   ],
   "source": [
    "run_test_name = f\"test-{run_name}\"\n",
    "test_env = make_env(args.env_id, args.seed, 0, True, run_test_name, args.gamma)()\n",
    "\n",
    "ob = test_env.reset()\n",
    "while True:\n",
    "    action, _, _, _ = agent.get_action_and_value(torch.Tensor(np.array([ob])).to(device))\n",
    "    action = action.cpu().numpy()[0]\n",
    "    ob, reward, done, info = test_env.step(action)\n",
    "    if done:\n",
    "        print(f'episodic_return={info[\"episode\"][\"r\"]}, episodic_length={info[\"episode\"][\"l\"]}')\n",
    "        break\n"
   ]
  },
  {
   "cell_type": "markdown",
   "id": "5c048e70-62d2-4d0e-8db7-74420da247cb",
   "metadata": {},
   "source": [
    "### Display full evaluation"
   ]
  },
  {
   "cell_type": "code",
   "execution_count": 12,
   "id": "2e1491d9-3a95-4dcb-922e-599296894526",
   "metadata": {
    "execution": {
     "iopub.execute_input": "2022-10-13T17:33:04.003920Z",
     "iopub.status.busy": "2022-10-13T17:33:04.003704Z",
     "iopub.status.idle": "2022-10-13T17:33:44.449458Z",
     "shell.execute_reply": "2022-10-13T17:33:44.448717Z",
     "shell.execute_reply.started": "2022-10-13T17:33:04.003897Z"
    },
    "tags": []
   },
   "outputs": [
    {
     "name": "stdout",
     "output_type": "stream",
     "text": [
      "Writing frame 1000\n",
      "Finalizing...\n",
      "Done.\n"
     ]
    },
    {
     "data": {
      "text/html": [
       "<img src=\"images/ppo_continuous_test.gif\" width=\"500\" height=\"500\"/>"
      ],
      "text/plain": [
       "<IPython.core.display.Image object>"
      ]
     },
     "execution_count": 12,
     "metadata": {},
     "output_type": "execute_result"
    }
   ],
   "source": [
    "mp4_path = f\"videos/{run_test_name}/rl-video-episode-0.mp4\"\n",
    "gif_path = f\"images/ppo_continuous_test.gif\"\n",
    "\n",
    "mp4_to_gif(mp4_path, gif_path)\n",
    "Image(url=gif_path, width=500, height=500)"
   ]
  },
  {
   "cell_type": "code",
   "execution_count": null,
   "id": "0ff1b4eb-95a7-4eca-b5df-771ac1c1f12e",
   "metadata": {},
   "outputs": [],
   "source": []
  }
 ],
 "metadata": {
  "kernelspec": {
   "display_name": "Python 3 (ipykernel)",
   "language": "python",
   "name": "python3"
  },
  "language_info": {
   "codemirror_mode": {
    "name": "ipython",
    "version": 3
   },
   "file_extension": ".py",
   "mimetype": "text/x-python",
   "name": "python",
   "nbconvert_exporter": "python",
   "pygments_lexer": "ipython3",
   "version": "3.8.10"
  }
 },
 "nbformat": 4,
 "nbformat_minor": 5
}
