{
 "cells": [
  {
   "cell_type": "markdown",
   "id": "54ab4e32-3ce5-4249-af8a-f14f93e88d2f",
   "metadata": {},
   "source": [
    "# Discrete PPO\n",
    "This is the implementation of PPO + envpool for discrete action space using image inputs."
   ]
  },
  {
   "cell_type": "markdown",
   "id": "72bf0cf6-6d79-4384-a20f-3d0d5d848291",
   "metadata": {},
   "source": [
    "## Setup arguments"
   ]
  },
  {
   "cell_type": "code",
   "execution_count": 12,
   "id": "949e1a15-c17b-498f-be92-cb52e4b750fe",
   "metadata": {
    "execution": {
     "iopub.execute_input": "2022-10-12T18:10:59.206491Z",
     "iopub.status.busy": "2022-10-12T18:10:59.205560Z",
     "iopub.status.idle": "2022-10-12T18:10:59.229678Z",
     "shell.execute_reply": "2022-10-12T18:10:59.228945Z",
     "shell.execute_reply.started": "2022-10-12T18:10:59.206411Z"
    },
    "tags": []
   },
   "outputs": [
    {
     "name": "stdout",
     "output_type": "stream",
     "text": [
      "The autoreload extension is already loaded. To reload it, use:\n",
      "  %reload_ext autoreload\n"
     ]
    }
   ],
   "source": [
    "%load_ext autoreload\n",
    "%autoreload 2\n",
    "import matplotlib.pyplot as plt\n",
    "%matplotlib inline"
   ]
  },
  {
   "cell_type": "code",
   "execution_count": 13,
   "id": "9f0521e7-34fc-49e5-84d7-326be26185a6",
   "metadata": {
    "execution": {
     "iopub.execute_input": "2022-10-12T18:10:59.921103Z",
     "iopub.status.busy": "2022-10-12T18:10:59.920185Z",
     "iopub.status.idle": "2022-10-12T18:11:00.108447Z",
     "shell.execute_reply": "2022-10-12T18:11:00.107850Z",
     "shell.execute_reply.started": "2022-10-12T18:10:59.921022Z"
    },
    "tags": []
   },
   "outputs": [
    {
     "data": {
      "application/vnd.jupyter.widget-view+json": {
       "model_id": "0a8b141c64434d4187e8a3731c979d5f",
       "version_major": 2,
       "version_minor": 0
      },
      "text/plain": [
       "IntText(value=1, description='seed', tooltip='seed of the experiment')"
      ]
     },
     "metadata": {},
     "output_type": "display_data"
    },
    {
     "data": {
      "application/vnd.jupyter.widget-view+json": {
       "model_id": "811735a1a3a84082a422930eceba2852",
       "version_major": 2,
       "version_minor": 0
      },
      "text/plain": [
       "Checkbox(value=True, description='torch-deterministic', indent=False, tooltip='if toggled, `torch.backends.cud…"
      ]
     },
     "metadata": {},
     "output_type": "display_data"
    },
    {
     "data": {
      "application/vnd.jupyter.widget-view+json": {
       "model_id": "6124538a8a0c4be4b321e40ebc94320b",
       "version_major": 2,
       "version_minor": 0
      },
      "text/plain": [
       "Checkbox(value=True, description='cuda', indent=False, tooltip='if toggled, cuda will be enabled by default')"
      ]
     },
     "metadata": {},
     "output_type": "display_data"
    },
    {
     "data": {
      "application/vnd.jupyter.widget-view+json": {
       "model_id": "43c1f45c333c47439013f77e4ea604ca",
       "version_major": 2,
       "version_minor": 0
      },
      "text/plain": [
       "Checkbox(value=False, description='capture-video', indent=False, tooltip='whether to capture videos of the age…"
      ]
     },
     "metadata": {},
     "output_type": "display_data"
    },
    {
     "data": {
      "application/vnd.jupyter.widget-view+json": {
       "model_id": "66904754c2474866ae90fff0b84c6d1b",
       "version_major": 2,
       "version_minor": 0
      },
      "text/plain": [
       "Text(value='Pong-v4', description='env-id', tooltip='the id of the environment')"
      ]
     },
     "metadata": {},
     "output_type": "display_data"
    },
    {
     "data": {
      "application/vnd.jupyter.widget-view+json": {
       "model_id": "8156d11b0bb14069aaa715653c42077a",
       "version_major": 2,
       "version_minor": 0
      },
      "text/plain": [
       "IntText(value=10000000, description='total-timesteps', tooltip='total timesteps of the experiments')"
      ]
     },
     "metadata": {},
     "output_type": "display_data"
    },
    {
     "data": {
      "application/vnd.jupyter.widget-view+json": {
       "model_id": "185c533f0403440f80f1cefecb091767",
       "version_major": 2,
       "version_minor": 0
      },
      "text/plain": [
       "FloatText(value=0.00025, description='learning-rate', tooltip='the learning rate of the optimizer')"
      ]
     },
     "metadata": {},
     "output_type": "display_data"
    },
    {
     "data": {
      "application/vnd.jupyter.widget-view+json": {
       "model_id": "746618cc3a684b92bec1e476923a27f1",
       "version_major": 2,
       "version_minor": 0
      },
      "text/plain": [
       "IntText(value=8, description='num-envs', tooltip='the number of parallel game environments')"
      ]
     },
     "metadata": {},
     "output_type": "display_data"
    },
    {
     "data": {
      "application/vnd.jupyter.widget-view+json": {
       "model_id": "b36cb84d04d3485199bb7dccde27a20f",
       "version_major": 2,
       "version_minor": 0
      },
      "text/plain": [
       "IntText(value=128, description='num-steps', tooltip='the number of steps to run in each environment per policy…"
      ]
     },
     "metadata": {},
     "output_type": "display_data"
    },
    {
     "data": {
      "application/vnd.jupyter.widget-view+json": {
       "model_id": "f2bff71015f848139cee8ccbf302ac5a",
       "version_major": 2,
       "version_minor": 0
      },
      "text/plain": [
       "Checkbox(value=True, description='anneal-lr', indent=False, tooltip='Toggle learning rate annealing for policy…"
      ]
     },
     "metadata": {},
     "output_type": "display_data"
    },
    {
     "data": {
      "application/vnd.jupyter.widget-view+json": {
       "model_id": "fc917fd8aa5c4464ac42572724c9685d",
       "version_major": 2,
       "version_minor": 0
      },
      "text/plain": [
       "FloatText(value=0.99, description='gamma', tooltip='the discount factor gamma')"
      ]
     },
     "metadata": {},
     "output_type": "display_data"
    },
    {
     "data": {
      "application/vnd.jupyter.widget-view+json": {
       "model_id": "c57e480b9de347459e9fd2765eccc856",
       "version_major": 2,
       "version_minor": 0
      },
      "text/plain": [
       "FloatText(value=0.95, description='gae-lambda', tooltip='the lambda for the general advantage estimation')"
      ]
     },
     "metadata": {},
     "output_type": "display_data"
    },
    {
     "data": {
      "application/vnd.jupyter.widget-view+json": {
       "model_id": "4e920079ae8b456f91fc2ebd46f1eda8",
       "version_major": 2,
       "version_minor": 0
      },
      "text/plain": [
       "IntText(value=4, description='num-minibatches', tooltip='The number of mini-batches')"
      ]
     },
     "metadata": {},
     "output_type": "display_data"
    },
    {
     "data": {
      "application/vnd.jupyter.widget-view+json": {
       "model_id": "3cb03e9fe39c4052be8b0c79a354033c",
       "version_major": 2,
       "version_minor": 0
      },
      "text/plain": [
       "IntText(value=4, description='update-epochs', tooltip='The K epochs to update the policy')"
      ]
     },
     "metadata": {},
     "output_type": "display_data"
    },
    {
     "data": {
      "application/vnd.jupyter.widget-view+json": {
       "model_id": "ccd3539046764f559cff28ad4214b0d6",
       "version_major": 2,
       "version_minor": 0
      },
      "text/plain": [
       "Checkbox(value=True, description='norm-adv', indent=False, tooltip='Toggles advantages normalization')"
      ]
     },
     "metadata": {},
     "output_type": "display_data"
    },
    {
     "data": {
      "application/vnd.jupyter.widget-view+json": {
       "model_id": "592fd3589e7a49aab44d041e5cdbad6c",
       "version_major": 2,
       "version_minor": 0
      },
      "text/plain": [
       "FloatText(value=0.1, description='clip-coef', tooltip='the surrogate clipping coefficient')"
      ]
     },
     "metadata": {},
     "output_type": "display_data"
    },
    {
     "data": {
      "application/vnd.jupyter.widget-view+json": {
       "model_id": "0d0d092cacb24cf18b96223c4282310e",
       "version_major": 2,
       "version_minor": 0
      },
      "text/plain": [
       "Checkbox(value=True, description='clip-vloss', indent=False, tooltip='Toggles whether or not to use a clipped …"
      ]
     },
     "metadata": {},
     "output_type": "display_data"
    },
    {
     "data": {
      "application/vnd.jupyter.widget-view+json": {
       "model_id": "299d157d65764f77a27f6f2d1163d33e",
       "version_major": 2,
       "version_minor": 0
      },
      "text/plain": [
       "FloatText(value=0.01, description='ent-coef', tooltip='coefficient of the entropy')"
      ]
     },
     "metadata": {},
     "output_type": "display_data"
    },
    {
     "data": {
      "application/vnd.jupyter.widget-view+json": {
       "model_id": "8bac172505f24e8caed39711b305f819",
       "version_major": 2,
       "version_minor": 0
      },
      "text/plain": [
       "FloatText(value=0.5, description='vf-coef', tooltip='coefficient of the value function')"
      ]
     },
     "metadata": {},
     "output_type": "display_data"
    },
    {
     "data": {
      "application/vnd.jupyter.widget-view+json": {
       "model_id": "045c6109d16f4ae8af6010ee3876c33c",
       "version_major": 2,
       "version_minor": 0
      },
      "text/plain": [
       "FloatText(value=0.5, description='max-grad-norm', tooltip='the maximum norm for the gradient clipping')"
      ]
     },
     "metadata": {},
     "output_type": "display_data"
    },
    {
     "data": {
      "application/vnd.jupyter.widget-view+json": {
       "model_id": "28bc12cf77da4a9a92ded38be4994759",
       "version_major": 2,
       "version_minor": 0
      },
      "text/plain": [
       "FloatText(value=0.0, description='target-kl', tooltip='the target KL divergence threshold')"
      ]
     },
     "metadata": {},
     "output_type": "display_data"
    }
   ],
   "source": [
    "import ipywidgets as widgets\n",
    "from IPython.display import display, clear_output, Image\n",
    "\n",
    "import time\n",
    "\n",
    "import numpy as np\n",
    "import torch\n",
    "\n",
    "from torch_rl.jupyter_utils import (\n",
    "    WidgetParser,\n",
    "    plot_metrics_notebook\n",
    ")\n",
    "\n",
    "from torch_rl.utils import (\n",
    "    seed_everything,\n",
    "    mp4_to_gif,\n",
    "    MetricStore,\n",
    "    SPS\n",
    ")\n",
    "\n",
    "\n",
    "parser = WidgetParser()\n",
    "parser.add_widget(widgets.IntText(\n",
    "    description='seed',\n",
    "    value=1,\n",
    "    tooltip=\"seed of the experiment\"\n",
    "))\n",
    "\n",
    "parser.add_widget(widgets.Checkbox(\n",
    "    description=\"torch-deterministic\",\n",
    "    value=True,\n",
    "    disabled=False,\n",
    "    indent=False,\n",
    "    tooltip=\"if toggled, `torch.backends.cudnn.deterministic=False`\"\n",
    "))\n",
    "\n",
    "parser.add_widget(widgets.Checkbox(\n",
    "    description=\"cuda\",\n",
    "    value=True,\n",
    "    disabled=False,\n",
    "    indent=False,\n",
    "    tooltip=\"if toggled, cuda will be enabled by default\"\n",
    "))\n",
    "\n",
    "parser.add_widget(widgets.Checkbox(\n",
    "    description=\"capture-video\",\n",
    "    value=False,\n",
    "    disabled=False,\n",
    "    indent=False,\n",
    "    tooltip=\"whether to capture videos of the agent performances (check out `videos` folder)\"\n",
    "))\n",
    "\n",
    "parser.add_widget(widgets.Text(\n",
    "    description=\"env-id\",\n",
    "    value=\"Pong-v4\",\n",
    "    tooltip=\"the id of the environment\"\n",
    "))\n",
    "\n",
    "parser.add_widget(widgets.IntText(\n",
    "    description='total-timesteps',\n",
    "    value=10000000,\n",
    "    tooltip=\"total timesteps of the experiments\"\n",
    "))\n",
    "\n",
    "parser.add_widget(widgets.FloatText(\n",
    "    description='learning-rate',\n",
    "    value=2.5e-4,\n",
    "    tooltip=\"the learning rate of the optimizer\"\n",
    "))\n",
    "\n",
    "parser.add_widget(widgets.IntText(\n",
    "    description='num-envs',\n",
    "    value=8,\n",
    "    tooltip=\"the number of parallel game environments\"\n",
    "))\n",
    "\n",
    "parser.add_widget(widgets.IntText(\n",
    "    description='num-steps',\n",
    "    value=128,\n",
    "    tooltip=\"the number of steps to run in each environment per policy rollout\"\n",
    "))\n",
    "\n",
    "parser.add_widget(widgets.Checkbox(\n",
    "    description=\"anneal-lr\",\n",
    "    value=True,\n",
    "    disabled=False,\n",
    "    indent=False,\n",
    "    tooltip=\"Toggle learning rate annealing for policy and value networks\"\n",
    "))\n",
    "\n",
    "parser.add_widget(widgets.FloatText(\n",
    "    description='gamma',\n",
    "    value=0.99,\n",
    "    tooltip=\"the discount factor gamma\"\n",
    "))\n",
    "\n",
    "parser.add_widget(widgets.FloatText(\n",
    "    description='gae-lambda',\n",
    "    value=0.95,\n",
    "    tooltip=\"the lambda for the general advantage estimation\"\n",
    "))\n",
    "\n",
    "parser.add_widget(widgets.IntText(\n",
    "    description='num-minibatches',\n",
    "    value=4,\n",
    "    tooltip=\"The number of mini-batches\"\n",
    "))\n",
    "\n",
    "parser.add_widget(widgets.IntText(\n",
    "    description='update-epochs',\n",
    "    value=4,\n",
    "    tooltip=\"The K epochs to update the policy\"\n",
    "))\n",
    "\n",
    "parser.add_widget(widgets.Checkbox(\n",
    "    description=\"norm-adv\",\n",
    "    value=True,\n",
    "    disabled=False,\n",
    "    indent=False,\n",
    "    tooltip=\"Toggles advantages normalization\"\n",
    "))\n",
    "\n",
    "parser.add_widget(widgets.FloatText(\n",
    "    description='clip-coef',\n",
    "    value=0.1,\n",
    "    tooltip=\"the surrogate clipping coefficient\"\n",
    "))\n",
    "\n",
    "parser.add_widget(widgets.Checkbox(\n",
    "    description=\"clip-vloss\",\n",
    "    value=True,\n",
    "    disabled=False,\n",
    "    indent=False,\n",
    "    tooltip=\"Toggles whether or not to use a clipped loss for the value function, as per the paper\"\n",
    "))\n",
    "\n",
    "parser.add_widget(widgets.FloatText(\n",
    "    description='ent-coef',\n",
    "    value=0.01,\n",
    "    tooltip=\"coefficient of the entropy\"\n",
    "))\n",
    "\n",
    "parser.add_widget(widgets.FloatText(\n",
    "    description='vf-coef',\n",
    "    value=0.5,\n",
    "    tooltip=\"coefficient of the value function\"\n",
    "))\n",
    "\n",
    "parser.add_widget(widgets.FloatText(\n",
    "    description='max-grad-norm',\n",
    "    value=0.5,\n",
    "    tooltip=\"the maximum norm for the gradient clipping\"\n",
    "))\n",
    "\n",
    "parser.add_widget(widgets.FloatText(\n",
    "    description='target-kl',\n",
    "    value=0,\n",
    "    tooltip=\"the target KL divergence threshold\"\n",
    "))"
   ]
  },
  {
   "cell_type": "markdown",
   "id": "b9c0283d-5bd9-431e-9a7e-a0a83f5dfc6d",
   "metadata": {},
   "source": [
    "### Parse inputs"
   ]
  },
  {
   "cell_type": "code",
   "execution_count": 14,
   "id": "e95c57e4-126e-4cac-9454-6af1863c29d0",
   "metadata": {
    "execution": {
     "iopub.execute_input": "2022-10-12T18:12:06.330814Z",
     "iopub.status.busy": "2022-10-12T18:12:06.330496Z",
     "iopub.status.idle": "2022-10-12T18:12:06.352741Z",
     "shell.execute_reply": "2022-10-12T18:12:06.351991Z",
     "shell.execute_reply.started": "2022-10-12T18:12:06.330794Z"
    }
   },
   "outputs": [
    {
     "data": {
      "text/plain": [
       "'using device cuda'"
      ]
     },
     "metadata": {},
     "output_type": "display_data"
    }
   ],
   "source": [
    "args = parser.parse()\n",
    "args.batch_size = int(args.num_envs * args.num_steps)\n",
    "args.minibatch_size = int(args.batch_size // args.num_minibatches)\n",
    "\n",
    "run_name = f\"{args.env_id}__ppo__{args.seed}__{int(time.time())}\"\n",
    "device = torch.device(\"cuda\" if torch.cuda.is_available() and args.cuda else \"cpu\")\n",
    "seed_everything(args.seed, args.torch_deterministic)\n",
    "display(f\"using device {device}\")"
   ]
  },
  {
   "cell_type": "markdown",
   "id": "0b53fde3-b2aa-45b4-8ac1-f28e6b21b68e",
   "metadata": {},
   "source": [
    "## Setup environment"
   ]
  },
  {
   "cell_type": "code",
   "execution_count": 15,
   "id": "e30e563d-4eb3-4626-941a-f156979190ac",
   "metadata": {
    "execution": {
     "iopub.execute_input": "2022-10-12T18:12:06.354548Z",
     "iopub.status.busy": "2022-10-12T18:12:06.354224Z",
     "iopub.status.idle": "2022-10-12T18:12:06.376008Z",
     "shell.execute_reply": "2022-10-12T18:12:06.375192Z",
     "shell.execute_reply.started": "2022-10-12T18:12:06.354519Z"
    },
    "tags": []
   },
   "outputs": [],
   "source": [
    "import gym\n",
    "from torch_rl.atari import (\n",
    "    NoopResetEnv,\n",
    "    MaxAndSkipEnv,\n",
    "    EpisodicLifeEnv,\n",
    "    ClipRewardEnv,\n",
    "    FireResetEnv\n",
    ")\n",
    "\n",
    "\n",
    "def make_env(env_id, seed, idx, capture_video, run_name):\n",
    "    def thunk():\n",
    "        env = gym.make(env_id)\n",
    "        env = gym.wrappers.RecordEpisodeStatistics(env)\n",
    "        if capture_video:\n",
    "            if idx == 0:\n",
    "                env = gym.wrappers.RecordVideo(env, f\"videos/{run_name}\")\n",
    "        env = NoopResetEnv(env, noop_max=30)\n",
    "        env = MaxAndSkipEnv(env, skip=4)\n",
    "        env = EpisodicLifeEnv(env)\n",
    "        if \"FIRE\" in env.unwrapped.get_action_meanings():\n",
    "            env = FireResetEnv(env)\n",
    "        env = ClipRewardEnv(env)\n",
    "        env = gym.wrappers.ResizeObservation(env, (84, 84))\n",
    "        env = gym.wrappers.GrayScaleObservation(env)\n",
    "        env = gym.wrappers.FrameStack(env, 4)\n",
    "        env.seed(seed)\n",
    "        env.action_space.seed(seed)\n",
    "        env.observation_space.seed(seed)\n",
    "        return env\n",
    "\n",
    "    return thunk\n",
    "\n",
    "\n",
    "def layer_init(layer, std=np.sqrt(2), bias_const=0.0):\n",
    "    torch.nn.init.orthogonal_(layer.weight, std)\n",
    "    torch.nn.init.constant_(layer.bias, bias_const)\n",
    "    return layer"
   ]
  },
  {
   "cell_type": "markdown",
   "id": "7e6ef50e-adfe-47c7-9745-6105462dd25c",
   "metadata": {},
   "source": [
    "### Ensure environment compatibility"
   ]
  },
  {
   "cell_type": "code",
   "execution_count": 16,
   "id": "39eec428-f195-40b3-8766-780b1574dd2b",
   "metadata": {
    "execution": {
     "iopub.execute_input": "2022-10-12T18:12:06.377508Z",
     "iopub.status.busy": "2022-10-12T18:12:06.377155Z",
     "iopub.status.idle": "2022-10-12T18:12:08.588221Z",
     "shell.execute_reply": "2022-10-12T18:12:08.587290Z",
     "shell.execute_reply.started": "2022-10-12T18:12:06.377487Z"
    }
   },
   "outputs": [],
   "source": [
    "envs = gym.vector.SyncVectorEnv(\n",
    "        [make_env(args.env_id, args.seed + i, i, args.capture_video, run_name) for i in range(args.num_envs)]\n",
    ")\n",
    "assert isinstance(envs.single_action_space, gym.spaces.Discrete), \"only discrete action space is supported\""
   ]
  },
  {
   "cell_type": "markdown",
   "id": "d564f66b-d7f8-4210-a875-6fe61ec1a11d",
   "metadata": {},
   "source": [
    "### Environment examples"
   ]
  },
  {
   "cell_type": "code",
   "execution_count": 17,
   "id": "a6f7cad5-0983-4d29-8cb8-ee5fb11b34f7",
   "metadata": {
    "execution": {
     "iopub.execute_input": "2022-10-12T18:12:08.589370Z",
     "iopub.status.busy": "2022-10-12T18:12:08.589079Z",
     "iopub.status.idle": "2022-10-12T18:12:08.974719Z",
     "shell.execute_reply": "2022-10-12T18:12:08.974028Z",
     "shell.execute_reply.started": "2022-10-12T18:12:08.589352Z"
    },
    "tags": []
   },
   "outputs": [
    {
     "data": {
      "image/png": "[encoded data removed]",
      "text/plain": [
       "<Figure size 640x480 with 1 Axes>"
      ]
     },
     "metadata": {},
     "output_type": "display_data"
    }
   ],
   "source": [
    "tmp_env = make_env(args.env_id, args.seed, 0, False, None)()\n",
    "ob = tmp_env.reset()\n",
    "\n",
    "plt.title(args.env_id)\n",
    "plt.imshow(tmp_env.render(\"rgb_array\"))\n",
    "plt.axis('off')\n",
    "plt.show()"
   ]
  },
  {
   "cell_type": "code",
   "execution_count": 18,
   "id": "976f76e2-af45-4107-9610-4115dd23ef1a",
   "metadata": {
    "execution": {
     "iopub.execute_input": "2022-10-12T18:12:08.976689Z",
     "iopub.status.busy": "2022-10-12T18:12:08.976422Z",
     "iopub.status.idle": "2022-10-12T18:12:09.111800Z",
     "shell.execute_reply": "2022-10-12T18:12:09.111086Z",
     "shell.execute_reply.started": "2022-10-12T18:12:08.976668Z"
    },
    "tags": []
   },
   "outputs": [
    {
     "data": {
      "image/png": "[encoded data removed]",
      "text/plain": [
       "<Figure size 640x480 with 1 Axes>"
      ]
     },
     "metadata": {},
     "output_type": "display_data"
    }
   ],
   "source": [
    "action = tmp_env.action_space.sample()\n",
    "ob, reward, done, info = tmp_env.step(action)\n",
    "plt.title(\"Agent observation (4 frames left to right)\")\n",
    "state_dim = tmp_env.observation_space.shape\n",
    "plt.imshow(np.array(tmp_env.frames).transpose([0,2,1]).reshape([-1,state_dim[1]]).transpose([1,0]))\n",
    "plt.show()"
   ]
  },
  {
   "cell_type": "code",
   "execution_count": 19,
   "id": "b012f3ae-facb-4055-a780-48c887b8d17f",
   "metadata": {
    "execution": {
     "iopub.execute_input": "2022-10-12T18:12:09.112968Z",
     "iopub.status.busy": "2022-10-12T18:12:09.112730Z",
     "iopub.status.idle": "2022-10-12T18:12:09.134834Z",
     "shell.execute_reply": "2022-10-12T18:12:09.134163Z",
     "shell.execute_reply.started": "2022-10-12T18:12:09.112948Z"
    },
    "tags": []
   },
   "outputs": [
    {
     "data": {
      "text/plain": [
       "(0, (4, 84, 84))"
      ]
     },
     "execution_count": 19,
     "metadata": {},
     "output_type": "execute_result"
    }
   ],
   "source": [
    "action = tmp_env.action_space.sample()\n",
    "ob, reward, done, info = tmp_env.step(action)\n",
    "action, ob.shape"
   ]
  },
  {
   "cell_type": "markdown",
   "id": "76ed0dd4-3fa0-4373-ba59-43973f0fd3cc",
   "metadata": {},
   "source": [
    "## Modeling"
   ]
  },
  {
   "cell_type": "markdown",
   "id": "ae74d95f-7c18-45ad-b11e-9b917cc1ab48",
   "metadata": {},
   "source": [
    "### PPO training Wrapper"
   ]
  },
  {
   "cell_type": "code",
   "execution_count": 20,
   "id": "0cfbf718-8113-42f3-a808-aea7e10dd036",
   "metadata": {
    "execution": {
     "iopub.execute_input": "2022-10-12T18:12:09.135941Z",
     "iopub.status.busy": "2022-10-12T18:12:09.135678Z",
     "iopub.status.idle": "2022-10-12T18:12:09.217806Z",
     "shell.execute_reply": "2022-10-12T18:12:09.217232Z",
     "shell.execute_reply.started": "2022-10-12T18:12:09.135921Z"
    },
    "tags": []
   },
   "outputs": [],
   "source": [
    "from torch_rl.ppo import PPO, PPOTrainingWrapper\n",
    "agent = PPO(\n",
    "    envs\n",
    ").to(device)\n",
    "\n",
    "wrapper = PPOTrainingWrapper(\n",
    "    model = agent,\n",
    "    env=envs,\n",
    "    device=device\n",
    ")"
   ]
  },
  {
   "cell_type": "markdown",
   "id": "45c1cf3c-7a48-4a80-8ebe-4454f0ee6725",
   "metadata": {},
   "source": [
    "### Setup plots"
   ]
  },
  {
   "cell_type": "code",
   "execution_count": 21,
   "id": "882b44b4-0bee-4a02-a743-d1e9e7c5d3d3",
   "metadata": {
    "execution": {
     "iopub.execute_input": "2022-10-12T18:12:09.221911Z",
     "iopub.status.busy": "2022-10-12T18:12:09.221126Z",
     "iopub.status.idle": "2022-10-12T18:12:09.241294Z",
     "shell.execute_reply": "2022-10-12T18:12:09.240463Z",
     "shell.execute_reply.started": "2022-10-12T18:12:09.221889Z"
    }
   },
   "outputs": [],
   "source": [
    "from torch_rl.utils import SPS\n",
    "\n",
    "\n",
    "def plot_metric(global_step, ms, sps, show_model_metrics=True):\n",
    "    env_metric_list = [\"episodic_return\", \"episodic_length\"]\n",
    "    model_metric_list = [\"value_loss\", \"policy_loss\"]\n",
    "    env_color_list = [\"blue\", \"black\"]\n",
    "    model_color_list = [\"orange\", \"red\"]\n",
    "    if show_model_metrics:\n",
    "        metric_list = env_metric_list + model_metric_list\n",
    "        color_list = env_color_list + model_color_list\n",
    "    else:\n",
    "        metric_list = env_metric_list\n",
    "        color_list = env_color_list\n",
    "\n",
    "    sps.step(global_step)\n",
    "    plot_metrics_notebook(ms, metric_list, color_list, sps=sps)\n"
   ]
  },
  {
   "cell_type": "markdown",
   "id": "89b7d082-ee8c-4343-97c9-d8a4cb9e3029",
   "metadata": {},
   "source": [
    "### PPO training loop"
   ]
  },
  {
   "cell_type": "code",
   "execution_count": 22,
   "id": "21b30a56-e50d-4752-9339-87a1b64e450c",
   "metadata": {
    "execution": {
     "iopub.execute_input": "2022-10-12T18:12:09.242929Z",
     "iopub.status.busy": "2022-10-12T18:12:09.242664Z",
     "iopub.status.idle": "2022-10-12T23:36:11.585791Z",
     "shell.execute_reply": "2022-10-12T23:36:11.585070Z",
     "shell.execute_reply.started": "2022-10-12T18:12:09.242909Z"
    },
    "tags": []
   },
   "outputs": [
    {
     "name": "stdout",
     "output_type": "stream",
     "text": [
      "99% processed at 514 SPS. Remaining: 11 second(s) \n",
      "\n"
     ]
    },
    {
     "data": {
      "image/png": "[encoded data removed]",
      "text/plain": [
       "<Figure size 640x480 with 4 Axes>"
      ]
     },
     "metadata": {},
     "output_type": "display_data"
    }
   ],
   "source": [
    "import random\n",
    "import torch.optim as optim\n",
    "from collections import deque\n",
    "from IPython.display import display, clear_output\n",
    "\n",
    "\n",
    "optimizer = wrapper.get_optimizer(lr=args.learning_rate, eps=1e-5)\n",
    "ts = wrapper.get_storage(args.num_steps, args.num_envs)\n",
    "\n",
    "ms = MetricStore()\n",
    "sps = SPS(args.total_timesteps)\n",
    "\n",
    "global_step = 0\n",
    "start_time = time.time()\n",
    "next_obs = torch.Tensor(envs.reset()).to(device)\n",
    "next_done = torch.zeros(args.num_envs).to(device)\n",
    "num_updates = args.total_timesteps // args.batch_size\n",
    "\n",
    "for update in range(1, num_updates + 1):\n",
    "    if args.anneal_lr:\n",
    "        lrnow = wrapper.anneal_lr(args.learning_rate, update, num_updates)\n",
    "        optimizer.param_groups[0][\"lr\"] = lrnow\n",
    "\n",
    "    for step in range(0, args.num_steps):\n",
    "        global_step += 1 * args.num_envs\n",
    "        ts.obs[step] = next_obs\n",
    "        ts.dones[step] = next_done\n",
    "\n",
    "        with torch.no_grad():\n",
    "            action, logprob, _, value = agent.get_action_and_value(next_obs)\n",
    "            ts.values[step] = value.flatten()\n",
    "        ts.actions[step] = action\n",
    "        ts.logprobs[step] = logprob\n",
    "\n",
    "        next_obs, reward, done, info = envs.step(action.cpu().numpy())\n",
    "        ts.rewards[step] = torch.tensor(reward).to(device).view(-1)\n",
    "        next_obs, next_done = torch.Tensor(next_obs).to(device), torch.Tensor(done).to(device)\n",
    "\n",
    "        for idx, d in enumerate(done):\n",
    "            if d and info[idx][\"lives\"] == 0:\n",
    "                ms.log_metric(\"episodic_return\", info[idx][\"episode\"][\"r\"], global_step)\n",
    "                ms.log_metric(\"episodic_length\", info[idx][\"episode\"][\"l\"], global_step)\n",
    "\n",
    "    with torch.no_grad():\n",
    "        advantages = wrapper.get_advantages(args.num_steps, next_done, next_obs, args.gamma, args.gae_lambda, ts)\n",
    "        returns = advantages + ts.values\n",
    "\n",
    "    b_obs = ts.obs.reshape((-1,) + envs.single_observation_space.shape)\n",
    "    b_logprobs = ts.logprobs.reshape(-1)\n",
    "    b_actions = ts.actions.reshape((-1,) + envs.single_action_space.shape)\n",
    "    b_advantages = advantages.reshape(-1)\n",
    "    b_returns = returns.reshape(-1)\n",
    "    b_values = ts.values.reshape(-1)\n",
    "\n",
    "    # Optimizing the policy and value network\n",
    "    b_inds = np.arange(args.batch_size)\n",
    "    for epoch in range(args.update_epochs):\n",
    "        np.random.shuffle(b_inds)\n",
    "        for start in range(0, args.batch_size, args.minibatch_size):\n",
    "            end = start + args.minibatch_size\n",
    "            mb_inds = b_inds[start:end]\n",
    "\n",
    "            loss, approx_kl, losses = wrapper.train_step(\n",
    "                b_obs[mb_inds],\n",
    "                b_actions.long()[mb_inds],\n",
    "                b_logprobs[mb_inds],\n",
    "                b_advantages[mb_inds],\n",
    "                b_returns[mb_inds],\n",
    "                b_values[mb_inds],\n",
    "                args.norm_adv,\n",
    "                args.clip_coef,\n",
    "                args.clip_vloss,\n",
    "                args.ent_coef,\n",
    "                args.vf_coef\n",
    "            )\n",
    "\n",
    "            optimizer.zero_grad()\n",
    "            loss.backward()\n",
    "            wrapper.clip_grad_norm(args.max_grad_norm)\n",
    "            optimizer.step()\n",
    "\n",
    "        if args.target_kl is not None and args.target_kl > 0:\n",
    "            if approx_kl > args.target_kl:\n",
    "                break\n",
    "\n",
    "    y_pred, y_true = b_values.cpu().numpy(), b_returns.cpu().numpy()\n",
    "    var_y = np.var(y_true)\n",
    "    explained_var = np.nan if var_y == 0 else 1 - np.var(y_true - y_pred) / var_y\n",
    "\n",
    "    (pg_loss, v_loss, entropy_loss) = losses\n",
    "\n",
    "    ms.log_metric(\"learning_rate\", optimizer.param_groups[0][\"lr\"], global_step)\n",
    "    ms.log_metric(\"value_loss\", v_loss.item(), global_step)\n",
    "    ms.log_metric(\"policy_loss\", pg_loss.item(), global_step)\n",
    "    ms.log_metric(\"entropy\", entropy_loss.item(), global_step)\n",
    "    ms.log_metric(\"approx_kl\", approx_kl.item(), global_step)\n",
    "    ms.log_metric(\"explained_variance\", explained_var, global_step)\n",
    "\n",
    "    if update > 0 and update % 10 == 0:\n",
    "        global_step = update * args.batch_size\n",
    "        plot_metric(global_step, ms, sps)\n",
    "\n",
    "\n",
    "envs.close()"
   ]
  },
  {
   "cell_type": "markdown",
   "id": "33f37e7f-dc03-4ba1-9717-67aeabda381f",
   "metadata": {},
   "source": [
    "## Evaluation"
   ]
  },
  {
   "cell_type": "code",
   "execution_count": 23,
   "id": "11189f2e-b627-4fd5-8669-f4a9f3b96cf8",
   "metadata": {
    "execution": {
     "iopub.execute_input": "2022-10-12T23:36:11.587091Z",
     "iopub.status.busy": "2022-10-12T23:36:11.586725Z",
     "iopub.status.idle": "2022-10-12T23:36:11.949289Z",
     "shell.execute_reply": "2022-10-12T23:36:11.948350Z",
     "shell.execute_reply.started": "2022-10-12T23:36:11.587070Z"
    },
    "tags": []
   },
   "outputs": [
    {
     "ename": "TypeError",
     "evalue": "unsupported operand type(s) for /: 'LazyFrames' and 'float'",
     "output_type": "error",
     "traceback": [
      "\u001b[0;31m---------------------------------------------------------------------------\u001b[0m",
      "\u001b[0;31mTypeError\u001b[0m                                 Traceback (most recent call last)",
      "Cell \u001b[0;32mIn [23], line 6\u001b[0m\n\u001b[1;32m      4\u001b[0m ob \u001b[38;5;241m=\u001b[39m test_env\u001b[38;5;241m.\u001b[39mreset()\n\u001b[1;32m      5\u001b[0m \u001b[38;5;28;01mwhile\u001b[39;00m \u001b[38;5;28;01mTrue\u001b[39;00m:\n\u001b[0;32m----> 6\u001b[0m     action, _, _, _ \u001b[38;5;241m=\u001b[39m \u001b[43magent\u001b[49m\u001b[38;5;241;43m.\u001b[39;49m\u001b[43mget_action_and_value\u001b[49m\u001b[43m(\u001b[49m\u001b[43mob\u001b[49m\u001b[43m)\u001b[49m\n\u001b[1;32m      7\u001b[0m     ob, reward, done, info \u001b[38;5;241m=\u001b[39m test_env\u001b[38;5;241m.\u001b[39mstep(action)\n\u001b[1;32m      8\u001b[0m     \u001b[38;5;28;01mif\u001b[39;00m done:\n",
      "File \u001b[0;32m/app/torch_rl/ppo.py:35\u001b[0m, in \u001b[0;36mPPO.get_action_and_value\u001b[0;34m(self, x, action)\u001b[0m\n\u001b[1;32m     34\u001b[0m \u001b[38;5;28;01mdef\u001b[39;00m \u001b[38;5;21mget_action_and_value\u001b[39m(\u001b[38;5;28mself\u001b[39m, x, action\u001b[38;5;241m=\u001b[39m\u001b[38;5;28;01mNone\u001b[39;00m):\n\u001b[0;32m---> 35\u001b[0m     hidden \u001b[38;5;241m=\u001b[39m \u001b[38;5;28mself\u001b[39m\u001b[38;5;241m.\u001b[39mnetwork(\u001b[43mx\u001b[49m\u001b[43m \u001b[49m\u001b[38;5;241;43m/\u001b[39;49m\u001b[43m \u001b[49m\u001b[38;5;241;43m255.0\u001b[39;49m)\n\u001b[1;32m     36\u001b[0m     logits \u001b[38;5;241m=\u001b[39m \u001b[38;5;28mself\u001b[39m\u001b[38;5;241m.\u001b[39mactor(hidden)\n\u001b[1;32m     37\u001b[0m     probs \u001b[38;5;241m=\u001b[39m Categorical(logits\u001b[38;5;241m=\u001b[39mlogits)\n",
      "\u001b[0;31mTypeError\u001b[0m: unsupported operand type(s) for /: 'LazyFrames' and 'float'"
     ]
    }
   ],
   "source": [
    "run_test_name = f\"test-{run_name}\"\n",
    "test_env = make_env(args.env_id, args.seed, 0, True, run_test_name)()\n",
    "\n",
    "ob = test_env.reset()\n",
    "while True:\n",
    "    action, _, _, _ = agent.get_action_and_value(ob)\n",
    "    ob, reward, done, info = test_env.step(action)\n",
    "    if done:\n",
    "        print(f'episodic_return={info[\"episode\"][\"r\"]}, episodic_length={info[\"episode\"][\"l\"]}')\n",
    "        break\n"
   ]
  },
  {
   "cell_type": "markdown",
   "id": "5c048e70-62d2-4d0e-8db7-74420da247cb",
   "metadata": {},
   "source": [
    "### Display full evaluation"
   ]
  },
  {
   "cell_type": "code",
   "execution_count": null,
   "id": "2e1491d9-3a95-4dcb-922e-599296894526",
   "metadata": {
    "execution": {
     "iopub.status.busy": "2022-10-12T23:36:11.949975Z",
     "iopub.status.idle": "2022-10-12T23:36:11.950292Z",
     "shell.execute_reply": "2022-10-12T23:36:11.950160Z",
     "shell.execute_reply.started": "2022-10-12T23:36:11.950134Z"
    },
    "tags": []
   },
   "outputs": [],
   "source": [
    "mp4_path = f\"videos/{run_test_name}/rl-video-episode-0.mp4\"\n",
    "gif_path = f\"images/ppo_atari_test.gif\"\n",
    "\n",
    "mp4_to_gif(mp4_path, gif_path)\n",
    "Image(url=gif_path, width=500, height=500)"
   ]
  }
 ],
 "metadata": {
  "kernelspec": {
   "display_name": "Python 3 (ipykernel)",
   "language": "python",
   "name": "python3"
  },
  "language_info": {
   "codemirror_mode": {
    "name": "ipython",
    "version": 3
   },
   "file_extension": ".py",
   "mimetype": "text/x-python",
   "name": "python",
   "nbconvert_exporter": "python",
   "pygments_lexer": "ipython3",
   "version": "3.8.10"
  }
 },
 "nbformat": 4,
 "nbformat_minor": 5
}
