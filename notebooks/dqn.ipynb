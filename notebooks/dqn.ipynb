{
 "cells": [
  {
   "cell_type": "markdown",
   "id": "41aabc2e-d846-46b3-aebb-ffcf04ece369",
   "metadata": {},
   "source": [
    "# Discrete DQN\n",
    "\n",
    "This is the implementation of DQN for discrete action space using environment information inputs."
   ]
  },
  {
   "cell_type": "markdown",
   "id": "eb08f0a9-12b3-495a-b31c-3de241fa906e",
   "metadata": {
    "tags": []
   },
   "source": [
    "## Setup arguments"
   ]
  },
  {
   "cell_type": "code",
   "execution_count": 1,
   "id": "d55e070b-7ed3-463f-b04c-90b5cab363d1",
   "metadata": {
    "execution": {
     "iopub.execute_input": "2022-10-10T22:05:49.556642Z",
     "iopub.status.busy": "2022-10-10T22:05:49.556364Z",
     "iopub.status.idle": "2022-10-10T22:05:49.963499Z",
     "shell.execute_reply": "2022-10-10T22:05:49.962837Z",
     "shell.execute_reply.started": "2022-10-10T22:05:49.556590Z"
    },
    "tags": []
   },
   "outputs": [],
   "source": [
    "%load_ext autoreload\n",
    "%autoreload 2\n",
    "import matplotlib.pyplot as plt\n",
    "%matplotlib inline"
   ]
  },
  {
   "cell_type": "code",
   "execution_count": 2,
   "id": "04c139fc-ac39-4efa-92da-23e771cbed31",
   "metadata": {
    "execution": {
     "iopub.execute_input": "2022-10-10T22:05:49.965441Z",
     "iopub.status.busy": "2022-10-10T22:05:49.965165Z",
     "iopub.status.idle": "2022-10-10T22:05:50.802455Z",
     "shell.execute_reply": "2022-10-10T22:05:50.801748Z",
     "shell.execute_reply.started": "2022-10-10T22:05:49.965421Z"
    },
    "tags": []
   },
   "outputs": [
    {
     "data": {
      "application/vnd.jupyter.widget-view+json": {
       "model_id": "20db73f2ff4142ab9aa845f05ac71d90",
       "version_major": 2,
       "version_minor": 0
      },
      "text/plain": [
       "IntText(value=1, description='seed', tooltip='seed of the experiment')"
      ]
     },
     "metadata": {},
     "output_type": "display_data"
    },
    {
     "data": {
      "application/vnd.jupyter.widget-view+json": {
       "model_id": "4a7693978f6f41cb911e2b0dc494cd75",
       "version_major": 2,
       "version_minor": 0
      },
      "text/plain": [
       "Checkbox(value=True, description='torch-deterministic', indent=False, tooltip='if toggled, `torch.backends.cud…"
      ]
     },
     "metadata": {},
     "output_type": "display_data"
    },
    {
     "data": {
      "application/vnd.jupyter.widget-view+json": {
       "model_id": "baa2c5fdb91443e693e3f801893bbcdc",
       "version_major": 2,
       "version_minor": 0
      },
      "text/plain": [
       "Checkbox(value=True, description='cuda', indent=False, tooltip='if toggled, cuda will be enabled by default')"
      ]
     },
     "metadata": {},
     "output_type": "display_data"
    },
    {
     "data": {
      "application/vnd.jupyter.widget-view+json": {
       "model_id": "07b3b1e9317946ffa389bd0c0653d87d",
       "version_major": 2,
       "version_minor": 0
      },
      "text/plain": [
       "Checkbox(value=False, description='capture-video', indent=False, tooltip='whether to capture videos of the age…"
      ]
     },
     "metadata": {},
     "output_type": "display_data"
    },
    {
     "data": {
      "application/vnd.jupyter.widget-view+json": {
       "model_id": "713d136b44e14263b60b68140c6bb607",
       "version_major": 2,
       "version_minor": 0
      },
      "text/plain": [
       "Text(value='CartPole-v1', description='env-id', tooltip='the id of the environment')"
      ]
     },
     "metadata": {},
     "output_type": "display_data"
    },
    {
     "data": {
      "application/vnd.jupyter.widget-view+json": {
       "model_id": "97e91e3311044e4dbd93f828d9bc5c3c",
       "version_major": 2,
       "version_minor": 0
      },
      "text/plain": [
       "IntText(value=500000, description='total-timesteps', tooltip='total timesteps of the experiments')"
      ]
     },
     "metadata": {},
     "output_type": "display_data"
    },
    {
     "data": {
      "application/vnd.jupyter.widget-view+json": {
       "model_id": "e150e187495f43ff90e992d0babce497",
       "version_major": 2,
       "version_minor": 0
      },
      "text/plain": [
       "FloatText(value=0.00025, description='learning-rate', tooltip='the learning rate of the optimizer')"
      ]
     },
     "metadata": {},
     "output_type": "display_data"
    },
    {
     "data": {
      "application/vnd.jupyter.widget-view+json": {
       "model_id": "b9badbbe27a64810877056265afab839",
       "version_major": 2,
       "version_minor": 0
      },
      "text/plain": [
       "IntText(value=10000, description='buffer-size', tooltip='the replay memory buffer size')"
      ]
     },
     "metadata": {},
     "output_type": "display_data"
    },
    {
     "data": {
      "application/vnd.jupyter.widget-view+json": {
       "model_id": "915434a6f2224a8d8bf7529ed30ce53c",
       "version_major": 2,
       "version_minor": 0
      },
      "text/plain": [
       "FloatText(value=0.99, description='gamma', tooltip='the discount factor gamma')"
      ]
     },
     "metadata": {},
     "output_type": "display_data"
    },
    {
     "data": {
      "application/vnd.jupyter.widget-view+json": {
       "model_id": "bc04812fbfdd491e826d8a7cb2b32a93",
       "version_major": 2,
       "version_minor": 0
      },
      "text/plain": [
       "IntText(value=500, description='target-network-frequency', tooltip='the timesteps it takes to update the targe…"
      ]
     },
     "metadata": {},
     "output_type": "display_data"
    },
    {
     "data": {
      "application/vnd.jupyter.widget-view+json": {
       "model_id": "13094260b82540deac17718c3935c116",
       "version_major": 2,
       "version_minor": 0
      },
      "text/plain": [
       "IntText(value=128, description='batch-size', tooltip='the batch size of sample from the reply memory')"
      ]
     },
     "metadata": {},
     "output_type": "display_data"
    },
    {
     "data": {
      "application/vnd.jupyter.widget-view+json": {
       "model_id": "600c7d368f15488cbc5d540d7863bdc0",
       "version_major": 2,
       "version_minor": 0
      },
      "text/plain": [
       "FloatText(value=1.0, description='start-e', tooltip='the starting epsilon for exploration')"
      ]
     },
     "metadata": {},
     "output_type": "display_data"
    },
    {
     "data": {
      "application/vnd.jupyter.widget-view+json": {
       "model_id": "6f74bdd6b12e4b75a2480c007a9606d1",
       "version_major": 2,
       "version_minor": 0
      },
      "text/plain": [
       "FloatText(value=0.05, description='end-e', tooltip='the ending epsilon for exploration')"
      ]
     },
     "metadata": {},
     "output_type": "display_data"
    },
    {
     "data": {
      "application/vnd.jupyter.widget-view+json": {
       "model_id": "134252e334e74c9a93ed3d9dc83b6e5e",
       "version_major": 2,
       "version_minor": 0
      },
      "text/plain": [
       "FloatText(value=0.5, description='exploration-fraction', tooltip='the fraction of `total-timesteps` it takes f…"
      ]
     },
     "metadata": {},
     "output_type": "display_data"
    },
    {
     "data": {
      "application/vnd.jupyter.widget-view+json": {
       "model_id": "11de4cfd9efc4e068905657380d76002",
       "version_major": 2,
       "version_minor": 0
      },
      "text/plain": [
       "IntText(value=10000, description='learning-starts', tooltip='timestep to start learning')"
      ]
     },
     "metadata": {},
     "output_type": "display_data"
    },
    {
     "data": {
      "application/vnd.jupyter.widget-view+json": {
       "model_id": "0bdd174fdbd24fec8b9751a40b9782fd",
       "version_major": 2,
       "version_minor": 0
      },
      "text/plain": [
       "IntText(value=10, description='train-frequency', tooltip='the frequency of training')"
      ]
     },
     "metadata": {},
     "output_type": "display_data"
    }
   ],
   "source": [
    "import ipywidgets as widgets\n",
    "from IPython.display import display, clear_output, Image\n",
    "\n",
    "import time\n",
    "\n",
    "import torch\n",
    "import random\n",
    "\n",
    "from torch_rl.jupyter_utils import (\n",
    "    WidgetParser,\n",
    "    plot_metrics_notebook\n",
    ")\n",
    "\n",
    "from torch_rl.utils import (\n",
    "    seed_everything,\n",
    "    handle_terminal_ob,\n",
    "    mp4_to_gif,\n",
    "    MetricStore,\n",
    "    SPS\n",
    ")\n",
    "\n",
    "\n",
    "parser = WidgetParser()\n",
    "parser.add_widget(widgets.IntText(\n",
    "    description='seed',\n",
    "    value=1,\n",
    "    tooltip=\"seed of the experiment\"\n",
    "))\n",
    "\n",
    "parser.add_widget(widgets.Checkbox(\n",
    "    description=\"torch-deterministic\",\n",
    "    value=True,\n",
    "    disabled=False,\n",
    "    indent=False,\n",
    "    tooltip=\"if toggled, `torch.backends.cudnn.deterministic=False`\"\n",
    "))\n",
    "\n",
    "parser.add_widget(widgets.Checkbox(\n",
    "    description=\"cuda\",\n",
    "    value=True,\n",
    "    disabled=False,\n",
    "    indent=False,\n",
    "    tooltip=\"if toggled, cuda will be enabled by default\"\n",
    "))\n",
    "\n",
    "parser.add_widget(widgets.Checkbox(\n",
    "    description=\"capture-video\",\n",
    "    value=False,\n",
    "    disabled=False,\n",
    "    indent=False,\n",
    "    tooltip=\"whether to capture videos of the agent performances (check out `videos` folder)\"\n",
    "))\n",
    "\n",
    "parser.add_widget(widgets.Text(\n",
    "    description=\"env-id\",\n",
    "    value=\"CartPole-v1\",\n",
    "    tooltip=\"the id of the environment\"\n",
    "))\n",
    "\n",
    "parser.add_widget(widgets.IntText(\n",
    "    description='total-timesteps',\n",
    "    value=500000,\n",
    "    tooltip=\"total timesteps of the experiments\"\n",
    "))\n",
    "\n",
    "parser.add_widget(widgets.FloatText(\n",
    "    description='learning-rate',\n",
    "    value=2.5e-4,\n",
    "    tooltip=\"the learning rate of the optimizer\"\n",
    "))\n",
    "\n",
    "parser.add_widget(widgets.IntText(\n",
    "    description='buffer-size',\n",
    "    value=10000,\n",
    "    tooltip=\"the replay memory buffer size\"\n",
    "))\n",
    "\n",
    "parser.add_widget(widgets.FloatText(\n",
    "    description='gamma',\n",
    "    value=0.99,\n",
    "    tooltip=\"the discount factor gamma\"\n",
    "))\n",
    "\n",
    "parser.add_widget(widgets.IntText(\n",
    "    description='target-network-frequency',\n",
    "    value=500,\n",
    "    tooltip=\"the timesteps it takes to update the target network\"\n",
    "))\n",
    "\n",
    "parser.add_widget(widgets.IntText(\n",
    "    description='batch-size',\n",
    "    value=128,\n",
    "    tooltip=\"the batch size of sample from the reply memory\"\n",
    "))\n",
    "\n",
    "parser.add_widget(widgets.FloatText(\n",
    "    description='start-e',\n",
    "    value=1.0,\n",
    "    tooltip=\"the starting epsilon for exploration\"\n",
    "))\n",
    "\n",
    "parser.add_widget(widgets.FloatText(\n",
    "    description='end-e',\n",
    "    value=0.05,\n",
    "    tooltip=\"the ending epsilon for exploration\"\n",
    "))\n",
    "\n",
    "parser.add_widget(widgets.FloatText(\n",
    "    description='exploration-fraction',\n",
    "    value=0.5,\n",
    "    tooltip=\"the fraction of `total-timesteps` it takes from start-e to go end-e\"\n",
    "))\n",
    "\n",
    "parser.add_widget(widgets.IntText(\n",
    "    description='learning-starts',\n",
    "    value=10000,\n",
    "    tooltip=\"timestep to start learning\"\n",
    "))\n",
    "\n",
    "parser.add_widget(widgets.IntText(\n",
    "    description='train-frequency',\n",
    "    value=10,\n",
    "    tooltip=\"the frequency of training\"\n",
    "))\n"
   ]
  },
  {
   "cell_type": "markdown",
   "id": "f93fd2dc-1acd-4a98-85ab-40141ecff47b",
   "metadata": {},
   "source": [
    "### Parse inputs"
   ]
  },
  {
   "cell_type": "code",
   "execution_count": 3,
   "id": "1b417f3a-206d-4624-85fb-62789374bb76",
   "metadata": {
    "execution": {
     "iopub.execute_input": "2022-10-10T22:05:50.803507Z",
     "iopub.status.busy": "2022-10-10T22:05:50.803220Z",
     "iopub.status.idle": "2022-10-10T22:05:50.822476Z",
     "shell.execute_reply": "2022-10-10T22:05:50.821737Z",
     "shell.execute_reply.started": "2022-10-10T22:05:50.803487Z"
    },
    "tags": []
   },
   "outputs": [
    {
     "data": {
      "text/plain": [
       "'using device cuda'"
      ]
     },
     "metadata": {},
     "output_type": "display_data"
    }
   ],
   "source": [
    "args = parser.parse()\n",
    "\n",
    "run_name = f\"{args.env_id}__dqn__{args.seed}__{int(time.time())}\"\n",
    "device = torch.device(\"cuda\" if torch.cuda.is_available() and args.cuda else \"cpu\")\n",
    "seed_everything(args.seed, args.torch_deterministic)\n",
    "display(f\"using device {device}\")"
   ]
  },
  {
   "cell_type": "markdown",
   "id": "49de7812-47cd-4b73-a015-fa3bc6decb72",
   "metadata": {},
   "source": [
    "## Setup environment"
   ]
  },
  {
   "cell_type": "code",
   "execution_count": 4,
   "id": "eebc8f65-d3ba-40f5-8c0e-a6486e3e5074",
   "metadata": {
    "execution": {
     "iopub.execute_input": "2022-10-10T22:05:50.823720Z",
     "iopub.status.busy": "2022-10-10T22:05:50.823390Z",
     "iopub.status.idle": "2022-10-10T22:05:51.038049Z",
     "shell.execute_reply": "2022-10-10T22:05:51.037343Z",
     "shell.execute_reply.started": "2022-10-10T22:05:50.823673Z"
    },
    "tags": []
   },
   "outputs": [],
   "source": [
    "import gym\n",
    "\n",
    "import numpy as np\n",
    "import torch\n",
    "import torch.nn as nn\n",
    "import torch.nn.functional as F\n",
    "\n",
    "\n",
    "def make_env(env_id, seed, idx, capture_video, run_name):\n",
    "    def thunk():\n",
    "        env = gym.make(env_id)\n",
    "        env = gym.wrappers.RecordEpisodeStatistics(env)\n",
    "        if capture_video:\n",
    "            if idx == 0:\n",
    "                env = gym.wrappers.RecordVideo(env, f\"videos/{run_name}\")\n",
    "        env.seed(seed)\n",
    "        env.action_space.seed(seed)\n",
    "        env.observation_space.seed(seed)\n",
    "        return env\n",
    "\n",
    "    return thunk"
   ]
  },
  {
   "cell_type": "markdown",
   "id": "72fffc90-d838-4b3d-96f0-683ea7ddd01d",
   "metadata": {},
   "source": [
    "### Ensure environment compatibility"
   ]
  },
  {
   "cell_type": "code",
   "execution_count": 5,
   "id": "cb7cba57-366e-412e-8eb6-42b9c7fec5ad",
   "metadata": {
    "execution": {
     "iopub.execute_input": "2022-10-10T22:05:51.039221Z",
     "iopub.status.busy": "2022-10-10T22:05:51.038963Z",
     "iopub.status.idle": "2022-10-10T22:05:51.060346Z",
     "shell.execute_reply": "2022-10-10T22:05:51.059661Z",
     "shell.execute_reply.started": "2022-10-10T22:05:51.039202Z"
    },
    "tags": []
   },
   "outputs": [],
   "source": [
    "envs = gym.vector.SyncVectorEnv([make_env(args.env_id, args.seed, 0, args.capture_video, run_name)])\n",
    "assert isinstance(envs.single_action_space, gym.spaces.Discrete), \"only discrete action space is supported\""
   ]
  },
  {
   "cell_type": "markdown",
   "id": "6d229b6b-efac-43bd-818f-74c15f118f9b",
   "metadata": {
    "execution": {
     "iopub.execute_input": "2022-10-03T03:17:34.254488Z",
     "iopub.status.busy": "2022-10-03T03:17:34.254047Z",
     "iopub.status.idle": "2022-10-03T03:17:34.270359Z",
     "shell.execute_reply": "2022-10-03T03:17:34.269512Z",
     "shell.execute_reply.started": "2022-10-03T03:17:34.254464Z"
    }
   },
   "source": [
    "### Environment examples"
   ]
  },
  {
   "cell_type": "code",
   "execution_count": 6,
   "id": "f888da2e-94d1-4af7-992d-4e45face59bb",
   "metadata": {
    "execution": {
     "iopub.execute_input": "2022-10-10T22:05:51.061386Z",
     "iopub.status.busy": "2022-10-10T22:05:51.061158Z",
     "iopub.status.idle": "2022-10-10T22:05:51.573220Z",
     "shell.execute_reply": "2022-10-10T22:05:51.572584Z",
     "shell.execute_reply.started": "2022-10-10T22:05:51.061367Z"
    },
    "tags": []
   },
   "outputs": [
    {
     "data": {
      "image/png": "[encoded data removed]",
      "text/plain": [
       "<Figure size 640x480 with 1 Axes>"
      ]
     },
     "metadata": {},
     "output_type": "display_data"
    }
   ],
   "source": [
    "tmp_env = make_env(args.env_id, args.seed, 0, False, None)()\n",
    "ob = tmp_env.reset()\n",
    "\n",
    "plt.title(args.env_id)\n",
    "plt.imshow(tmp_env.render(\"rgb_array\"))\n",
    "plt.axis('off')\n",
    "plt.show()"
   ]
  },
  {
   "cell_type": "code",
   "execution_count": 7,
   "id": "1546dbcd-5820-40df-9b7d-528b791659ed",
   "metadata": {
    "execution": {
     "iopub.execute_input": "2022-10-10T22:05:51.577919Z",
     "iopub.status.busy": "2022-10-10T22:05:51.577659Z",
     "iopub.status.idle": "2022-10-10T22:05:51.602310Z",
     "shell.execute_reply": "2022-10-10T22:05:51.601517Z",
     "shell.execute_reply.started": "2022-10-10T22:05:51.577896Z"
    },
    "tags": []
   },
   "outputs": [
    {
     "data": {
      "text/plain": [
       "(1, array([ 0.03076804,  0.19700098, -0.03151444, -0.33357874], dtype=float32))"
      ]
     },
     "execution_count": 7,
     "metadata": {},
     "output_type": "execute_result"
    }
   ],
   "source": [
    "action = tmp_env.action_space.sample()\n",
    "ob, reward, done, info = tmp_env.step(action)\n",
    "action, ob"
   ]
  },
  {
   "cell_type": "markdown",
   "id": "dbff4d3f-31f5-4dd6-91fe-088bc6252fd0",
   "metadata": {},
   "source": [
    "## Modeling"
   ]
  },
  {
   "cell_type": "markdown",
   "id": "441336c2-97c3-49c9-b12a-21cfd4a06df3",
   "metadata": {},
   "source": [
    "### Define Neural Network"
   ]
  },
  {
   "cell_type": "code",
   "execution_count": 8,
   "id": "ba819a6e-0552-4d22-bcca-768c22651999",
   "metadata": {
    "execution": {
     "iopub.execute_input": "2022-10-10T22:05:51.603453Z",
     "iopub.status.busy": "2022-10-10T22:05:51.603189Z",
     "iopub.status.idle": "2022-10-10T22:05:51.623291Z",
     "shell.execute_reply": "2022-10-10T22:05:51.622458Z",
     "shell.execute_reply.started": "2022-10-10T22:05:51.603433Z"
    }
   },
   "outputs": [],
   "source": [
    "class QNetwork(nn.Module):\n",
    "    def __init__(self, env):\n",
    "        super().__init__()\n",
    "        self.network = nn.Sequential(\n",
    "            nn.Linear(np.array(env.single_observation_space.shape).prod(), 120),\n",
    "            nn.ReLU(),\n",
    "            nn.Linear(120, 84),\n",
    "            nn.ReLU(),\n",
    "            nn.Linear(84, env.single_action_space.n),\n",
    "        )\n",
    "\n",
    "    def forward(self, x):\n",
    "        return self.network(x)"
   ]
  },
  {
   "cell_type": "markdown",
   "id": "398bf469-74ef-4f94-9218-8a94369e5f70",
   "metadata": {},
   "source": [
    "### DQN training Wrapper"
   ]
  },
  {
   "cell_type": "code",
   "execution_count": 9,
   "id": "b44085d8-b1d6-47a6-9c8a-11af1566a1e0",
   "metadata": {
    "execution": {
     "iopub.execute_input": "2022-10-10T22:05:51.624543Z",
     "iopub.status.busy": "2022-10-10T22:05:51.624317Z",
     "iopub.status.idle": "2022-10-10T22:05:53.103239Z",
     "shell.execute_reply": "2022-10-10T22:05:53.102457Z",
     "shell.execute_reply.started": "2022-10-10T22:05:51.624522Z"
    },
    "tags": []
   },
   "outputs": [],
   "source": [
    "from torch_rl.dqn import (\n",
    "    DQN,\n",
    "    DQNTrainingWrapper\n",
    ")\n",
    "\n",
    "\n",
    "dqn = DQN(\n",
    "    model_func=lambda: QNetwork(envs),\n",
    "    device=device\n",
    ")\n",
    "\n",
    "wrapper = DQNTrainingWrapper(\n",
    "    model = dqn,\n",
    "    env=envs,\n",
    "    device=device\n",
    ")\n",
    "\n",
    "optimizer = wrapper.get_optimizer(lr=args.learning_rate)\n",
    "\n",
    "rb = wrapper.get_replay_buffer(\n",
    "    buffer_size=args.buffer_size,\n",
    "    optimize_memory_usage=True\n",
    ")"
   ]
  },
  {
   "cell_type": "markdown",
   "id": "ce5fbef7-e6ed-4a75-8874-2c22e784abbe",
   "metadata": {},
   "source": [
    "### Setup plots"
   ]
  },
  {
   "cell_type": "code",
   "execution_count": 10,
   "id": "89f00ff7-9e01-4fe9-90e0-4222d4e2a59e",
   "metadata": {
    "execution": {
     "iopub.execute_input": "2022-10-10T22:05:53.104295Z",
     "iopub.status.busy": "2022-10-10T22:05:53.104069Z",
     "iopub.status.idle": "2022-10-10T22:05:53.125642Z",
     "shell.execute_reply": "2022-10-10T22:05:53.123883Z",
     "shell.execute_reply.started": "2022-10-10T22:05:53.104275Z"
    },
    "tags": []
   },
   "outputs": [],
   "source": [
    "from torch_rl.utils import SPS\n",
    "def log_env_metrics(ms, step, infos):\n",
    "    for info in infos:\n",
    "        if \"episode\" in info.keys():\n",
    "            ms.log_metric(\"episodic_return\", info[\"episode\"][\"r\"], step=step)\n",
    "            ms.log_metric(\"episodic_length\", info[\"episode\"][\"l\"], step=step)\n",
    "\n",
    "\n",
    "def plot_metric(global_step, ms, sps):\n",
    "    metric_list = [\"episodic_return\", \"episodic_length\", \"q_values\", \"loss\"]\n",
    "    color_list = [\"blue\", \"black\", \"green\", \"red\"]\n",
    "    sps.step(global_step)\n",
    "    plot_metrics_notebook(ms, metric_list, color_list, sps=sps)"
   ]
  },
  {
   "cell_type": "markdown",
   "id": "6525ae9e-6d5b-49d0-896e-3379315f2477",
   "metadata": {
    "execution": {
     "iopub.execute_input": "2022-10-06T13:56:17.044309Z",
     "iopub.status.busy": "2022-10-06T13:56:17.043895Z",
     "iopub.status.idle": "2022-10-06T13:56:17.065030Z",
     "shell.execute_reply": "2022-10-06T13:56:17.064326Z",
     "shell.execute_reply.started": "2022-10-06T13:56:17.044259Z"
    },
    "tags": []
   },
   "source": [
    "### DQN training loop"
   ]
  },
  {
   "cell_type": "code",
   "execution_count": 11,
   "id": "684d7d00-db34-41d0-851a-e1f0ff1705e0",
   "metadata": {
    "execution": {
     "iopub.execute_input": "2022-10-10T22:05:53.128867Z",
     "iopub.status.busy": "2022-10-10T22:05:53.127794Z",
     "iopub.status.idle": "2022-10-10T22:09:52.985649Z",
     "shell.execute_reply": "2022-10-10T22:09:52.984982Z",
     "shell.execute_reply.started": "2022-10-10T22:05:53.128803Z"
    },
    "tags": []
   },
   "outputs": [
    {
     "name": "stdout",
     "output_type": "stream",
     "text": [
      "100% processed at 2089 SPS. Remaining: 00 second(s) \n",
      "\n"
     ]
    },
    {
     "data": {
      "image/png": "[encoded data removed]",
      "text/plain": [
       "<Figure size 640x480 with 4 Axes>"
      ]
     },
     "metadata": {},
     "output_type": "display_data"
    }
   ],
   "source": [
    "ms = MetricStore()\n",
    "sps = SPS(args.total_timesteps)\n",
    "obs = envs.reset()\n",
    "for global_step in range(args.total_timesteps):\n",
    "    epsilon = wrapper.linear_schedule(\n",
    "        args.start_e,\n",
    "        args.end_e,\n",
    "        args.exploration_fraction * args.total_timesteps,\n",
    "        global_step\n",
    "    )\n",
    "\n",
    "    if random.random() < epsilon:\n",
    "        actions = np.array([envs.single_action_space.sample()\n",
    "                            for _ in range(envs.num_envs)])\n",
    "    else:\n",
    "        actions = dqn(torch.Tensor(obs).to(device)).cpu().numpy()\n",
    "\n",
    "    next_obs, rewards, dones, infos = envs.step(actions)\n",
    "\n",
    "    next_real_obs = handle_terminal_ob(next_obs, dones, infos)\n",
    "    rb.add(obs, next_real_obs, actions, rewards, dones)\n",
    "    obs = next_obs\n",
    "\n",
    "    log_env_metrics(ms, global_step, infos)\n",
    "\n",
    "    if global_step > args.learning_starts and global_step % args.train_frequency == 0:\n",
    "        data = rb.sample(args.batch_size)\n",
    "        q_values, loss = wrapper.train_step(data, gamma=args.gamma)\n",
    "\n",
    "        if global_step % 100 == 0:\n",
    "            ms.log_metric(\"q_values\", q_values.mean().item(), step=global_step)\n",
    "            ms.log_metric(\"loss\", loss, step=global_step)\n",
    "\n",
    "        if global_step % 10000 == 0:\n",
    "            plot_metric(global_step, ms, sps)\n",
    "\n",
    "        optimizer.zero_grad()\n",
    "        loss.backward()\n",
    "        optimizer.step()\n",
    "\n",
    "        if global_step % args.target_network_frequency == 0:\n",
    "            dqn.update_target_network()\n",
    "\n",
    "plot_metric(global_step, ms, sps)\n",
    "envs.close()"
   ]
  },
  {
   "cell_type": "markdown",
   "id": "bd5908d7-ddb1-4f54-bebc-280b7e438fbf",
   "metadata": {},
   "source": [
    "## Evaluation"
   ]
  },
  {
   "cell_type": "code",
   "execution_count": 12,
   "id": "becc5b71-4e81-448b-bc84-6e6c823a2bf5",
   "metadata": {
    "execution": {
     "iopub.execute_input": "2022-10-10T22:09:52.986758Z",
     "iopub.status.busy": "2022-10-10T22:09:52.986502Z",
     "iopub.status.idle": "2022-10-10T22:09:56.695495Z",
     "shell.execute_reply": "2022-10-10T22:09:56.694680Z",
     "shell.execute_reply.started": "2022-10-10T22:09:52.986739Z"
    },
    "tags": []
   },
   "outputs": [
    {
     "name": "stdout",
     "output_type": "stream",
     "text": [
      "episodic_return=500.0, episodic_length=500\n"
     ]
    }
   ],
   "source": [
    "run_test_name = f\"test-{run_name}\"\n",
    "test_env = make_env(args.env_id, args.seed, 0, True, run_test_name)()\n",
    "\n",
    "ob = test_env.reset()\n",
    "while True:\n",
    "    action = dqn(torch.Tensor(np.array([ob])).to(device)).cpu().numpy()[0]\n",
    "    ob, reward, done, info = test_env.step(action)\n",
    "    if done:\n",
    "        print(f'episodic_return={info[\"episode\"][\"r\"]}, episodic_length={info[\"episode\"][\"l\"]}')\n",
    "        break\n"
   ]
  },
  {
   "cell_type": "markdown",
   "id": "075734a3-6145-43dc-90a9-7fe28d62eb43",
   "metadata": {
    "execution": {
     "iopub.execute_input": "2022-10-04T22:06:05.802908Z",
     "iopub.status.busy": "2022-10-04T22:06:05.802340Z",
     "iopub.status.idle": "2022-10-04T22:06:05.827471Z",
     "shell.execute_reply": "2022-10-04T22:06:05.826771Z",
     "shell.execute_reply.started": "2022-10-04T22:06:05.802857Z"
    }
   },
   "source": [
    "### Display full evaluation"
   ]
  },
  {
   "cell_type": "code",
   "execution_count": 13,
   "id": "d74d7689-6cbd-400e-bb7f-547e9c2d73fa",
   "metadata": {
    "execution": {
     "iopub.execute_input": "2022-10-10T22:09:56.696948Z",
     "iopub.status.busy": "2022-10-10T22:09:56.696680Z",
     "iopub.status.idle": "2022-10-10T22:10:09.339288Z",
     "shell.execute_reply": "2022-10-10T22:10:09.338673Z",
     "shell.execute_reply.started": "2022-10-10T22:09:56.696924Z"
    },
    "tags": []
   },
   "outputs": [
    {
     "name": "stdout",
     "output_type": "stream",
     "text": [
      "Writing frame 500\n",
      "Finalizing...\n",
      "Done.\n"
     ]
    },
    {
     "data": {
      "text/html": [
       "<img src=\"images/dqn_test.gif\" width=\"500\" height=\"500\"/>"
      ],
      "text/plain": [
       "<IPython.core.display.Image object>"
      ]
     },
     "execution_count": 13,
     "metadata": {},
     "output_type": "execute_result"
    }
   ],
   "source": [
    "mp4_path = f\"videos/{run_test_name}/rl-video-episode-0.mp4\"\n",
    "gif_path = f\"images/dqn_test.gif\"\n",
    "\n",
    "mp4_to_gif(mp4_path, gif_path)\n",
    "Image(url=gif_path, width=500, height=500)"
   ]
  },
  {
   "cell_type": "code",
   "execution_count": null,
   "id": "145ce381-a373-48bf-b9a6-c17bfe021dfb",
   "metadata": {},
   "outputs": [],
   "source": []
  }
 ],
 "metadata": {
  "kernelspec": {
   "display_name": "Python 3 (ipykernel)",
   "language": "python",
   "name": "python3"
  },
  "language_info": {
   "codemirror_mode": {
    "name": "ipython",
    "version": 3
   },
   "file_extension": ".py",
   "mimetype": "text/x-python",
   "name": "python",
   "nbconvert_exporter": "python",
   "pygments_lexer": "ipython3",
   "version": "3.8.10"
  }
 },
 "nbformat": 4,
 "nbformat_minor": 5
}
