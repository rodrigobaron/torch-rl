{
 "cells": [
  {
   "cell_type": "code",
   "execution_count": 1,
   "id": "b0a0e7fc-4cc1-475d-8955-a72a44d14a69",
   "metadata": {
    "execution": {
     "iopub.execute_input": "2022-10-06T13:56:10.845089Z",
     "iopub.status.busy": "2022-10-06T13:56:10.844763Z",
     "iopub.status.idle": "2022-10-06T13:56:13.383711Z",
     "shell.execute_reply": "2022-10-06T13:56:13.380951Z",
     "shell.execute_reply.started": "2022-10-06T13:56:10.845016Z"
    },
    "tags": []
   },
   "outputs": [
    {
     "name": "stdout",
     "output_type": "stream",
     "text": [
      "Requirement already satisfied: torch in /usr/local/lib/python3.8/dist-packages (from -r requirements.txt (line 1)) (1.12.0)\n",
      "Requirement already satisfied: atari-py==0.2.5 in /usr/local/lib/python3.8/dist-packages (from -r requirements.txt (line 2)) (0.2.5)\n",
      "Requirement already satisfied: gym[accept-rom-license,atari]==0.21.0 in /usr/local/lib/python3.8/dist-packages (from -r requirements.txt (line 3)) (0.21.0)\n",
      "Requirement already satisfied: opencv-python==4.6.0.66 in /usr/local/lib/python3.8/dist-packages (from -r requirements.txt (line 4)) (4.6.0.66)\n",
      "Requirement already satisfied: envpool==0.4.5 in /usr/local/lib/python3.8/dist-packages (from -r requirements.txt (line 5)) (0.4.5)\n",
      "Requirement already satisfied: pyglet==1.5.26 in /usr/local/lib/python3.8/dist-packages (from -r requirements.txt (line 6)) (1.5.26)\n",
      "Requirement already satisfied: imageio[ffmpeg] in /usr/local/lib/python3.8/dist-packages (from -r requirements.txt (line 7)) (2.22.1)\n",
      "Requirement already satisfied: stable_baselines3 in /usr/local/lib/python3.8/dist-packages (from -r requirements.txt (line 10)) (1.6.1)\n",
      "Requirement already satisfied: typing-extensions in /usr/local/lib/python3.8/dist-packages (from torch->-r requirements.txt (line 1)) (4.3.0)\n",
      "Requirement already satisfied: six in /usr/lib/python3/dist-packages (from atari-py==0.2.5->-r requirements.txt (line 2)) (1.14.0)\n",
      "Requirement already satisfied: numpy in /usr/local/lib/python3.8/dist-packages (from atari-py==0.2.5->-r requirements.txt (line 2)) (1.23.1)\n",
      "Requirement already satisfied: cloudpickle>=1.2.0 in /usr/local/lib/python3.8/dist-packages (from gym[accept-rom-license,atari]==0.21.0->-r requirements.txt (line 3)) (2.2.0)\n",
      "Requirement already satisfied: autorom[accept-rom-license]~=0.4.2; extra == \"accept-rom-license\" in /usr/local/lib/python3.8/dist-packages (from gym[accept-rom-license,atari]==0.21.0->-r requirements.txt (line 3)) (0.4.2)\n",
      "Requirement already satisfied: ale-py~=0.7.1; extra == \"atari\" in /usr/local/lib/python3.8/dist-packages (from gym[accept-rom-license,atari]==0.21.0->-r requirements.txt (line 3)) (0.7.5)\n",
      "Requirement already satisfied: dm-env>=1.4 in /usr/local/lib/python3.8/dist-packages (from envpool==0.4.5->-r requirements.txt (line 5)) (1.5)\n",
      "Requirement already satisfied: types-protobuf>=3.17.3 in /usr/local/lib/python3.8/dist-packages (from envpool==0.4.5->-r requirements.txt (line 5)) (3.20.4)\n",
      "Requirement already satisfied: pillow>=8.3.2 in /usr/local/lib/python3.8/dist-packages (from imageio[ffmpeg]->-r requirements.txt (line 7)) (9.2.0)\n",
      "Requirement already satisfied: psutil; extra == \"ffmpeg\" in /usr/local/lib/python3.8/dist-packages (from imageio[ffmpeg]->-r requirements.txt (line 7)) (5.9.2)\n",
      "Requirement already satisfied: imageio-ffmpeg; extra == \"ffmpeg\" in /usr/local/lib/python3.8/dist-packages (from imageio[ffmpeg]->-r requirements.txt (line 7)) (0.4.7)\n",
      "Requirement already satisfied: pandas in /usr/local/lib/python3.8/dist-packages (from stable_baselines3->-r requirements.txt (line 10)) (1.5.0)\n",
      "Requirement already satisfied: matplotlib in /usr/local/lib/python3.8/dist-packages (from stable_baselines3->-r requirements.txt (line 10)) (3.6.0)\n",
      "Requirement already satisfied: requests in /usr/lib/python3/dist-packages (from autorom[accept-rom-license]~=0.4.2; extra == \"accept-rom-license\"->gym[accept-rom-license,atari]==0.21.0->-r requirements.txt (line 3)) (2.22.0)\n",
      "Requirement already satisfied: click in /usr/local/lib/python3.8/dist-packages (from autorom[accept-rom-license]~=0.4.2; extra == \"accept-rom-license\"->gym[accept-rom-license,atari]==0.21.0->-r requirements.txt (line 3)) (8.1.3)\n",
      "Requirement already satisfied: tqdm in /usr/local/lib/python3.8/dist-packages (from autorom[accept-rom-license]~=0.4.2; extra == \"accept-rom-license\"->gym[accept-rom-license,atari]==0.21.0->-r requirements.txt (line 3)) (4.64.1)\n",
      "Requirement already satisfied: importlib-resources; python_version < \"3.9\" in /usr/local/lib/python3.8/dist-packages (from autorom[accept-rom-license]~=0.4.2; extra == \"accept-rom-license\"->gym[accept-rom-license,atari]==0.21.0->-r requirements.txt (line 3)) (5.9.0)\n",
      "Requirement already satisfied: AutoROM.accept-rom-license; extra == \"accept-rom-license\" in /usr/local/lib/python3.8/dist-packages (from autorom[accept-rom-license]~=0.4.2; extra == \"accept-rom-license\"->gym[accept-rom-license,atari]==0.21.0->-r requirements.txt (line 3)) (0.4.2)\n",
      "Requirement already satisfied: importlib-metadata>=4.10.0; python_version < \"3.10\" in /usr/local/lib/python3.8/dist-packages (from ale-py~=0.7.1; extra == \"atari\"->gym[accept-rom-license,atari]==0.21.0->-r requirements.txt (line 3)) (4.13.0)\n",
      "Requirement already satisfied: dm-tree in /usr/local/lib/python3.8/dist-packages (from dm-env>=1.4->envpool==0.4.5->-r requirements.txt (line 5)) (0.1.7)\n",
      "Requirement already satisfied: absl-py in /usr/local/lib/python3.8/dist-packages (from dm-env>=1.4->envpool==0.4.5->-r requirements.txt (line 5)) (1.2.0)\n",
      "Requirement already satisfied: pytz>=2020.1 in /usr/local/lib/python3.8/dist-packages (from pandas->stable_baselines3->-r requirements.txt (line 10)) (2022.4)\n",
      "Requirement already satisfied: python-dateutil>=2.8.1 in /usr/local/lib/python3.8/dist-packages (from pandas->stable_baselines3->-r requirements.txt (line 10)) (2.8.2)\n",
      "Requirement already satisfied: contourpy>=1.0.1 in /usr/local/lib/python3.8/dist-packages (from matplotlib->stable_baselines3->-r requirements.txt (line 10)) (1.0.5)\n",
      "Requirement already satisfied: fonttools>=4.22.0 in /usr/local/lib/python3.8/dist-packages (from matplotlib->stable_baselines3->-r requirements.txt (line 10)) (4.37.4)\n",
      "Requirement already satisfied: pyparsing>=2.2.1 in /usr/local/lib/python3.8/dist-packages (from matplotlib->stable_baselines3->-r requirements.txt (line 10)) (3.0.9)\n",
      "Requirement already satisfied: kiwisolver>=1.0.1 in /usr/local/lib/python3.8/dist-packages (from matplotlib->stable_baselines3->-r requirements.txt (line 10)) (1.4.4)\n",
      "Requirement already satisfied: packaging>=20.0 in /usr/local/lib/python3.8/dist-packages (from matplotlib->stable_baselines3->-r requirements.txt (line 10)) (21.3)\n",
      "Requirement already satisfied: cycler>=0.10 in /usr/local/lib/python3.8/dist-packages (from matplotlib->stable_baselines3->-r requirements.txt (line 10)) (0.11.0)\n",
      "Requirement already satisfied: zipp>=3.1.0; python_version < \"3.10\" in /usr/local/lib/python3.8/dist-packages (from importlib-resources; python_version < \"3.9\"->autorom[accept-rom-license]~=0.4.2; extra == \"accept-rom-license\"->gym[accept-rom-license,atari]==0.21.0->-r requirements.txt (line 3)) (3.8.1)\n"
     ]
    }
   ],
   "source": [
    "!pip install -r requirements.txt"
   ]
  },
  {
   "cell_type": "markdown",
   "id": "41aabc2e-d846-46b3-aebb-ffcf04ece369",
   "metadata": {},
   "source": [
    "# Discrete DQN\n",
    "\n",
    "This is the implementation of DQN for discrete action space using environment information inputs."
   ]
  },
  {
   "cell_type": "markdown",
   "id": "eb08f0a9-12b3-495a-b31c-3de241fa906e",
   "metadata": {
    "tags": []
   },
   "source": [
    "## Setup arguments"
   ]
  },
  {
   "cell_type": "code",
   "execution_count": 2,
   "id": "d55e070b-7ed3-463f-b04c-90b5cab363d1",
   "metadata": {
    "execution": {
     "iopub.execute_input": "2022-10-06T13:56:13.390717Z",
     "iopub.status.busy": "2022-10-06T13:56:13.389838Z",
     "iopub.status.idle": "2022-10-06T13:56:13.842889Z",
     "shell.execute_reply": "2022-10-06T13:56:13.842224Z",
     "shell.execute_reply.started": "2022-10-06T13:56:13.390628Z"
    },
    "tags": []
   },
   "outputs": [],
   "source": [
    "%load_ext autoreload\n",
    "%autoreload 2\n",
    "import matplotlib.pyplot as plt\n",
    "%matplotlib inline"
   ]
  },
  {
   "cell_type": "code",
   "execution_count": 3,
   "id": "04c139fc-ac39-4efa-92da-23e771cbed31",
   "metadata": {
    "execution": {
     "iopub.execute_input": "2022-10-06T13:56:13.844084Z",
     "iopub.status.busy": "2022-10-06T13:56:13.843809Z",
     "iopub.status.idle": "2022-10-06T13:56:14.653224Z",
     "shell.execute_reply": "2022-10-06T13:56:14.652571Z",
     "shell.execute_reply.started": "2022-10-06T13:56:13.844063Z"
    },
    "tags": []
   },
   "outputs": [
    {
     "data": {
      "application/vnd.jupyter.widget-view+json": {
       "model_id": "c01978e1a821468e9ae610c24add8e3c",
       "version_major": 2,
       "version_minor": 0
      },
      "text/plain": [
       "IntText(value=1, description='seed', tooltip='seed of the experiment')"
      ]
     },
     "metadata": {},
     "output_type": "display_data"
    },
    {
     "data": {
      "application/vnd.jupyter.widget-view+json": {
       "model_id": "bccb508cff1f44ba9c72e05657181024",
       "version_major": 2,
       "version_minor": 0
      },
      "text/plain": [
       "Checkbox(value=True, description='torch-deterministic', indent=False, tooltip='if toggled, `torch.backends.cud…"
      ]
     },
     "metadata": {},
     "output_type": "display_data"
    },
    {
     "data": {
      "application/vnd.jupyter.widget-view+json": {
       "model_id": "b1b4e5f01e874ef4b5ee425bc63410c6",
       "version_major": 2,
       "version_minor": 0
      },
      "text/plain": [
       "Checkbox(value=True, description='cuda', indent=False, tooltip='if toggled, cuda will be enabled by default')"
      ]
     },
     "metadata": {},
     "output_type": "display_data"
    },
    {
     "data": {
      "application/vnd.jupyter.widget-view+json": {
       "model_id": "4693892acfd04c5da62b3e8f0efef6e1",
       "version_major": 2,
       "version_minor": 0
      },
      "text/plain": [
       "Checkbox(value=False, description='capture-video', indent=False, tooltip='whether to capture videos of the age…"
      ]
     },
     "metadata": {},
     "output_type": "display_data"
    },
    {
     "data": {
      "application/vnd.jupyter.widget-view+json": {
       "model_id": "194ffb6ce51944ad9456cbe351ffc73b",
       "version_major": 2,
       "version_minor": 0
      },
      "text/plain": [
       "Text(value='CartPole-v1', description='env-id', tooltip='the id of the environment')"
      ]
     },
     "metadata": {},
     "output_type": "display_data"
    },
    {
     "data": {
      "application/vnd.jupyter.widget-view+json": {
       "model_id": "0e150752feef477cb7f57bd2c0bd964f",
       "version_major": 2,
       "version_minor": 0
      },
      "text/plain": [
       "IntText(value=500000, description='total-timesteps', tooltip='total timesteps of the experiments')"
      ]
     },
     "metadata": {},
     "output_type": "display_data"
    },
    {
     "data": {
      "application/vnd.jupyter.widget-view+json": {
       "model_id": "67a0244d33bf4122a70486918ab7e2fb",
       "version_major": 2,
       "version_minor": 0
      },
      "text/plain": [
       "FloatText(value=0.00025, description='learning-rate', tooltip='the learning rate of the optimizer')"
      ]
     },
     "metadata": {},
     "output_type": "display_data"
    },
    {
     "data": {
      "application/vnd.jupyter.widget-view+json": {
       "model_id": "c3cf9076ba7e4850a7ed2c86f4f95654",
       "version_major": 2,
       "version_minor": 0
      },
      "text/plain": [
       "IntText(value=10000, description='buffer-size', tooltip='the replay memory buffer size')"
      ]
     },
     "metadata": {},
     "output_type": "display_data"
    },
    {
     "data": {
      "application/vnd.jupyter.widget-view+json": {
       "model_id": "33457a67a27345df91701a23a5443c0b",
       "version_major": 2,
       "version_minor": 0
      },
      "text/plain": [
       "FloatText(value=0.99, description='gamma', tooltip='the discount factor gamma')"
      ]
     },
     "metadata": {},
     "output_type": "display_data"
    },
    {
     "data": {
      "application/vnd.jupyter.widget-view+json": {
       "model_id": "db212a3052ee46a284844eb8333e05eb",
       "version_major": 2,
       "version_minor": 0
      },
      "text/plain": [
       "IntText(value=500, description='target-network-frequency', tooltip='the timesteps it takes to update the targe…"
      ]
     },
     "metadata": {},
     "output_type": "display_data"
    },
    {
     "data": {
      "application/vnd.jupyter.widget-view+json": {
       "model_id": "6f27f9b5245342f0b49889d124a244ba",
       "version_major": 2,
       "version_minor": 0
      },
      "text/plain": [
       "IntText(value=128, description='batch-size', tooltip='the batch size of sample from the reply memory')"
      ]
     },
     "metadata": {},
     "output_type": "display_data"
    },
    {
     "data": {
      "application/vnd.jupyter.widget-view+json": {
       "model_id": "e0d4cdc3d6434870818e0999b44011fc",
       "version_major": 2,
       "version_minor": 0
      },
      "text/plain": [
       "FloatText(value=1.0, description='start-e', tooltip='the starting epsilon for exploration')"
      ]
     },
     "metadata": {},
     "output_type": "display_data"
    },
    {
     "data": {
      "application/vnd.jupyter.widget-view+json": {
       "model_id": "684eb6d1c03b4e7697bbe40591b52921",
       "version_major": 2,
       "version_minor": 0
      },
      "text/plain": [
       "FloatText(value=0.05, description='end-e', tooltip='the ending epsilon for exploration')"
      ]
     },
     "metadata": {},
     "output_type": "display_data"
    },
    {
     "data": {
      "application/vnd.jupyter.widget-view+json": {
       "model_id": "165a96318fd44e83b349a183a99eb640",
       "version_major": 2,
       "version_minor": 0
      },
      "text/plain": [
       "FloatText(value=0.5, description='exploration-fraction', tooltip='the fraction of `total-timesteps` it takes f…"
      ]
     },
     "metadata": {},
     "output_type": "display_data"
    },
    {
     "data": {
      "application/vnd.jupyter.widget-view+json": {
       "model_id": "6b3ac6edbe764082868e95c0c2c09822",
       "version_major": 2,
       "version_minor": 0
      },
      "text/plain": [
       "IntText(value=10000, description='learning-starts', tooltip='timestep to start learning')"
      ]
     },
     "metadata": {},
     "output_type": "display_data"
    },
    {
     "data": {
      "application/vnd.jupyter.widget-view+json": {
       "model_id": "af8893f1b5484460a0b99c9263f44cd8",
       "version_major": 2,
       "version_minor": 0
      },
      "text/plain": [
       "IntText(value=10, description='train-frequency', tooltip='the frequency of training')"
      ]
     },
     "metadata": {},
     "output_type": "display_data"
    }
   ],
   "source": [
    "import ipywidgets as widgets\n",
    "from jupyter_utils import WidgetParser\n",
    "from IPython.display import display, clear_output, Image\n",
    "\n",
    "\n",
    "import time\n",
    "\n",
    "import torch\n",
    "import random\n",
    "from utils import (\n",
    "    seed_everything,\n",
    "    handle_terminal_ob,\n",
    "    mp4_to_gif,\n",
    "    MetricStore\n",
    ")\n",
    "\n",
    "\n",
    "parser = WidgetParser()\n",
    "parser.add_widget(widgets.IntText(\n",
    "    description='seed',\n",
    "    value=1,\n",
    "    tooltip=\"seed of the experiment\"\n",
    "))\n",
    "\n",
    "parser.add_widget(widgets.Checkbox(\n",
    "    description=\"torch-deterministic\",\n",
    "    value=True,\n",
    "    disabled=False,\n",
    "    indent=False,\n",
    "    tooltip=\"if toggled, `torch.backends.cudnn.deterministic=False`\"\n",
    "))\n",
    "\n",
    "parser.add_widget(widgets.Checkbox(\n",
    "    description=\"cuda\",\n",
    "    value=True,\n",
    "    disabled=False,\n",
    "    indent=False,\n",
    "    tooltip=\"if toggled, cuda will be enabled by default\"\n",
    "))\n",
    "\n",
    "parser.add_widget(widgets.Checkbox(\n",
    "    description=\"capture-video\",\n",
    "    value=False,\n",
    "    disabled=False,\n",
    "    indent=False,\n",
    "    tooltip=\"whether to capture videos of the agent performances (check out `videos` folder)\"\n",
    "))\n",
    "\n",
    "parser.add_widget(widgets.Text(\n",
    "    description=\"env-id\",\n",
    "    value=\"CartPole-v1\",\n",
    "    tooltip=\"the id of the environment\"\n",
    "))\n",
    "\n",
    "parser.add_widget(widgets.IntText(\n",
    "    description='total-timesteps',\n",
    "    value=500000,\n",
    "    tooltip=\"total timesteps of the experiments\"\n",
    "))\n",
    "\n",
    "parser.add_widget(widgets.FloatText(\n",
    "    description='learning-rate',\n",
    "    value=2.5e-4,\n",
    "    tooltip=\"the learning rate of the optimizer\"\n",
    "))\n",
    "\n",
    "parser.add_widget(widgets.IntText(\n",
    "    description='buffer-size',\n",
    "    value=10000,\n",
    "    tooltip=\"the replay memory buffer size\"\n",
    "))\n",
    "\n",
    "parser.add_widget(widgets.FloatText(\n",
    "    description='gamma',\n",
    "    value=0.99,\n",
    "    tooltip=\"the discount factor gamma\"\n",
    "))\n",
    "\n",
    "parser.add_widget(widgets.IntText(\n",
    "    description='target-network-frequency',\n",
    "    value=500,\n",
    "    tooltip=\"the timesteps it takes to update the target network\"\n",
    "))\n",
    "\n",
    "parser.add_widget(widgets.IntText(\n",
    "    description='batch-size',\n",
    "    value=128,\n",
    "    tooltip=\"the batch size of sample from the reply memory\"\n",
    "))\n",
    "\n",
    "parser.add_widget(widgets.FloatText(\n",
    "    description='start-e',\n",
    "    value=1.0,\n",
    "    tooltip=\"the starting epsilon for exploration\"\n",
    "))\n",
    "\n",
    "parser.add_widget(widgets.FloatText(\n",
    "    description='end-e',\n",
    "    value=0.05,\n",
    "    tooltip=\"the ending epsilon for exploration\"\n",
    "))\n",
    "\n",
    "parser.add_widget(widgets.FloatText(\n",
    "    description='exploration-fraction',\n",
    "    value=0.5,\n",
    "    tooltip=\"the fraction of `total-timesteps` it takes from start-e to go end-e\"\n",
    "))\n",
    "\n",
    "parser.add_widget(widgets.IntText(\n",
    "    description='learning-starts',\n",
    "    value=10000,\n",
    "    tooltip=\"timestep to start learning\"\n",
    "))\n",
    "\n",
    "parser.add_widget(widgets.IntText(\n",
    "    description='train-frequency',\n",
    "    value=10,\n",
    "    tooltip=\"the frequency of training\"\n",
    "))\n"
   ]
  },
  {
   "cell_type": "markdown",
   "id": "f93fd2dc-1acd-4a98-85ab-40141ecff47b",
   "metadata": {},
   "source": [
    "### Parse inputs"
   ]
  },
  {
   "cell_type": "code",
   "execution_count": 4,
   "id": "1b417f3a-206d-4624-85fb-62789374bb76",
   "metadata": {
    "execution": {
     "iopub.execute_input": "2022-10-06T13:56:14.654443Z",
     "iopub.status.busy": "2022-10-06T13:56:14.654103Z",
     "iopub.status.idle": "2022-10-06T13:56:14.673188Z",
     "shell.execute_reply": "2022-10-06T13:56:14.672356Z",
     "shell.execute_reply.started": "2022-10-06T13:56:14.654422Z"
    },
    "tags": []
   },
   "outputs": [
    {
     "data": {
      "text/plain": [
       "'using device cuda'"
      ]
     },
     "metadata": {},
     "output_type": "display_data"
    }
   ],
   "source": [
    "args = parser.parse()\n",
    "\n",
    "run_name = f\"{args.env_id}__dqn__{args.seed}__{int(time.time())}\"\n",
    "device = torch.device(\"cuda\" if torch.cuda.is_available() and args.cuda else \"cpu\")\n",
    "seed_everything(args.seed, args.torch_deterministic)\n",
    "display(f\"using device {device}\")"
   ]
  },
  {
   "cell_type": "markdown",
   "id": "49de7812-47cd-4b73-a015-fa3bc6decb72",
   "metadata": {},
   "source": [
    "## Setup environment"
   ]
  },
  {
   "cell_type": "code",
   "execution_count": 5,
   "id": "eebc8f65-d3ba-40f5-8c0e-a6486e3e5074",
   "metadata": {
    "execution": {
     "iopub.execute_input": "2022-10-06T13:56:14.674412Z",
     "iopub.status.busy": "2022-10-06T13:56:14.674152Z",
     "iopub.status.idle": "2022-10-06T13:56:14.898171Z",
     "shell.execute_reply": "2022-10-06T13:56:14.897459Z",
     "shell.execute_reply.started": "2022-10-06T13:56:14.674391Z"
    },
    "tags": []
   },
   "outputs": [
    {
     "name": "stderr",
     "output_type": "stream",
     "text": [
      "/usr/lib/python3/dist-packages/requests/__init__.py:89: RequestsDependencyWarning: urllib3 (1.26.12) or chardet (3.0.4) doesn't match a supported version!\n",
      "  warnings.warn(\"urllib3 ({}) or chardet ({}) doesn't match a supported \"\n"
     ]
    }
   ],
   "source": [
    "import gym\n",
    "\n",
    "import numpy as np\n",
    "import torch\n",
    "import torch.nn as nn\n",
    "import torch.nn.functional as F\n",
    "\n",
    "\n",
    "def make_env(env_id, seed, idx, capture_video, run_name):\n",
    "    def thunk():\n",
    "        env = gym.make(env_id)\n",
    "        env = gym.wrappers.RecordEpisodeStatistics(env)\n",
    "        if capture_video:\n",
    "            if idx == 0:\n",
    "                env = gym.wrappers.RecordVideo(env, f\"videos/{run_name}\")\n",
    "        env.seed(seed)\n",
    "        env.action_space.seed(seed)\n",
    "        env.observation_space.seed(seed)\n",
    "        return env\n",
    "\n",
    "    return thunk"
   ]
  },
  {
   "cell_type": "markdown",
   "id": "72fffc90-d838-4b3d-96f0-683ea7ddd01d",
   "metadata": {},
   "source": [
    "### Ensure environment compatibility"
   ]
  },
  {
   "cell_type": "code",
   "execution_count": 6,
   "id": "cb7cba57-366e-412e-8eb6-42b9c7fec5ad",
   "metadata": {
    "execution": {
     "iopub.execute_input": "2022-10-06T13:56:14.899259Z",
     "iopub.status.busy": "2022-10-06T13:56:14.898986Z",
     "iopub.status.idle": "2022-10-06T13:56:14.919646Z",
     "shell.execute_reply": "2022-10-06T13:56:14.918991Z",
     "shell.execute_reply.started": "2022-10-06T13:56:14.899240Z"
    },
    "tags": []
   },
   "outputs": [],
   "source": [
    "envs = gym.vector.SyncVectorEnv([make_env(args.env_id, args.seed, 0, args.capture_video, run_name)])\n",
    "assert isinstance(envs.single_action_space, gym.spaces.Discrete), \"only discrete action space is supported\""
   ]
  },
  {
   "cell_type": "markdown",
   "id": "6d229b6b-efac-43bd-818f-74c15f118f9b",
   "metadata": {
    "execution": {
     "iopub.execute_input": "2022-10-03T03:17:34.254488Z",
     "iopub.status.busy": "2022-10-03T03:17:34.254047Z",
     "iopub.status.idle": "2022-10-03T03:17:34.270359Z",
     "shell.execute_reply": "2022-10-03T03:17:34.269512Z",
     "shell.execute_reply.started": "2022-10-03T03:17:34.254464Z"
    }
   },
   "source": [
    "### Environment examples"
   ]
  },
  {
   "cell_type": "code",
   "execution_count": 7,
   "id": "f888da2e-94d1-4af7-992d-4e45face59bb",
   "metadata": {
    "execution": {
     "iopub.execute_input": "2022-10-06T13:56:14.921867Z",
     "iopub.status.busy": "2022-10-06T13:56:14.921488Z",
     "iopub.status.idle": "2022-10-06T13:56:15.428912Z",
     "shell.execute_reply": "2022-10-06T13:56:15.428180Z",
     "shell.execute_reply.started": "2022-10-06T13:56:14.921847Z"
    },
    "tags": []
   },
   "outputs": [
    {
     "data": {
      "image/png": "[encoded data removed]",
      "text/plain": [
       "<Figure size 640x480 with 1 Axes>"
      ]
     },
     "metadata": {},
     "output_type": "display_data"
    }
   ],
   "source": [
    "tmp_env = make_env(args.env_id, args.seed, 0, False, None)()\n",
    "ob = tmp_env.reset()\n",
    "\n",
    "plt.title(args.env_id)\n",
    "plt.imshow(tmp_env.render(\"rgb_array\"))\n",
    "plt.axis('off')\n",
    "plt.show()"
   ]
  },
  {
   "cell_type": "code",
   "execution_count": 8,
   "id": "1546dbcd-5820-40df-9b7d-528b791659ed",
   "metadata": {
    "execution": {
     "iopub.execute_input": "2022-10-06T13:56:15.430224Z",
     "iopub.status.busy": "2022-10-06T13:56:15.429952Z",
     "iopub.status.idle": "2022-10-06T13:56:15.452601Z",
     "shell.execute_reply": "2022-10-06T13:56:15.451759Z",
     "shell.execute_reply.started": "2022-10-06T13:56:15.430202Z"
    },
    "tags": []
   },
   "outputs": [
    {
     "data": {
      "text/plain": [
       "(1, array([ 0.03076804,  0.19700098, -0.03151444, -0.33357874], dtype=float32))"
      ]
     },
     "execution_count": 8,
     "metadata": {},
     "output_type": "execute_result"
    }
   ],
   "source": [
    "action = tmp_env.action_space.sample()\n",
    "ob, reward, done, info = tmp_env.step(action)\n",
    "action, ob"
   ]
  },
  {
   "cell_type": "markdown",
   "id": "dbff4d3f-31f5-4dd6-91fe-088bc6252fd0",
   "metadata": {},
   "source": [
    "## Modeling"
   ]
  },
  {
   "cell_type": "markdown",
   "id": "441336c2-97c3-49c9-b12a-21cfd4a06df3",
   "metadata": {},
   "source": [
    "### Define Neural Network"
   ]
  },
  {
   "cell_type": "code",
   "execution_count": 9,
   "id": "ba819a6e-0552-4d22-bcca-768c22651999",
   "metadata": {
    "execution": {
     "iopub.execute_input": "2022-10-06T13:56:15.453845Z",
     "iopub.status.busy": "2022-10-06T13:56:15.453535Z",
     "iopub.status.idle": "2022-10-06T13:56:15.473634Z",
     "shell.execute_reply": "2022-10-06T13:56:15.472787Z",
     "shell.execute_reply.started": "2022-10-06T13:56:15.453825Z"
    }
   },
   "outputs": [],
   "source": [
    "class QNetwork(nn.Module):\n",
    "    def __init__(self, env):\n",
    "        super().__init__()\n",
    "        self.network = nn.Sequential(\n",
    "            nn.Linear(np.array(env.single_observation_space.shape).prod(), 120),\n",
    "            nn.ReLU(),\n",
    "            nn.Linear(120, 84),\n",
    "            nn.ReLU(),\n",
    "            nn.Linear(84, env.single_action_space.n),\n",
    "        )\n",
    "\n",
    "    def forward(self, x):\n",
    "        return self.network(x)"
   ]
  },
  {
   "cell_type": "markdown",
   "id": "398bf469-74ef-4f94-9218-8a94369e5f70",
   "metadata": {},
   "source": [
    "### DQN training Wrapper"
   ]
  },
  {
   "cell_type": "code",
   "execution_count": 10,
   "id": "b44085d8-b1d6-47a6-9c8a-11af1566a1e0",
   "metadata": {
    "execution": {
     "iopub.execute_input": "2022-10-06T13:56:15.474859Z",
     "iopub.status.busy": "2022-10-06T13:56:15.474620Z",
     "iopub.status.idle": "2022-10-06T13:56:17.021839Z",
     "shell.execute_reply": "2022-10-06T13:56:17.021121Z",
     "shell.execute_reply.started": "2022-10-06T13:56:15.474839Z"
    },
    "tags": []
   },
   "outputs": [],
   "source": [
    "from dqn import DQN, DQNTrainingWrapper\n",
    "\n",
    "\n",
    "dqn = DQN(\n",
    "    model_func=lambda: QNetwork(envs),\n",
    "    device=device\n",
    ")\n",
    "\n",
    "wrapper = DQNTrainingWrapper(\n",
    "    model = dqn,\n",
    "    env=envs,\n",
    "    device=device\n",
    ")\n",
    "\n",
    "optimizer = wrapper.get_optimizer(lr=1e-3)\n",
    "\n",
    "rb = wrapper.get_replay_buffer(\n",
    "    buffer_size=args.buffer_size,\n",
    "    optimize_memory_usage=True\n",
    ")"
   ]
  },
  {
   "cell_type": "markdown",
   "id": "ce5fbef7-e6ed-4a75-8874-2c22e784abbe",
   "metadata": {},
   "source": [
    "### Setup plots"
   ]
  },
  {
   "cell_type": "code",
   "execution_count": 11,
   "id": "89f00ff7-9e01-4fe9-90e0-4222d4e2a59e",
   "metadata": {
    "execution": {
     "iopub.execute_input": "2022-10-06T13:56:17.023058Z",
     "iopub.status.busy": "2022-10-06T13:56:17.022752Z",
     "iopub.status.idle": "2022-10-06T13:56:17.043001Z",
     "shell.execute_reply": "2022-10-06T13:56:17.042315Z",
     "shell.execute_reply.started": "2022-10-06T13:56:17.023037Z"
    },
    "tags": []
   },
   "outputs": [],
   "source": [
    "def log_env_metrics(ms, step, infos):\n",
    "    for info in infos:\n",
    "        if \"episode\" in info.keys():\n",
    "            ms.log_metric(\"episodic_return\", info[\"episode\"][\"r\"], step=step)\n",
    "            ms.log_metric(\"episodic_length\", info[\"episode\"][\"l\"], step=step)\n",
    "\n",
    "def plot_metrics(ms, fontsize=12):\n",
    "    def _plot(ax, metric_name, color='blue'):\n",
    "        ax.set_title(metric_name, fontsize=fontsize)\n",
    "        ax.plot(ms.get_metric(metric_name), color=color)\n",
    "\n",
    "    fig, ((ax1, ax2), (ax3, ax4)) = plt.subplots(nrows=2, ncols=2)\n",
    "    clear_output(wait=True)\n",
    "\n",
    "    _plot(ax1, \"episodic_return\", 'blue')\n",
    "    _plot(ax2, \"episodic_length\", 'black')\n",
    "    _plot(ax3, \"q_values\", 'green')\n",
    "    _plot(ax4, \"loss\", 'red')\n",
    "    plt.tight_layout()\n",
    "    plt.show()"
   ]
  },
  {
   "cell_type": "markdown",
   "id": "6525ae9e-6d5b-49d0-896e-3379315f2477",
   "metadata": {
    "execution": {
     "iopub.execute_input": "2022-10-06T13:56:17.044309Z",
     "iopub.status.busy": "2022-10-06T13:56:17.043895Z",
     "iopub.status.idle": "2022-10-06T13:56:17.065030Z",
     "shell.execute_reply": "2022-10-06T13:56:17.064326Z",
     "shell.execute_reply.started": "2022-10-06T13:56:17.044259Z"
    },
    "tags": []
   },
   "source": [
    "### DQN training loop"
   ]
  },
  {
   "cell_type": "code",
   "execution_count": 13,
   "id": "684d7d00-db34-41d0-851a-e1f0ff1705e0",
   "metadata": {
    "execution": {
     "iopub.execute_input": "2022-10-06T13:56:17.066246Z",
     "iopub.status.busy": "2022-10-06T13:56:17.065998Z",
     "iopub.status.idle": "2022-10-06T14:00:18.011229Z",
     "shell.execute_reply": "2022-10-06T14:00:18.010553Z",
     "shell.execute_reply.started": "2022-10-06T13:56:17.066226Z"
    },
    "tags": []
   },
   "outputs": [
    {
     "data": {
      "image/png": "[encoded data removed]",
      "text/plain": [
       "<Figure size 640x480 with 4 Axes>"
      ]
     },
     "metadata": {},
     "output_type": "display_data"
    }
   ],
   "source": [
    "ms = MetricStore()\n",
    "obs = envs.reset()\n",
    "for global_step in range(args.total_timesteps):\n",
    "    epsilon = wrapper.linear_schedule(\n",
    "        args.start_e,\n",
    "        args.end_e,\n",
    "        args.exploration_fraction * args.total_timesteps,\n",
    "        global_step\n",
    "    )\n",
    "\n",
    "    if random.random() < epsilon:\n",
    "        actions = np.array([envs.single_action_space.sample()\n",
    "                            for _ in range(envs.num_envs)])\n",
    "    else:\n",
    "        actions = dqn(torch.Tensor(obs).to(device)).cpu().numpy()\n",
    "\n",
    "    next_obs, rewards, dones, infos = envs.step(actions)\n",
    "\n",
    "    next_real_obs = handle_terminal_ob(next_obs, dones, infos)\n",
    "    rb.add(obs, next_real_obs, actions, rewards, dones)\n",
    "    obs = next_obs\n",
    "\n",
    "    log_env_metrics(ms, global_step, infos)\n",
    "\n",
    "    if global_step > args.learning_starts and global_step % args.train_frequency == 0:\n",
    "        data = rb.sample(args.batch_size)\n",
    "        q_values, loss = wrapper.train_step(data, gamma=args.gamma)\n",
    "\n",
    "        if global_step % 100 == 0:\n",
    "            ms.log_metric(\"q_values\", q_values.mean().item(), step=global_step)\n",
    "            ms.log_metric(\"loss\", loss, step=global_step)\n",
    "\n",
    "        if global_step % 10000 == 0:\n",
    "            plot_metrics(ms)\n",
    "\n",
    "        optimizer.zero_grad()\n",
    "        loss.backward()\n",
    "        optimizer.step()\n",
    "\n",
    "        if global_step % args.target_network_frequency == 0:\n",
    "            dqn.update_target_network()\n",
    "envs.close()"
   ]
  },
  {
   "cell_type": "markdown",
   "id": "bd5908d7-ddb1-4f54-bebc-280b7e438fbf",
   "metadata": {},
   "source": [
    "## Evaluation"
   ]
  },
  {
   "cell_type": "code",
   "execution_count": 14,
   "id": "becc5b71-4e81-448b-bc84-6e6c823a2bf5",
   "metadata": {
    "execution": {
     "iopub.execute_input": "2022-10-06T14:00:18.012817Z",
     "iopub.status.busy": "2022-10-06T14:00:18.012091Z",
     "iopub.status.idle": "2022-10-06T14:00:21.759886Z",
     "shell.execute_reply": "2022-10-06T14:00:21.759060Z",
     "shell.execute_reply.started": "2022-10-06T14:00:18.012783Z"
    },
    "tags": []
   },
   "outputs": [
    {
     "name": "stderr",
     "output_type": "stream",
     "text": [
      "/tmp/ipykernel_7631/783617641.py:6: UserWarning: Creating a tensor from a list of numpy.ndarrays is extremely slow. Please consider converting the list to a single numpy.ndarray with numpy.array() before converting to a tensor. (Triggered internally at  ../torch/csrc/utils/tensor_new.cpp:204.)\n",
      "  action = dqn(torch.Tensor([ob]).to(device)).cpu().numpy()[0]\n"
     ]
    },
    {
     "name": "stdout",
     "output_type": "stream",
     "text": [
      "episodic_return=500.0, episodic_length=500\n"
     ]
    }
   ],
   "source": [
    "run_test_name = f\"test-{run_name}\"\n",
    "test_env = make_env(args.env_id, args.seed, 0, True, run_test_name)()\n",
    "\n",
    "ob = test_env.reset()\n",
    "while True:\n",
    "    action = dqn(torch.Tensor([ob]).to(device)).cpu().numpy()[0]\n",
    "    ob, reward, done, info = test_env.step(action)\n",
    "    if done:\n",
    "        print(f'episodic_return={info[\"episode\"][\"r\"]}, episodic_length={info[\"episode\"][\"l\"]}')\n",
    "        break\n"
   ]
  },
  {
   "cell_type": "markdown",
   "id": "075734a3-6145-43dc-90a9-7fe28d62eb43",
   "metadata": {
    "execution": {
     "iopub.execute_input": "2022-10-04T22:06:05.802908Z",
     "iopub.status.busy": "2022-10-04T22:06:05.802340Z",
     "iopub.status.idle": "2022-10-04T22:06:05.827471Z",
     "shell.execute_reply": "2022-10-04T22:06:05.826771Z",
     "shell.execute_reply.started": "2022-10-04T22:06:05.802857Z"
    }
   },
   "source": [
    "### Display full evaluation"
   ]
  },
  {
   "cell_type": "code",
   "execution_count": 15,
   "id": "d74d7689-6cbd-400e-bb7f-547e9c2d73fa",
   "metadata": {
    "execution": {
     "iopub.execute_input": "2022-10-06T14:00:21.761194Z",
     "iopub.status.busy": "2022-10-06T14:00:21.760856Z",
     "iopub.status.idle": "2022-10-06T14:00:33.733754Z",
     "shell.execute_reply": "2022-10-06T14:00:33.733022Z",
     "shell.execute_reply.started": "2022-10-06T14:00:21.761170Z"
    },
    "tags": []
   },
   "outputs": [
    {
     "name": "stdout",
     "output_type": "stream",
     "text": [
      "Writing frame 500\n",
      "Finalizing...\n",
      "Done.\n"
     ]
    },
    {
     "data": {
      "text/html": [
       "<img src=\"images/test-CartPole-v1__dqn__1__1665064574.gif\" width=\"500\" height=\"500\"/>"
      ],
      "text/plain": [
       "<IPython.core.display.Image object>"
      ]
     },
     "execution_count": 15,
     "metadata": {},
     "output_type": "execute_result"
    }
   ],
   "source": [
    "mp4_path = f\"videos/{run_test_name}/rl-video-episode-0.mp4\"\n",
    "gif_path = f\"images/{run_test_name}.gif\"\n",
    "\n",
    "mp4_to_gif(mp4_path, gif_path)\n",
    "Image(url=gif_path, width=500, height=500)"
   ]
  },
  {
   "cell_type": "code",
   "execution_count": null,
   "id": "145ce381-a373-48bf-b9a6-c17bfe021dfb",
   "metadata": {},
   "outputs": [],
   "source": []
  }
 ],
 "metadata": {
  "kernelspec": {
   "display_name": "Python 3 (ipykernel)",
   "language": "python",
   "name": "python3"
  },
  "language_info": {
   "codemirror_mode": {
    "name": "ipython",
    "version": 3
   },
   "file_extension": ".py",
   "mimetype": "text/x-python",
   "name": "python",
   "nbconvert_exporter": "python",
   "pygments_lexer": "ipython3",
   "version": "3.8.10"
  }
 },
 "nbformat": 4,
 "nbformat_minor": 5
}
