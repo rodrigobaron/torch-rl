{
 "cells": [
  {
   "cell_type": "code",
   "execution_count": 1,
   "id": "b0a0e7fc-4cc1-475d-8955-a72a44d14a69",
   "metadata": {
    "execution": {
     "iopub.execute_input": "2022-10-04T21:31:45.981392Z",
     "iopub.status.busy": "2022-10-04T21:31:45.981016Z",
     "iopub.status.idle": "2022-10-04T21:31:48.325185Z",
     "shell.execute_reply": "2022-10-04T21:31:48.324594Z",
     "shell.execute_reply.started": "2022-10-04T21:31:45.981305Z"
    },
    "tags": []
   },
   "outputs": [
    {
     "name": "stdout",
     "output_type": "stream",
     "text": [
      "Requirement already satisfied: torch in /usr/local/lib/python3.8/dist-packages (from -r requirements.txt (line 1)) (1.12.0)\n",
      "Requirement already satisfied: atari-py==0.2.5 in /usr/local/lib/python3.8/dist-packages (from -r requirements.txt (line 2)) (0.2.5)\n",
      "Requirement already satisfied: gym[accept-rom-license,atari]==0.21.0 in /usr/local/lib/python3.8/dist-packages (from -r requirements.txt (line 3)) (0.21.0)\n",
      "Requirement already satisfied: opencv-python==4.6.0.66 in /usr/local/lib/python3.8/dist-packages (from -r requirements.txt (line 4)) (4.6.0.66)\n",
      "Requirement already satisfied: envpool==0.4.5 in /usr/local/lib/python3.8/dist-packages (from -r requirements.txt (line 5)) (0.4.5)\n",
      "Requirement already satisfied: pyglet==1.5.26 in /usr/local/lib/python3.8/dist-packages (from -r requirements.txt (line 6)) (1.5.26)\n",
      "Requirement already satisfied: stable_baselines3 in /usr/local/lib/python3.8/dist-packages (from -r requirements.txt (line 9)) (1.6.1)\n",
      "Requirement already satisfied: typing-extensions in /usr/local/lib/python3.8/dist-packages (from torch->-r requirements.txt (line 1)) (4.3.0)\n",
      "Requirement already satisfied: numpy in /usr/local/lib/python3.8/dist-packages (from atari-py==0.2.5->-r requirements.txt (line 2)) (1.23.1)\n",
      "Requirement already satisfied: six in /usr/lib/python3/dist-packages (from atari-py==0.2.5->-r requirements.txt (line 2)) (1.14.0)\n",
      "Requirement already satisfied: cloudpickle>=1.2.0 in /usr/local/lib/python3.8/dist-packages (from gym[accept-rom-license,atari]==0.21.0->-r requirements.txt (line 3)) (2.2.0)\n",
      "Requirement already satisfied: autorom[accept-rom-license]~=0.4.2; extra == \"accept-rom-license\" in /usr/local/lib/python3.8/dist-packages (from gym[accept-rom-license,atari]==0.21.0->-r requirements.txt (line 3)) (0.4.2)\n",
      "Requirement already satisfied: ale-py~=0.7.1; extra == \"atari\" in /usr/local/lib/python3.8/dist-packages (from gym[accept-rom-license,atari]==0.21.0->-r requirements.txt (line 3)) (0.7.5)\n",
      "Requirement already satisfied: types-protobuf>=3.17.3 in /usr/local/lib/python3.8/dist-packages (from envpool==0.4.5->-r requirements.txt (line 5)) (3.20.4)\n",
      "Requirement already satisfied: dm-env>=1.4 in /usr/local/lib/python3.8/dist-packages (from envpool==0.4.5->-r requirements.txt (line 5)) (1.5)\n",
      "Requirement already satisfied: pandas in /usr/local/lib/python3.8/dist-packages (from stable_baselines3->-r requirements.txt (line 9)) (1.5.0)\n",
      "Requirement already satisfied: matplotlib in /usr/local/lib/python3.8/dist-packages (from stable_baselines3->-r requirements.txt (line 9)) (3.6.0)\n",
      "Requirement already satisfied: requests in /usr/lib/python3/dist-packages (from autorom[accept-rom-license]~=0.4.2; extra == \"accept-rom-license\"->gym[accept-rom-license,atari]==0.21.0->-r requirements.txt (line 3)) (2.22.0)\n",
      "Requirement already satisfied: tqdm in /usr/local/lib/python3.8/dist-packages (from autorom[accept-rom-license]~=0.4.2; extra == \"accept-rom-license\"->gym[accept-rom-license,atari]==0.21.0->-r requirements.txt (line 3)) (4.64.1)\n",
      "Requirement already satisfied: click in /usr/local/lib/python3.8/dist-packages (from autorom[accept-rom-license]~=0.4.2; extra == \"accept-rom-license\"->gym[accept-rom-license,atari]==0.21.0->-r requirements.txt (line 3)) (8.1.3)\n",
      "Requirement already satisfied: importlib-resources; python_version < \"3.9\" in /usr/local/lib/python3.8/dist-packages (from autorom[accept-rom-license]~=0.4.2; extra == \"accept-rom-license\"->gym[accept-rom-license,atari]==0.21.0->-r requirements.txt (line 3)) (5.9.0)\n",
      "Requirement already satisfied: AutoROM.accept-rom-license; extra == \"accept-rom-license\" in /usr/local/lib/python3.8/dist-packages (from autorom[accept-rom-license]~=0.4.2; extra == \"accept-rom-license\"->gym[accept-rom-license,atari]==0.21.0->-r requirements.txt (line 3)) (0.4.2)\n",
      "Requirement already satisfied: importlib-metadata>=4.10.0; python_version < \"3.10\" in /usr/local/lib/python3.8/dist-packages (from ale-py~=0.7.1; extra == \"atari\"->gym[accept-rom-license,atari]==0.21.0->-r requirements.txt (line 3)) (5.0.0)\n",
      "Requirement already satisfied: absl-py in /usr/local/lib/python3.8/dist-packages (from dm-env>=1.4->envpool==0.4.5->-r requirements.txt (line 5)) (1.2.0)\n",
      "Requirement already satisfied: dm-tree in /usr/local/lib/python3.8/dist-packages (from dm-env>=1.4->envpool==0.4.5->-r requirements.txt (line 5)) (0.1.7)\n",
      "Requirement already satisfied: pytz>=2020.1 in /usr/local/lib/python3.8/dist-packages (from pandas->stable_baselines3->-r requirements.txt (line 9)) (2022.4)\n",
      "Requirement already satisfied: python-dateutil>=2.8.1 in /usr/local/lib/python3.8/dist-packages (from pandas->stable_baselines3->-r requirements.txt (line 9)) (2.8.2)\n",
      "Requirement already satisfied: cycler>=0.10 in /usr/local/lib/python3.8/dist-packages (from matplotlib->stable_baselines3->-r requirements.txt (line 9)) (0.11.0)\n",
      "Requirement already satisfied: kiwisolver>=1.0.1 in /usr/local/lib/python3.8/dist-packages (from matplotlib->stable_baselines3->-r requirements.txt (line 9)) (1.4.4)\n",
      "Requirement already satisfied: fonttools>=4.22.0 in /usr/local/lib/python3.8/dist-packages (from matplotlib->stable_baselines3->-r requirements.txt (line 9)) (4.37.4)\n",
      "Requirement already satisfied: pillow>=6.2.0 in /usr/local/lib/python3.8/dist-packages (from matplotlib->stable_baselines3->-r requirements.txt (line 9)) (9.2.0)\n",
      "Requirement already satisfied: packaging>=20.0 in /usr/local/lib/python3.8/dist-packages (from matplotlib->stable_baselines3->-r requirements.txt (line 9)) (21.3)\n",
      "Requirement already satisfied: contourpy>=1.0.1 in /usr/local/lib/python3.8/dist-packages (from matplotlib->stable_baselines3->-r requirements.txt (line 9)) (1.0.5)\n",
      "Requirement already satisfied: pyparsing>=2.2.1 in /usr/local/lib/python3.8/dist-packages (from matplotlib->stable_baselines3->-r requirements.txt (line 9)) (3.0.9)\n",
      "Requirement already satisfied: zipp>=3.1.0; python_version < \"3.10\" in /usr/local/lib/python3.8/dist-packages (from importlib-resources; python_version < \"3.9\"->autorom[accept-rom-license]~=0.4.2; extra == \"accept-rom-license\"->gym[accept-rom-license,atari]==0.21.0->-r requirements.txt (line 3)) (3.8.1)\n"
     ]
    }
   ],
   "source": [
    "!pip install -r requirements.txt"
   ]
  },
  {
   "cell_type": "code",
   "execution_count": 2,
   "id": "8948c499-3a5a-4e24-9984-849d81fde2c5",
   "metadata": {
    "execution": {
     "iopub.execute_input": "2022-10-04T21:31:48.326930Z",
     "iopub.status.busy": "2022-10-04T21:31:48.326700Z",
     "iopub.status.idle": "2022-10-04T21:31:50.581021Z",
     "shell.execute_reply": "2022-10-04T21:31:50.577999Z",
     "shell.execute_reply.started": "2022-10-04T21:31:48.326905Z"
    }
   },
   "outputs": [
    {
     "name": "stdout",
     "output_type": "stream",
     "text": [
      "Requirement already satisfied: imageio[ffmpeg] in /usr/local/lib/python3.8/dist-packages (2.22.1)\n",
      "Requirement already satisfied: pillow>=8.3.2 in /usr/local/lib/python3.8/dist-packages (from imageio[ffmpeg]) (9.2.0)\n",
      "Requirement already satisfied: numpy in /usr/local/lib/python3.8/dist-packages (from imageio[ffmpeg]) (1.23.1)\n",
      "Requirement already satisfied: psutil; extra == \"ffmpeg\" in /usr/local/lib/python3.8/dist-packages (from imageio[ffmpeg]) (5.9.2)\n",
      "Requirement already satisfied: imageio-ffmpeg; extra == \"ffmpeg\" in /usr/local/lib/python3.8/dist-packages (from imageio[ffmpeg]) (0.4.7)\n"
     ]
    }
   ],
   "source": [
    "!pip install imageio[ffmpeg]"
   ]
  },
  {
   "cell_type": "markdown",
   "id": "eb08f0a9-12b3-495a-b31c-3de241fa906e",
   "metadata": {},
   "source": [
    "## Setup arguments\n",
    "\n",
    "This automatically parse arguments as jupyter inputs making it more user friendly :)"
   ]
  },
  {
   "cell_type": "code",
   "execution_count": 3,
   "id": "d55e070b-7ed3-463f-b04c-90b5cab363d1",
   "metadata": {
    "execution": {
     "iopub.execute_input": "2022-10-04T21:31:50.586442Z",
     "iopub.status.busy": "2022-10-04T21:31:50.585543Z",
     "iopub.status.idle": "2022-10-04T21:31:50.623751Z",
     "shell.execute_reply": "2022-10-04T21:31:50.622723Z",
     "shell.execute_reply.started": "2022-10-04T21:31:50.586349Z"
    },
    "tags": []
   },
   "outputs": [],
   "source": [
    "%load_ext autoreload\n",
    "%autoreload 2"
   ]
  },
  {
   "cell_type": "code",
   "execution_count": 4,
   "id": "04c139fc-ac39-4efa-92da-23e771cbed31",
   "metadata": {
    "execution": {
     "iopub.execute_input": "2022-10-04T21:31:50.625515Z",
     "iopub.status.busy": "2022-10-04T21:31:50.625177Z",
     "iopub.status.idle": "2022-10-04T21:31:51.325834Z",
     "shell.execute_reply": "2022-10-04T21:31:51.325183Z",
     "shell.execute_reply.started": "2022-10-04T21:31:50.625482Z"
    },
    "tags": []
   },
   "outputs": [
    {
     "data": {
      "application/vnd.jupyter.widget-view+json": {
       "model_id": "f5b3761e84524e59986d482aaff322c7",
       "version_major": 2,
       "version_minor": 0
      },
      "text/plain": [
       "IntText(value=1, description='seed', tooltip='seed of the experiment')"
      ]
     },
     "metadata": {},
     "output_type": "display_data"
    },
    {
     "data": {
      "application/vnd.jupyter.widget-view+json": {
       "model_id": "726c72d744a54a41ac5cf4cb352310dd",
       "version_major": 2,
       "version_minor": 0
      },
      "text/plain": [
       "Checkbox(value=True, description='torch-deterministic', indent=False, tooltip='if toggled, `torch.backends.cud…"
      ]
     },
     "metadata": {},
     "output_type": "display_data"
    },
    {
     "data": {
      "application/vnd.jupyter.widget-view+json": {
       "model_id": "5a3b4167c58d4d2c8561b9ef1973e16e",
       "version_major": 2,
       "version_minor": 0
      },
      "text/plain": [
       "Checkbox(value=True, description='cuda', indent=False, tooltip='if toggled, cuda will be enabled by default')"
      ]
     },
     "metadata": {},
     "output_type": "display_data"
    },
    {
     "data": {
      "application/vnd.jupyter.widget-view+json": {
       "model_id": "cddf190b3b4d4d6e871128f52bc6d584",
       "version_major": 2,
       "version_minor": 0
      },
      "text/plain": [
       "Checkbox(value=False, description='capture-video', indent=False, tooltip='whether to capture videos of the age…"
      ]
     },
     "metadata": {},
     "output_type": "display_data"
    },
    {
     "data": {
      "application/vnd.jupyter.widget-view+json": {
       "model_id": "f0656777af2143b5bd312e80822081da",
       "version_major": 2,
       "version_minor": 0
      },
      "text/plain": [
       "Text(value='CartPole-v1', description='env-id', tooltip='the id of the environment')"
      ]
     },
     "metadata": {},
     "output_type": "display_data"
    },
    {
     "data": {
      "application/vnd.jupyter.widget-view+json": {
       "model_id": "1c7d739e294045459139fa7e5297345a",
       "version_major": 2,
       "version_minor": 0
      },
      "text/plain": [
       "IntText(value=500000, description='total-timesteps', tooltip='total timesteps of the experiments')"
      ]
     },
     "metadata": {},
     "output_type": "display_data"
    },
    {
     "data": {
      "application/vnd.jupyter.widget-view+json": {
       "model_id": "f2ba351c6a6e4e05b58a22eca9c3306b",
       "version_major": 2,
       "version_minor": 0
      },
      "text/plain": [
       "FloatText(value=0.00025, description='learning-rate', tooltip='the learning rate of the optimizer')"
      ]
     },
     "metadata": {},
     "output_type": "display_data"
    },
    {
     "data": {
      "application/vnd.jupyter.widget-view+json": {
       "model_id": "daf1a1d2c8e545268263a77e977a7621",
       "version_major": 2,
       "version_minor": 0
      },
      "text/plain": [
       "IntText(value=10000, description='buffer-size', tooltip='the replay memory buffer size')"
      ]
     },
     "metadata": {},
     "output_type": "display_data"
    },
    {
     "data": {
      "application/vnd.jupyter.widget-view+json": {
       "model_id": "7f94f30bdd67430bb9220a811b18708b",
       "version_major": 2,
       "version_minor": 0
      },
      "text/plain": [
       "FloatText(value=0.99, description='gamma', tooltip='the discount factor gamma')"
      ]
     },
     "metadata": {},
     "output_type": "display_data"
    },
    {
     "data": {
      "application/vnd.jupyter.widget-view+json": {
       "model_id": "8937b9de5e7f4b5aab0f177b747d3777",
       "version_major": 2,
       "version_minor": 0
      },
      "text/plain": [
       "IntText(value=500, description='target-network-frequency', tooltip='the timesteps it takes to update the targe…"
      ]
     },
     "metadata": {},
     "output_type": "display_data"
    },
    {
     "data": {
      "application/vnd.jupyter.widget-view+json": {
       "model_id": "398fc7e69a8e4f3c8e2b737a422cc0ba",
       "version_major": 2,
       "version_minor": 0
      },
      "text/plain": [
       "IntText(value=128, description='batch-size', tooltip='the batch size of sample from the reply memory')"
      ]
     },
     "metadata": {},
     "output_type": "display_data"
    },
    {
     "data": {
      "application/vnd.jupyter.widget-view+json": {
       "model_id": "8a43d2d94c1e462694ea7a5a74a382ad",
       "version_major": 2,
       "version_minor": 0
      },
      "text/plain": [
       "FloatText(value=1.0, description='start-e', tooltip='the starting epsilon for exploration')"
      ]
     },
     "metadata": {},
     "output_type": "display_data"
    },
    {
     "data": {
      "application/vnd.jupyter.widget-view+json": {
       "model_id": "84f49203781e40c780dc01c89e61ad7e",
       "version_major": 2,
       "version_minor": 0
      },
      "text/plain": [
       "FloatText(value=0.05, description='end-e', tooltip='the ending epsilon for exploration')"
      ]
     },
     "metadata": {},
     "output_type": "display_data"
    },
    {
     "data": {
      "application/vnd.jupyter.widget-view+json": {
       "model_id": "52e8ad541c0443eda29bde3318d5eed6",
       "version_major": 2,
       "version_minor": 0
      },
      "text/plain": [
       "FloatText(value=0.5, description='exploration-fraction', tooltip='the fraction of `total-timesteps` it takes f…"
      ]
     },
     "metadata": {},
     "output_type": "display_data"
    },
    {
     "data": {
      "application/vnd.jupyter.widget-view+json": {
       "model_id": "4a9f804ba7ed47c4a82b5b4f18e222ab",
       "version_major": 2,
       "version_minor": 0
      },
      "text/plain": [
       "IntText(value=10000, description='learning-starts', tooltip='timestep to start learning')"
      ]
     },
     "metadata": {},
     "output_type": "display_data"
    },
    {
     "data": {
      "application/vnd.jupyter.widget-view+json": {
       "model_id": "5bff242419e54159a2afc070ea13b831",
       "version_major": 2,
       "version_minor": 0
      },
      "text/plain": [
       "IntText(value=10, description='train-frequency', tooltip='the frequency of training')"
      ]
     },
     "metadata": {},
     "output_type": "display_data"
    }
   ],
   "source": [
    "import ipywidgets as widgets\n",
    "from jupyter_utils import WidgetParser\n",
    "\n",
    "import time\n",
    "\n",
    "import torch\n",
    "from utils import seed_everything\n",
    "\n",
    "\n",
    "parser = WidgetParser()\n",
    "parser.add_widget(widgets.IntText(\n",
    "    description='seed',\n",
    "    value=1,\n",
    "    tooltip=\"seed of the experiment\"\n",
    "))\n",
    "\n",
    "parser.add_widget(widgets.Checkbox(\n",
    "    description=\"torch-deterministic\",\n",
    "    value=True,\n",
    "    disabled=False,\n",
    "    indent=False,\n",
    "    tooltip=\"if toggled, `torch.backends.cudnn.deterministic=False`\"\n",
    "))\n",
    "\n",
    "parser.add_widget(widgets.Checkbox(\n",
    "    description=\"cuda\",\n",
    "    value=True,\n",
    "    disabled=False,\n",
    "    indent=False,\n",
    "    tooltip=\"if toggled, cuda will be enabled by default\"\n",
    "))\n",
    "\n",
    "parser.add_widget(widgets.Checkbox(\n",
    "    description=\"capture-video\",\n",
    "    value=False,\n",
    "    disabled=False,\n",
    "    indent=False,\n",
    "    tooltip=\"whether to capture videos of the agent performances (check out `videos` folder)\"\n",
    "))\n",
    "\n",
    "parser.add_widget(widgets.Text(\n",
    "    description=\"env-id\",\n",
    "    value=\"CartPole-v1\",\n",
    "    tooltip=\"the id of the environment\"\n",
    "))\n",
    "\n",
    "parser.add_widget(widgets.IntText(\n",
    "    description='total-timesteps',\n",
    "    value=500000,\n",
    "    tooltip=\"total timesteps of the experiments\"\n",
    "))\n",
    "\n",
    "parser.add_widget(widgets.FloatText(\n",
    "    description='learning-rate',\n",
    "    value=2.5e-4,\n",
    "    tooltip=\"the learning rate of the optimizer\"\n",
    "))\n",
    "\n",
    "parser.add_widget(widgets.IntText(\n",
    "    description='buffer-size',\n",
    "    value=10000,\n",
    "    tooltip=\"the replay memory buffer size\"\n",
    "))\n",
    "\n",
    "parser.add_widget(widgets.FloatText(\n",
    "    description='gamma',\n",
    "    value=0.99,\n",
    "    tooltip=\"the discount factor gamma\"\n",
    "))\n",
    "\n",
    "parser.add_widget(widgets.IntText(\n",
    "    description='target-network-frequency',\n",
    "    value=500,\n",
    "    tooltip=\"the timesteps it takes to update the target network\"\n",
    "))\n",
    "\n",
    "parser.add_widget(widgets.IntText(\n",
    "    description='batch-size',\n",
    "    value=128,\n",
    "    tooltip=\"the batch size of sample from the reply memory\"\n",
    "))\n",
    "\n",
    "parser.add_widget(widgets.FloatText(\n",
    "    description='start-e',\n",
    "    value=1.0,\n",
    "    tooltip=\"the starting epsilon for exploration\"\n",
    "))\n",
    "\n",
    "parser.add_widget(widgets.FloatText(\n",
    "    description='end-e',\n",
    "    value=0.05,\n",
    "    tooltip=\"the ending epsilon for exploration\"\n",
    "))\n",
    "\n",
    "parser.add_widget(widgets.FloatText(\n",
    "    description='exploration-fraction',\n",
    "    value=0.5,\n",
    "    tooltip=\"the fraction of `total-timesteps` it takes from start-e to go end-e\"\n",
    "))\n",
    "\n",
    "parser.add_widget(widgets.IntText(\n",
    "    description='learning-starts',\n",
    "    value=10000,\n",
    "    tooltip=\"timestep to start learning\"\n",
    "))\n",
    "\n",
    "parser.add_widget(widgets.IntText(\n",
    "    description='train-frequency',\n",
    "    value=10,\n",
    "    tooltip=\"the frequency of training\"\n",
    "))\n"
   ]
  },
  {
   "cell_type": "markdown",
   "id": "f93fd2dc-1acd-4a98-85ab-40141ecff47b",
   "metadata": {},
   "source": [
    "### Get and parse inputs"
   ]
  },
  {
   "cell_type": "code",
   "execution_count": 5,
   "id": "9081e3e1-623c-40d0-9eb2-ecf339fa0328",
   "metadata": {
    "execution": {
     "iopub.execute_input": "2022-10-04T21:31:51.327083Z",
     "iopub.status.busy": "2022-10-04T21:31:51.326793Z",
     "iopub.status.idle": "2022-10-04T21:31:51.341041Z",
     "shell.execute_reply": "2022-10-04T21:31:51.340403Z",
     "shell.execute_reply.started": "2022-10-04T21:31:51.327062Z"
    },
    "tags": []
   },
   "outputs": [
    {
     "name": "stdout",
     "output_type": "stream",
     "text": [
      "|param|value|\n",
      "|-|-|\n",
      "|seed|1|\n",
      "|torch_deterministic|True|\n",
      "|cuda|True|\n",
      "|capture_video|False|\n",
      "|env_id|CartPole-v1|\n",
      "|total_timesteps|500000|\n",
      "|learning_rate|0.00025|\n",
      "|buffer_size|10000|\n",
      "|gamma|0.99|\n",
      "|target_network_frequency|500|\n",
      "|batch_size|128|\n",
      "|start_e|1.0|\n",
      "|end_e|0.05|\n",
      "|exploration_fraction|0.5|\n",
      "|learning_starts|10000|\n",
      "|train_frequency|10|\n"
     ]
    }
   ],
   "source": [
    "args = parser.parse()\n",
    "print(\"|param|value|\\n|-|-|\\n%s\" % (\"\\n\".join([f\"|{key}|{value}|\" for key, value in vars(args).items()])))"
   ]
  },
  {
   "cell_type": "code",
   "execution_count": 6,
   "id": "1b417f3a-206d-4624-85fb-62789374bb76",
   "metadata": {
    "execution": {
     "iopub.execute_input": "2022-10-04T21:31:51.342230Z",
     "iopub.status.busy": "2022-10-04T21:31:51.341936Z",
     "iopub.status.idle": "2022-10-04T21:31:51.355970Z",
     "shell.execute_reply": "2022-10-04T21:31:51.355294Z",
     "shell.execute_reply.started": "2022-10-04T21:31:51.342209Z"
    },
    "tags": []
   },
   "outputs": [],
   "source": [
    "run_name = f\"{args.env_id}__dqn__{args.seed}__{int(time.time())}\" \n",
    "device = torch.device(\"cuda\" if torch.cuda.is_available() and args.cuda else \"cpu\")\n",
    "seed_everything(args.seed, args.torch_deterministic)"
   ]
  },
  {
   "cell_type": "markdown",
   "id": "49de7812-47cd-4b73-a015-fa3bc6decb72",
   "metadata": {},
   "source": [
    "## Setup environment\n",
    "\n",
    "Use environment wrappers to record statistics and seed for experiment reproducibility."
   ]
  },
  {
   "cell_type": "code",
   "execution_count": 7,
   "id": "eebc8f65-d3ba-40f5-8c0e-a6486e3e5074",
   "metadata": {
    "execution": {
     "iopub.execute_input": "2022-10-04T21:31:51.358355Z",
     "iopub.status.busy": "2022-10-04T21:31:51.358102Z",
     "iopub.status.idle": "2022-10-04T21:31:51.519869Z",
     "shell.execute_reply": "2022-10-04T21:31:51.519187Z",
     "shell.execute_reply.started": "2022-10-04T21:31:51.358332Z"
    },
    "tags": []
   },
   "outputs": [],
   "source": [
    "import time\n",
    "import gym\n",
    "import random\n",
    "\n",
    "import numpy as np\n",
    "import torch\n",
    "import torch.nn as nn\n",
    "import torch.nn.functional as F\n",
    "import torch.optim as optim\n",
    "\n",
    "\n",
    "\n",
    "\n",
    "def make_env(env_id, seed, idx, capture_video, run_name):\n",
    "    def thunk():\n",
    "        env = gym.make(env_id)\n",
    "        env = gym.wrappers.RecordEpisodeStatistics(env)\n",
    "        if capture_video:\n",
    "            if idx == 0:\n",
    "                env = gym.wrappers.RecordVideo(env, f\"videos/{run_name}\")\n",
    "        env.seed(seed)\n",
    "        env.action_space.seed(seed)\n",
    "        env.observation_space.seed(seed)\n",
    "        return env\n",
    "\n",
    "    return thunk"
   ]
  },
  {
   "cell_type": "markdown",
   "id": "72fffc90-d838-4b3d-96f0-683ea7ddd01d",
   "metadata": {},
   "source": [
    "### Ensure environement compatibility\n",
    "\n",
    "This works only with discrete action space."
   ]
  },
  {
   "cell_type": "code",
   "execution_count": 8,
   "id": "cb7cba57-366e-412e-8eb6-42b9c7fec5ad",
   "metadata": {
    "execution": {
     "iopub.execute_input": "2022-10-04T21:31:51.520928Z",
     "iopub.status.busy": "2022-10-04T21:31:51.520711Z",
     "iopub.status.idle": "2022-10-04T21:31:51.538899Z",
     "shell.execute_reply": "2022-10-04T21:31:51.538251Z",
     "shell.execute_reply.started": "2022-10-04T21:31:51.520909Z"
    },
    "tags": []
   },
   "outputs": [],
   "source": [
    "envs = gym.vector.SyncVectorEnv([make_env(args.env_id, args.seed, 0, args.capture_video, run_name)])\n",
    "assert isinstance(envs.single_action_space, gym.spaces.Discrete), \"only discrete action space is supported\""
   ]
  },
  {
   "cell_type": "markdown",
   "id": "6d229b6b-efac-43bd-818f-74c15f118f9b",
   "metadata": {
    "execution": {
     "iopub.execute_input": "2022-10-03T03:17:34.254488Z",
     "iopub.status.busy": "2022-10-03T03:17:34.254047Z",
     "iopub.status.idle": "2022-10-03T03:17:34.270359Z",
     "shell.execute_reply": "2022-10-03T03:17:34.269512Z",
     "shell.execute_reply.started": "2022-10-03T03:17:34.254464Z"
    }
   },
   "source": [
    "### Show examples\n",
    "\n",
    "Show few env steps and the transformation input.."
   ]
  },
  {
   "cell_type": "code",
   "execution_count": 9,
   "id": "f888da2e-94d1-4af7-992d-4e45face59bb",
   "metadata": {
    "execution": {
     "iopub.execute_input": "2022-10-04T21:31:51.539920Z",
     "iopub.status.busy": "2022-10-04T21:31:51.539680Z",
     "iopub.status.idle": "2022-10-04T21:31:52.412553Z",
     "shell.execute_reply": "2022-10-04T21:31:52.411805Z",
     "shell.execute_reply.started": "2022-10-04T21:31:51.539901Z"
    },
    "tags": []
   },
   "outputs": [
    {
     "data": {
      "image/png": "[encoded data removed]",
      "text/plain": [
       "<Figure size 640x480 with 1 Axes>"
      ]
     },
     "metadata": {},
     "output_type": "display_data"
    }
   ],
   "source": [
    "import matplotlib.pyplot as plt\n",
    "%matplotlib inline\n",
    "\n",
    "tmp_env = make_env(args.env_id, args.seed, 0, False, None)()\n",
    "ob = tmp_env.reset()\n",
    "\n",
    "plt.title(args.env_id)\n",
    "plt.imshow(tmp_env.render(\"rgb_array\"))\n",
    "plt.axis('off')\n",
    "plt.show()"
   ]
  },
  {
   "cell_type": "code",
   "execution_count": 10,
   "id": "1546dbcd-5820-40df-9b7d-528b791659ed",
   "metadata": {
    "execution": {
     "iopub.execute_input": "2022-10-04T21:31:52.413936Z",
     "iopub.status.busy": "2022-10-04T21:31:52.413623Z",
     "iopub.status.idle": "2022-10-04T21:31:52.433724Z",
     "shell.execute_reply": "2022-10-04T21:31:52.432981Z",
     "shell.execute_reply.started": "2022-10-04T21:31:52.413913Z"
    },
    "tags": []
   },
   "outputs": [
    {
     "data": {
      "text/plain": [
       "(1, array([ 0.03076804,  0.19700098, -0.03151444, -0.33357874], dtype=float32))"
      ]
     },
     "execution_count": 10,
     "metadata": {},
     "output_type": "execute_result"
    }
   ],
   "source": [
    "action = tmp_env.action_space.sample()\n",
    "ob, reward, done, info = tmp_env.step(action)\n",
    "action, ob"
   ]
  },
  {
   "cell_type": "markdown",
   "id": "dbff4d3f-31f5-4dd6-91fe-088bc6252fd0",
   "metadata": {},
   "source": [
    "## Modeling"
   ]
  },
  {
   "cell_type": "markdown",
   "id": "441336c2-97c3-49c9-b12a-21cfd4a06df3",
   "metadata": {},
   "source": [
    "### Define Neural Network\n",
    "\n",
    "The neural network to encode the observations and produce actions."
   ]
  },
  {
   "cell_type": "code",
   "execution_count": 11,
   "id": "ba819a6e-0552-4d22-bcca-768c22651999",
   "metadata": {
    "execution": {
     "iopub.execute_input": "2022-10-04T21:31:52.434964Z",
     "iopub.status.busy": "2022-10-04T21:31:52.434695Z",
     "iopub.status.idle": "2022-10-04T21:31:52.452948Z",
     "shell.execute_reply": "2022-10-04T21:31:52.452095Z",
     "shell.execute_reply.started": "2022-10-04T21:31:52.434944Z"
    }
   },
   "outputs": [],
   "source": [
    "class QNetwork(nn.Module):\n",
    "    def __init__(self, env):\n",
    "        super().__init__()\n",
    "        self.network = nn.Sequential(\n",
    "            nn.Linear(np.array(env.single_observation_space.shape).prod(), 120),\n",
    "            nn.ReLU(),\n",
    "            nn.Linear(120, 84),\n",
    "            nn.ReLU(),\n",
    "            nn.Linear(84, env.single_action_space.n),\n",
    "        )\n",
    "\n",
    "    def forward(self, x):\n",
    "        return self.network(x)"
   ]
  },
  {
   "cell_type": "markdown",
   "id": "398bf469-74ef-4f94-9218-8a94369e5f70",
   "metadata": {},
   "source": [
    "### DQN training Wrapper\n",
    "\n",
    "Setup QNetwork and TargetNetwork along with ReplayBuffer, Optimization and schedules.."
   ]
  },
  {
   "cell_type": "code",
   "execution_count": 12,
   "id": "b09d21e9-a479-4470-ae1d-24ff5b806b48",
   "metadata": {
    "execution": {
     "iopub.execute_input": "2022-10-04T21:31:52.454353Z",
     "iopub.status.busy": "2022-10-04T21:31:52.454066Z",
     "iopub.status.idle": "2022-10-04T21:31:52.470115Z",
     "shell.execute_reply": "2022-10-04T21:31:52.469495Z",
     "shell.execute_reply.started": "2022-10-04T21:31:52.454334Z"
    }
   },
   "outputs": [],
   "source": [
    "def linear_schedule(start_e: float, end_e: float, duration: int, t: int):\n",
    "    slope = (end_e - start_e) / duration\n",
    "    return max(slope * t + start_e, end_e)"
   ]
  },
  {
   "cell_type": "code",
   "execution_count": 13,
   "id": "b44085d8-b1d6-47a6-9c8a-11af1566a1e0",
   "metadata": {
    "execution": {
     "iopub.execute_input": "2022-10-04T21:31:52.471164Z",
     "iopub.status.busy": "2022-10-04T21:31:52.470858Z",
     "iopub.status.idle": "2022-10-04T21:31:54.096527Z",
     "shell.execute_reply": "2022-10-04T21:31:54.095857Z",
     "shell.execute_reply.started": "2022-10-04T21:31:52.471143Z"
    },
    "tags": []
   },
   "outputs": [],
   "source": [
    "from dqn import DQN, DQNTrainingWrapper\n",
    "\n",
    "\n",
    "dqn = DQN(\n",
    "    model_func=lambda: QNetwork(envs),\n",
    "    device=device\n",
    ")\n",
    "\n",
    "wrapper = DQNTrainingWrapper(\n",
    "    model = dqn,\n",
    "    env=envs,\n",
    "    device=device\n",
    ")\n",
    "\n",
    "optimizer = wrapper.get_optimizer(lr=1e-3)\n",
    "\n",
    "rb = wrapper.get_replay_buffer(\n",
    "    buffer_size=args.buffer_size,\n",
    "    optimize_memory_usage=True\n",
    ")"
   ]
  },
  {
   "cell_type": "markdown",
   "id": "ce5fbef7-e6ed-4a75-8874-2c22e784abbe",
   "metadata": {},
   "source": [
    "### DQN training loop"
   ]
  },
  {
   "cell_type": "code",
   "execution_count": 14,
   "id": "684d7d00-db34-41d0-851a-e1f0ff1705e0",
   "metadata": {
    "execution": {
     "iopub.execute_input": "2022-10-04T21:31:54.097776Z",
     "iopub.status.busy": "2022-10-04T21:31:54.097465Z",
     "iopub.status.idle": "2022-10-04T21:35:39.448586Z",
     "shell.execute_reply": "2022-10-04T21:35:39.447938Z",
     "shell.execute_reply.started": "2022-10-04T21:31:54.097756Z"
    },
    "tags": []
   },
   "outputs": [
    {
     "data": {
      "application/vnd.jupyter.widget-view+json": {
       "model_id": "d5bcd931cc804cf58c387cda27fb725b",
       "version_major": 2,
       "version_minor": 0
      },
      "text/plain": [
       "DiscreteDQN training:   0%|          | 0/500000 [00:00<?, ?step/s]"
      ]
     },
     "metadata": {},
     "output_type": "display_data"
    }
   ],
   "source": [
    "from tqdm.notebook import tqdm_notebook\n",
    "\n",
    "\n",
    "pbar = tqdm_notebook(range(args.total_timesteps), desc=\"DiscreteDQN training\", unit=\"step\")\n",
    "obs = envs.reset()\n",
    "for global_step in pbar:\n",
    "    epsilon = linear_schedule(\n",
    "        args.start_e,\n",
    "        args.end_e,\n",
    "        args.exploration_fraction * args.total_timesteps,\n",
    "        global_step\n",
    "    )\n",
    "\n",
    "    if random.random() < epsilon:\n",
    "        actions = np.array([envs.single_action_space.sample()\n",
    "                            for _ in range(envs.num_envs)])\n",
    "    else:\n",
    "        actions = dqn(torch.Tensor(obs).to(device)).cpu().numpy()\n",
    "\n",
    "    obs, env_infos = wrapper.env_step(obs, actions, rb)\n",
    "\n",
    "    for info in env_infos:\n",
    "        if \"episode\" in info.keys():\n",
    "            pbar.set_postfix(\n",
    "                episodic_return=info[\"episode\"][\"r\"],\n",
    "                episodic_length=info[\"episode\"][\"l\"]\n",
    "            )\n",
    "            break\n",
    "\n",
    "    if global_step > args.learning_starts and global_step % args.train_frequency == 0:\n",
    "        data = rb.sample(args.batch_size)\n",
    "        q_values, loss = dqn.train_step(data, gamma=args.gamma)\n",
    "\n",
    "        # if global_step % 100 == 0:\n",
    "        #     pbar.set_postfix(loss=loss)\n",
    "        #     pbar.set_postfix(q_values=q_values.mean().item())\n",
    "\n",
    "        optimizer.zero_grad()\n",
    "        loss.backward()\n",
    "        optimizer.step()\n",
    "\n",
    "        if global_step % args.target_network_frequency == 0:\n",
    "            dqn.update_target_network()\n",
    "envs.close()"
   ]
  },
  {
   "cell_type": "markdown",
   "id": "bd5908d7-ddb1-4f54-bebc-280b7e438fbf",
   "metadata": {},
   "source": [
    "## Evaluation"
   ]
  },
  {
   "cell_type": "code",
   "execution_count": 22,
   "id": "becc5b71-4e81-448b-bc84-6e6c823a2bf5",
   "metadata": {
    "execution": {
     "iopub.execute_input": "2022-10-04T21:37:02.421052Z",
     "iopub.status.busy": "2022-10-04T21:37:02.420119Z",
     "iopub.status.idle": "2022-10-04T21:37:06.133878Z",
     "shell.execute_reply": "2022-10-04T21:37:06.133127Z",
     "shell.execute_reply.started": "2022-10-04T21:37:02.420957Z"
    },
    "tags": []
   },
   "outputs": [
    {
     "name": "stdout",
     "output_type": "stream",
     "text": [
      "episodic_return=500.0, episodic_length=500\n"
     ]
    }
   ],
   "source": [
    "test_env = make_env(args.env_id, args.seed, 0, True, 'dqn_test')()\n",
    "\n",
    "ob = test_env.reset()\n",
    "while True:\n",
    "    action = dqn(torch.Tensor([ob]).to(device)).cpu().numpy()[0]\n",
    "    ob, reward, done, info = test_env.step(action)\n",
    "    if done:\n",
    "        print(f'episodic_return={info[\"episode\"][\"r\"]}, episodic_length={info[\"episode\"][\"l\"]}')\n",
    "        break\n"
   ]
  },
  {
   "cell_type": "code",
   "execution_count": 46,
   "id": "e8aa6867-0a79-4f22-b32b-25ed01d8fcaf",
   "metadata": {
    "execution": {
     "iopub.execute_input": "2022-10-04T21:55:59.760708Z",
     "iopub.status.busy": "2022-10-04T21:55:59.759773Z",
     "iopub.status.idle": "2022-10-04T21:56:11.865439Z",
     "shell.execute_reply": "2022-10-04T21:56:11.864568Z",
     "shell.execute_reply.started": "2022-10-04T21:55:59.760613Z"
    },
    "tags": []
   },
   "outputs": [
    {
     "name": "stdout",
     "output_type": "stream",
     "text": [
      "Writing frame 500\n",
      "Finalizing...\n",
      "Done.\n"
     ]
    }
   ],
   "source": [
    "import imageio\n",
    "import os, sys\n",
    "\n",
    "\n",
    "def mp4_to_gif(mp4_path, gif_path):\n",
    "    os.makedirs(os.path.dirname(gif_path), exist_ok=True)\n",
    "    reader = imageio.get_reader(mp4_path)\n",
    "    fps = reader.get_meta_data()['fps']\n",
    "    writer = imageio.get_writer(gif_path, fps=fps)\n",
    "    for i,im in enumerate(reader):\n",
    "        sys.stdout.write(f\"\\rWriting frame {i}\")\n",
    "        sys.stdout.flush()\n",
    "        writer.append_data(im)\n",
    "    print(\"\\r\\nFinalizing...\")\n",
    "    writer.close()\n",
    "    print(\"Done.\")\n",
    "mp4_to_gif(\"videos/dqn_test/rl-video-episode-0.mp4\", \"images/dqn_test.gif\")"
   ]
  },
  {
   "cell_type": "code",
   "execution_count": 47,
   "id": "d74d7689-6cbd-400e-bb7f-547e9c2d73fa",
   "metadata": {
    "execution": {
     "iopub.execute_input": "2022-10-04T21:56:30.214707Z",
     "iopub.status.busy": "2022-10-04T21:56:30.213730Z",
     "iopub.status.idle": "2022-10-04T21:56:30.269664Z",
     "shell.execute_reply": "2022-10-04T21:56:30.268858Z",
     "shell.execute_reply.started": "2022-10-04T21:56:30.214610Z"
    },
    "tags": []
   },
   "outputs": [
    {
     "data": {
      "text/html": [
       "<img src=\"images/dqn_test.gif\" width=\"500\" height=\"500\"/>"
      ],
      "text/plain": [
       "<IPython.core.display.Image object>"
      ]
     },
     "execution_count": 47,
     "metadata": {},
     "output_type": "execute_result"
    }
   ],
   "source": [
    "from IPython.display import Image\n",
    "\n",
    "Image(url= \"images/dqn_test.gif\", width=500, height=500)"
   ]
  },
  {
   "cell_type": "code",
   "execution_count": null,
   "id": "c6d6b004-4194-45ba-84c8-6719851e4ea8",
   "metadata": {},
   "outputs": [],
   "source": []
  }
 ],
 "metadata": {
  "kernelspec": {
   "display_name": "Python 3 (ipykernel)",
   "language": "python",
   "name": "python3"
  },
  "language_info": {
   "codemirror_mode": {
    "name": "ipython",
    "version": 3
   },
   "file_extension": ".py",
   "mimetype": "text/x-python",
   "name": "python",
   "nbconvert_exporter": "python",
   "pygments_lexer": "ipython3",
   "version": "3.8.10"
  }
 },
 "nbformat": 4,
 "nbformat_minor": 5
}
